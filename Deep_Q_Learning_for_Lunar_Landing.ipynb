{
  "cells": [
    {
      "cell_type": "markdown",
      "metadata": {
        "id": "view-in-github",
        "colab_type": "text"
      },
      "source": [
        "<a href=\"https://colab.research.google.com/github/Rriswana/Lunar_Lander_/blob/main/Deep_Q_Learning_for_Lunar_Landing.ipynb\" target=\"_parent\"><img src=\"https://colab.research.google.com/assets/colab-badge.svg\" alt=\"Open In Colab\"/></a>"
      ]
    },
    {
      "cell_type": "markdown",
      "metadata": {
        "id": "LbZcI9ZXHl3a"
      },
      "source": [
        "# Deep Q-Learning for Lunar Landing"
      ]
    },
    {
      "cell_type": "markdown",
      "metadata": {
        "id": "E8yPRjteXgPb"
      },
      "source": [
        "## Part 0 - Installing the required packages and importing the libraries"
      ]
    },
    {
      "cell_type": "markdown",
      "metadata": {
        "id": "slEm5teGWjWU"
      },
      "source": [
        "### Installing Gymnasium"
      ]
    },
    {
      "cell_type": "code",
      "execution_count": 1,
      "metadata": {
        "id": "dbnq3XpoKa_7",
        "colab": {
          "base_uri": "https://localhost:8080/"
        },
        "outputId": "2d761457-2b77-4ad8-aa2b-86adfc6c4bf9"
      },
      "outputs": [
        {
          "output_type": "stream",
          "name": "stdout",
          "text": [
            "Collecting gymnasium\n",
            "  Downloading gymnasium-0.29.1-py3-none-any.whl (953 kB)\n",
            "\u001b[?25l     \u001b[90m━━━━━━━━━━━━━━━━━━━━━━━━━━━━━━━━━━━━━━━━\u001b[0m \u001b[32m0.0/953.9 kB\u001b[0m \u001b[31m?\u001b[0m eta \u001b[36m-:--:--\u001b[0m\r\u001b[2K     \u001b[91m━━━━━━━━━\u001b[0m\u001b[91m╸\u001b[0m\u001b[90m━━━━━━━━━━━━━━━━━━━━━━━━━━━━━━\u001b[0m \u001b[32m235.5/953.9 kB\u001b[0m \u001b[31m6.9 MB/s\u001b[0m eta \u001b[36m0:00:01\u001b[0m\r\u001b[2K     \u001b[91m━━━━━━━━━━━━━━━━━━━━━━━━━━━━━━━\u001b[0m\u001b[90m╺\u001b[0m\u001b[90m━━━━━━━━\u001b[0m \u001b[32m747.5/953.9 kB\u001b[0m \u001b[31m10.7 MB/s\u001b[0m eta \u001b[36m0:00:01\u001b[0m\r\u001b[2K     \u001b[90m━━━━━━━━━━━━━━━━━━━━━━━━━━━━━━━━━━━━━━━━\u001b[0m \u001b[32m953.9/953.9 kB\u001b[0m \u001b[31m9.8 MB/s\u001b[0m eta \u001b[36m0:00:00\u001b[0m\n",
            "\u001b[?25hRequirement already satisfied: numpy>=1.21.0 in /usr/local/lib/python3.10/dist-packages (from gymnasium) (1.25.2)\n",
            "Requirement already satisfied: cloudpickle>=1.2.0 in /usr/local/lib/python3.10/dist-packages (from gymnasium) (2.2.1)\n",
            "Requirement already satisfied: typing-extensions>=4.3.0 in /usr/local/lib/python3.10/dist-packages (from gymnasium) (4.10.0)\n",
            "Collecting farama-notifications>=0.0.1 (from gymnasium)\n",
            "  Downloading Farama_Notifications-0.0.4-py3-none-any.whl (2.5 kB)\n",
            "Installing collected packages: farama-notifications, gymnasium\n",
            "Successfully installed farama-notifications-0.0.4 gymnasium-0.29.1\n",
            "Requirement already satisfied: gymnasium[accept-rom-license,atari] in /usr/local/lib/python3.10/dist-packages (0.29.1)\n",
            "Requirement already satisfied: numpy>=1.21.0 in /usr/local/lib/python3.10/dist-packages (from gymnasium[accept-rom-license,atari]) (1.25.2)\n",
            "Requirement already satisfied: cloudpickle>=1.2.0 in /usr/local/lib/python3.10/dist-packages (from gymnasium[accept-rom-license,atari]) (2.2.1)\n",
            "Requirement already satisfied: typing-extensions>=4.3.0 in /usr/local/lib/python3.10/dist-packages (from gymnasium[accept-rom-license,atari]) (4.10.0)\n",
            "Requirement already satisfied: farama-notifications>=0.0.1 in /usr/local/lib/python3.10/dist-packages (from gymnasium[accept-rom-license,atari]) (0.0.4)\n",
            "Collecting autorom[accept-rom-license]~=0.4.2 (from gymnasium[accept-rom-license,atari])\n",
            "  Downloading AutoROM-0.4.2-py3-none-any.whl (16 kB)\n",
            "Collecting shimmy[atari]<1.0,>=0.1.0 (from gymnasium[accept-rom-license,atari])\n",
            "  Downloading Shimmy-0.2.1-py3-none-any.whl (25 kB)\n",
            "Requirement already satisfied: click in /usr/local/lib/python3.10/dist-packages (from autorom[accept-rom-license]~=0.4.2->gymnasium[accept-rom-license,atari]) (8.1.7)\n",
            "Requirement already satisfied: requests in /usr/local/lib/python3.10/dist-packages (from autorom[accept-rom-license]~=0.4.2->gymnasium[accept-rom-license,atari]) (2.31.0)\n",
            "Requirement already satisfied: tqdm in /usr/local/lib/python3.10/dist-packages (from autorom[accept-rom-license]~=0.4.2->gymnasium[accept-rom-license,atari]) (4.66.2)\n",
            "Collecting AutoROM.accept-rom-license (from autorom[accept-rom-license]~=0.4.2->gymnasium[accept-rom-license,atari])\n",
            "  Downloading AutoROM.accept-rom-license-0.6.1.tar.gz (434 kB)\n",
            "\u001b[2K     \u001b[90m━━━━━━━━━━━━━━━━━━━━━━━━━━━━━━━━━━━━━━━━\u001b[0m \u001b[32m434.7/434.7 kB\u001b[0m \u001b[31m6.1 MB/s\u001b[0m eta \u001b[36m0:00:00\u001b[0m\n",
            "\u001b[?25h  Installing build dependencies ... \u001b[?25l\u001b[?25hdone\n",
            "  Getting requirements to build wheel ... \u001b[?25l\u001b[?25hdone\n",
            "  Preparing metadata (pyproject.toml) ... \u001b[?25l\u001b[?25hdone\n",
            "Collecting ale-py~=0.8.1 (from shimmy[atari]<1.0,>=0.1.0->gymnasium[accept-rom-license,atari])\n",
            "  Downloading ale_py-0.8.1-cp310-cp310-manylinux_2_17_x86_64.manylinux2014_x86_64.whl (1.7 MB)\n",
            "\u001b[2K     \u001b[90m━━━━━━━━━━━━━━━━━━━━━━━━━━━━━━━━━━━━━━━━\u001b[0m \u001b[32m1.7/1.7 MB\u001b[0m \u001b[31m13.2 MB/s\u001b[0m eta \u001b[36m0:00:00\u001b[0m\n",
            "\u001b[?25hRequirement already satisfied: importlib-resources in /usr/local/lib/python3.10/dist-packages (from ale-py~=0.8.1->shimmy[atari]<1.0,>=0.1.0->gymnasium[accept-rom-license,atari]) (6.1.2)\n",
            "Requirement already satisfied: charset-normalizer<4,>=2 in /usr/local/lib/python3.10/dist-packages (from requests->autorom[accept-rom-license]~=0.4.2->gymnasium[accept-rom-license,atari]) (3.3.2)\n",
            "Requirement already satisfied: idna<4,>=2.5 in /usr/local/lib/python3.10/dist-packages (from requests->autorom[accept-rom-license]~=0.4.2->gymnasium[accept-rom-license,atari]) (3.6)\n",
            "Requirement already satisfied: urllib3<3,>=1.21.1 in /usr/local/lib/python3.10/dist-packages (from requests->autorom[accept-rom-license]~=0.4.2->gymnasium[accept-rom-license,atari]) (2.0.7)\n",
            "Requirement already satisfied: certifi>=2017.4.17 in /usr/local/lib/python3.10/dist-packages (from requests->autorom[accept-rom-license]~=0.4.2->gymnasium[accept-rom-license,atari]) (2024.2.2)\n",
            "Building wheels for collected packages: AutoROM.accept-rom-license\n",
            "  Building wheel for AutoROM.accept-rom-license (pyproject.toml) ... \u001b[?25l\u001b[?25hdone\n",
            "  Created wheel for AutoROM.accept-rom-license: filename=AutoROM.accept_rom_license-0.6.1-py3-none-any.whl size=446660 sha256=bc27360b024a8fd7d9bb3773e592112276339c4fd0315866a116c13d0c058d3e\n",
            "  Stored in directory: /root/.cache/pip/wheels/6b/1b/ef/a43ff1a2f1736d5711faa1ba4c1f61be1131b8899e6a057811\n",
            "Successfully built AutoROM.accept-rom-license\n",
            "Installing collected packages: ale-py, shimmy, AutoROM.accept-rom-license, autorom\n",
            "Successfully installed AutoROM.accept-rom-license-0.6.1 ale-py-0.8.1 autorom-0.4.2 shimmy-0.2.1\n",
            "Reading package lists... Done\n",
            "Building dependency tree... Done\n",
            "Reading state information... Done\n",
            "The following additional packages will be installed:\n",
            "  swig4.0\n",
            "Suggested packages:\n",
            "  swig-doc swig-examples swig4.0-examples swig4.0-doc\n",
            "The following NEW packages will be installed:\n",
            "  swig swig4.0\n",
            "0 upgraded, 2 newly installed, 0 to remove and 35 not upgraded.\n",
            "Need to get 1,116 kB of archives.\n",
            "After this operation, 5,542 kB of additional disk space will be used.\n",
            "Get:1 http://archive.ubuntu.com/ubuntu jammy/universe amd64 swig4.0 amd64 4.0.2-1ubuntu1 [1,110 kB]\n",
            "Get:2 http://archive.ubuntu.com/ubuntu jammy/universe amd64 swig all 4.0.2-1ubuntu1 [5,632 B]\n",
            "Fetched 1,116 kB in 1s (1,715 kB/s)\n",
            "Selecting previously unselected package swig4.0.\n",
            "(Reading database ... 121749 files and directories currently installed.)\n",
            "Preparing to unpack .../swig4.0_4.0.2-1ubuntu1_amd64.deb ...\n",
            "Unpacking swig4.0 (4.0.2-1ubuntu1) ...\n",
            "Selecting previously unselected package swig.\n",
            "Preparing to unpack .../swig_4.0.2-1ubuntu1_all.deb ...\n",
            "Unpacking swig (4.0.2-1ubuntu1) ...\n",
            "Setting up swig4.0 (4.0.2-1ubuntu1) ...\n",
            "Setting up swig (4.0.2-1ubuntu1) ...\n",
            "Processing triggers for man-db (2.10.2-1) ...\n",
            "Requirement already satisfied: gymnasium[box2d] in /usr/local/lib/python3.10/dist-packages (0.29.1)\n",
            "Requirement already satisfied: numpy>=1.21.0 in /usr/local/lib/python3.10/dist-packages (from gymnasium[box2d]) (1.25.2)\n",
            "Requirement already satisfied: cloudpickle>=1.2.0 in /usr/local/lib/python3.10/dist-packages (from gymnasium[box2d]) (2.2.1)\n",
            "Requirement already satisfied: typing-extensions>=4.3.0 in /usr/local/lib/python3.10/dist-packages (from gymnasium[box2d]) (4.10.0)\n",
            "Requirement already satisfied: farama-notifications>=0.0.1 in /usr/local/lib/python3.10/dist-packages (from gymnasium[box2d]) (0.0.4)\n",
            "Collecting box2d-py==2.3.5 (from gymnasium[box2d])\n",
            "  Downloading box2d-py-2.3.5.tar.gz (374 kB)\n",
            "\u001b[2K     \u001b[90m━━━━━━━━━━━━━━━━━━━━━━━━━━━━━━━━━━━━━━━━\u001b[0m \u001b[32m374.4/374.4 kB\u001b[0m \u001b[31m7.3 MB/s\u001b[0m eta \u001b[36m0:00:00\u001b[0m\n",
            "\u001b[?25h  Preparing metadata (setup.py) ... \u001b[?25l\u001b[?25hdone\n",
            "Requirement already satisfied: pygame>=2.1.3 in /usr/local/lib/python3.10/dist-packages (from gymnasium[box2d]) (2.5.2)\n",
            "Collecting swig==4.* (from gymnasium[box2d])\n",
            "  Downloading swig-4.2.1-py2.py3-none-manylinux_2_5_x86_64.manylinux1_x86_64.whl (1.9 MB)\n",
            "\u001b[2K     \u001b[90m━━━━━━━━━━━━━━━━━━━━━━━━━━━━━━━━━━━━━━━━\u001b[0m \u001b[32m1.9/1.9 MB\u001b[0m \u001b[31m16.7 MB/s\u001b[0m eta \u001b[36m0:00:00\u001b[0m\n",
            "\u001b[?25hBuilding wheels for collected packages: box2d-py\n",
            "  Building wheel for box2d-py (setup.py) ... \u001b[?25l\u001b[?25hdone\n",
            "  Created wheel for box2d-py: filename=box2d_py-2.3.5-cp310-cp310-linux_x86_64.whl size=2349113 sha256=c457466877a8d30a91403b4bac26007eeb8342dfae9ae360c9a80432cd753608\n",
            "  Stored in directory: /root/.cache/pip/wheels/db/8f/6a/eaaadf056fba10a98d986f6dce954e6201ba3126926fc5ad9e\n",
            "Successfully built box2d-py\n",
            "Installing collected packages: swig, box2d-py\n",
            "Successfully installed box2d-py-2.3.5 swig-4.2.1\n"
          ]
        }
      ],
      "source": [
        "!pip install gymnasium\n",
        "!pip install \"gymnasium[atari, accept-rom-license]\"\n",
        "!apt-get install -y swig\n",
        "!pip install gymnasium[box2d]"
      ]
    },
    {
      "cell_type": "markdown",
      "metadata": {
        "id": "brqiMN3UW9T9"
      },
      "source": [
        "### Importing the libraries"
      ]
    },
    {
      "cell_type": "code",
      "execution_count": 2,
      "metadata": {
        "id": "mZaKXP_aMl9O"
      },
      "outputs": [],
      "source": [
        "import os\n",
        "import random\n",
        "import numpy as np\n",
        "import torch\n",
        "import torch.nn as nn\n",
        "import torch.optim as optim\n",
        "import torch.nn.functional as F\n",
        "import torch.autograd as autograd\n",
        "from torch.autograd import Variable\n",
        "from collections import deque, namedtuple"
      ]
    },
    {
      "cell_type": "markdown",
      "metadata": {
        "id": "EzlDKXvkXzGI"
      },
      "source": [
        "## Part 1 - Building the AI"
      ]
    },
    {
      "cell_type": "markdown",
      "metadata": {
        "id": "UtG6Zc83YYy3"
      },
      "source": [
        "### Creating the architecture of the Neural Network"
      ]
    },
    {
      "cell_type": "code",
      "source": [
        "class Network(nn.Module):\n",
        "\n",
        "  def __init__(self, state_size, action_size, seed = 42):\n",
        "    super(Network, self).__init__()\n",
        "    self.seed = torch.manual_seed(seed)\n",
        "    self.fc1 = nn.Linear(state_size, 64)\n",
        "    self.fc2 = nn.Linear(64, 64)\n",
        "    self.fc3 = nn.Linear(64, action_size)\n",
        "\n",
        "  def forward(self, state):\n",
        "    x = self.fc1(state)\n",
        "    x = F.relu(x)\n",
        "    x = self.fc2(x)\n",
        "    x = F.relu(x)\n",
        "    return self.fc3(x)"
      ],
      "metadata": {
        "id": "AZ_Va1K8ojWI"
      },
      "execution_count": 3,
      "outputs": []
    },
    {
      "cell_type": "markdown",
      "metadata": {
        "id": "UxVrBnFWZKb1"
      },
      "source": [
        "## Part 2 - Training the AI"
      ]
    },
    {
      "cell_type": "markdown",
      "metadata": {
        "id": "T364fz9qZb2j"
      },
      "source": [
        "### Setting up the environment"
      ]
    },
    {
      "cell_type": "code",
      "source": [
        "!pip install gymnasium\n",
        "\n",
        "!apt-get install -y swig\n",
        "!pip install gymnasium[box2d]\n",
        "\n"
      ],
      "metadata": {
        "colab": {
          "base_uri": "https://localhost:8080/"
        },
        "id": "rdsNpWVMgl6x",
        "outputId": "7d07377a-e0d2-4e3b-bd1a-5ad212e5c774"
      },
      "execution_count": 4,
      "outputs": [
        {
          "output_type": "stream",
          "name": "stdout",
          "text": [
            "Requirement already satisfied: gymnasium in /usr/local/lib/python3.10/dist-packages (0.29.1)\n",
            "Requirement already satisfied: numpy>=1.21.0 in /usr/local/lib/python3.10/dist-packages (from gymnasium) (1.25.2)\n",
            "Requirement already satisfied: cloudpickle>=1.2.0 in /usr/local/lib/python3.10/dist-packages (from gymnasium) (2.2.1)\n",
            "Requirement already satisfied: typing-extensions>=4.3.0 in /usr/local/lib/python3.10/dist-packages (from gymnasium) (4.10.0)\n",
            "Requirement already satisfied: farama-notifications>=0.0.1 in /usr/local/lib/python3.10/dist-packages (from gymnasium) (0.0.4)\n",
            "Reading package lists... Done\n",
            "Building dependency tree... Done\n",
            "Reading state information... Done\n",
            "swig is already the newest version (4.0.2-1ubuntu1).\n",
            "0 upgraded, 0 newly installed, 0 to remove and 35 not upgraded.\n",
            "Requirement already satisfied: gymnasium[box2d] in /usr/local/lib/python3.10/dist-packages (0.29.1)\n",
            "Requirement already satisfied: numpy>=1.21.0 in /usr/local/lib/python3.10/dist-packages (from gymnasium[box2d]) (1.25.2)\n",
            "Requirement already satisfied: cloudpickle>=1.2.0 in /usr/local/lib/python3.10/dist-packages (from gymnasium[box2d]) (2.2.1)\n",
            "Requirement already satisfied: typing-extensions>=4.3.0 in /usr/local/lib/python3.10/dist-packages (from gymnasium[box2d]) (4.10.0)\n",
            "Requirement already satisfied: farama-notifications>=0.0.1 in /usr/local/lib/python3.10/dist-packages (from gymnasium[box2d]) (0.0.4)\n",
            "Requirement already satisfied: box2d-py==2.3.5 in /usr/local/lib/python3.10/dist-packages (from gymnasium[box2d]) (2.3.5)\n",
            "Requirement already satisfied: pygame>=2.1.3 in /usr/local/lib/python3.10/dist-packages (from gymnasium[box2d]) (2.5.2)\n",
            "Requirement already satisfied: swig==4.* in /usr/local/lib/python3.10/dist-packages (from gymnasium[box2d]) (4.2.1)\n"
          ]
        }
      ]
    },
    {
      "cell_type": "code",
      "source": [
        "import gymnasium as gym\n",
        "env = gym.make(\"LunarLander-v2\")\n",
        "state_shape = env.observation_space.shape\n",
        "state_size = env.observation_space.shape[0]\n",
        "number_actions = env.action_space.n\n",
        "print('state shape :',state_shape)\n",
        "print('state size :',state_size)\n",
        "print('Number of actions :',number_actions)"
      ],
      "metadata": {
        "colab": {
          "base_uri": "https://localhost:8080/"
        },
        "id": "mb0y1sMrDkbf",
        "outputId": "acc1a986-aed6-4f7c-ad26-432104435181"
      },
      "execution_count": 5,
      "outputs": [
        {
          "output_type": "stream",
          "name": "stdout",
          "text": [
            "state shape : (8,)\n",
            "state size : 8\n",
            "Number of actions : 4\n"
          ]
        }
      ]
    },
    {
      "cell_type": "markdown",
      "metadata": {
        "id": "c_dZmOIvZgj-"
      },
      "source": [
        "### Initializing the hyperparameters"
      ]
    },
    {
      "cell_type": "code",
      "source": [
        "learning_rate = 5e-4\n",
        "minibatch_size = 100\n",
        "discount_factor = 0.99\n",
        "replay_buffer_size = int(1e5)\n",
        "interpolation_parameter = 1e-3"
      ],
      "metadata": {
        "id": "q0uIC_sft9fI",
        "colab": {
          "base_uri": "https://localhost:8080/"
        },
        "outputId": "4b65b724-b780-4339-a10d-16647ed5695c"
      },
      "execution_count": 6,
      "outputs": [
        {
          "output_type": "stream",
          "name": "stderr",
          "text": [
            "/usr/local/lib/python3.10/dist-packages/ipykernel/ipkernel.py:283: DeprecationWarning: `should_run_async` will not call `transform_cell` automatically in the future. Please pass the result to `transformed_cell` argument and any exception that happen during thetransform in `preprocessing_exc_tuple` in IPython 7.17 and above.\n",
            "  and should_run_async(code)\n"
          ]
        }
      ]
    },
    {
      "cell_type": "markdown",
      "metadata": {
        "id": "8hD_Vs-bYnip"
      },
      "source": [
        "### Implementing Experience Replay"
      ]
    },
    {
      "cell_type": "code",
      "source": [
        "class ReplayMemory(object):\n",
        "\n",
        "  def __init__(self,capacity):\n",
        "    self.device = torch.device(\"cuda:0\" if torch.cuda.is_available() else \"cpu\")\n",
        "    self.capacity =  capacity\n",
        "    self.memory = []\n",
        "\n",
        "  def push(self, event):\n",
        "    self.memory.append(event)\n",
        "    if len(self.memory) > self.capacity:\n",
        "      del self.memory[0]\n",
        "\n",
        "  def sample(self, batch_size):\n",
        "    experiences = random.sample(self.memory, k = batch_size)\n",
        "    states = torch.from_numpy(np.vstack([e[0] for e in experiences if e is not None])).float().to(self.device)\n",
        "    actions = torch.from_numpy(np.vstack([e[1] for e in experiences if e is not None])).long().to(self.device)\n",
        "    rewards = torch.from_numpy(np.vstack([e[2] for e in experiences if e is not None])).float().to(self.device)\n",
        "    next_states = torch.from_numpy(np.vstack([e[3] for e in experiences if e is not None])).float().to(self.device)\n",
        "    dones = torch.from_numpy(np.vstack([e[4] for e in experiences if e is not None]).astype(np.uint8)).float().to(self.device)\n",
        "    return states, next_states, actions, rewards, dones\n"
      ],
      "metadata": {
        "id": "4r48bYFGfKks"
      },
      "execution_count": 7,
      "outputs": []
    },
    {
      "cell_type": "markdown",
      "metadata": {
        "id": "JmEkbFbUY6Jt"
      },
      "source": [
        "### Implementing the DQN class"
      ]
    },
    {
      "cell_type": "code",
      "source": [
        "\n",
        "class Agent():\n",
        "\n",
        "  def __init__(self, state_size, action_size):\n",
        "    self.device = torch.device(\"cuda:0\" if torch.cuda.is_available() else \"cpu\")\n",
        "    self.state_size = state_size\n",
        "    self.action_size = action_size\n",
        "    self.local_qnetwork = Network(state_size, action_size).to(self.device)\n",
        "    self.target_qnetwork = Network(state_size, action_size).to(self.device)\n",
        "    self.optimizer = optim.Adam(self.local_qnetwork.parameters(), lr = learning_rate)\n",
        "    self.memory = ReplayMemory(replay_buffer_size)\n",
        "    self.t_step = 0\n",
        "\n",
        "  def step(self, state, action, reward, next_state, done):\n",
        "    self.memory.push((state, action, reward, next_state, done))\n",
        "    self.t_step = (self.t_step + 1) % 4\n",
        "    if self.t_step == 0:\n",
        "      if len(self.memory.memory) > minibatch_size:\n",
        "        experiences = self.memory.sample(100)\n",
        "        self.learn(experiences, discount_factor)\n",
        "\n",
        "  def act (self, state, epsilon = 0.):\n",
        "      state = torch.from_numpy(state).float().unsqueeze(0).to(self.device)\n",
        "      #state = torch.as_tensor(np.array(state)).float().unsqueeze(0).to(self.device)\n",
        "      self.local_qnetwork.eval()\n",
        "      with torch.no_grad():\n",
        "        action_values = self.local_qnetwork(state)\n",
        "      self.local_qnetwork.train()\n",
        "      if random.random() > epsilon:\n",
        "        return np.argmax(action_values.cpu().data.numpy())\n",
        "      else:\n",
        "        return random.choice(np.arange(self.action_size))\n",
        "\n",
        "  def learn(self, experiences, discount_factor):\n",
        "    states, next_states, actions, rewards, dones = experiences\n",
        "    next_q_targets = self.target_qnetwork(next_states).detach().max(1)[0].unsqueeze(1)\n",
        "    q_targets = rewards + (discount_factor * next_q_targets * (1-dones))\n",
        "    q_expected = self.local_qnetwork(states).gather(1,actions)\n",
        "    loss = F.mse_loss(q_expected, q_targets)\n",
        "    self.optimizer.zero_grad()\n",
        "    loss.backward()\n",
        "    self.optimizer.step()\n",
        "    self.soft_update(self.local_qnetwork, self.target_qnetwork,interpolation_parameter)\n",
        "\n",
        "  def soft_update(self, local_model, target_model, interpolation_parameter):\n",
        "    for target_param, local_param in zip(target_model.parameters(),local_model.parameters()):\n",
        "      target_param.data.copy_(interpolation_parameter * local_param.data + (1.0-interpolation_parameter ) * target_param.data)\n"
      ],
      "metadata": {
        "id": "F7C1Zhlaezr2"
      },
      "execution_count": 8,
      "outputs": []
    },
    {
      "cell_type": "markdown",
      "metadata": {
        "id": "o1tZElccZmf6"
      },
      "source": [
        "### Initializing the DQN agent"
      ]
    },
    {
      "cell_type": "code",
      "source": [
        "agent = Agent(state_size, number_actions)"
      ],
      "metadata": {
        "id": "90ncQcMFfDeT"
      },
      "execution_count": 9,
      "outputs": []
    },
    {
      "cell_type": "markdown",
      "metadata": {
        "id": "E8v0PtUfaVQp"
      },
      "source": [
        "### Training the DQN agent"
      ]
    },
    {
      "cell_type": "code",
      "source": [
        "\n",
        "number_episodes = 2000\n",
        "maximum_number_timesteps_per_episode = 1000\n",
        "epsilon_starting_value  = 1.0\n",
        "epsilon_ending_value  = 0.01\n",
        "epsilon_decay_value  = 0.995\n",
        "epsilon = epsilon_starting_value\n",
        "scores_on_100_episodes = deque(maxlen = 100)\n",
        "\n",
        "for episode in range(1, number_episodes + 1):\n",
        "  state, _ = env.reset()\n",
        "  score = 0\n",
        "  for t in range(maximum_number_timesteps_per_episode):\n",
        "    action = agent.act(state, epsilon)\n",
        "    next_state, reward, done, _, _ = env.step(action)\n",
        "    agent.step(state, action, reward, next_state, done)\n",
        "    state = next_state\n",
        "    score += reward\n",
        "    if done:\n",
        "      break\n",
        "  scores_on_100_episodes.append(score)\n",
        "  epsilon = max(epsilon_ending_value, epsilon_decay_value * epsilon)\n",
        "  print('\\rEpisode {}\\tAverage Score: {:.2f}'.format(episode, np.mean(scores_on_100_episodes)), end = \"\")\n",
        "  if episode % 100 == 0:\n",
        "    print('\\rEpisode {}\\tAverage Score: {:.2f}'.format(episode, np.mean(scores_on_100_episodes)))\n",
        "  if np.mean(scores_on_100_episodes) >= 200.0:\n",
        "    print('\\nEnvironment solved in {:d} episodes!\\tAverage Score: {:.2f}'.format(episode - 100, np.mean(scores_on_100_episodes)))\n",
        "    torch.save(agent.local_qnetwork.state_dict(), 'checkpoint.pth')\n",
        "    break\n",
        "\n"
      ],
      "metadata": {
        "colab": {
          "base_uri": "https://localhost:8080/"
        },
        "id": "aZNkvrB5gXPt",
        "outputId": "47df4802-14b7-42c1-c475-e91a3380bf4a"
      },
      "execution_count": 10,
      "outputs": [
        {
          "output_type": "stream",
          "name": "stderr",
          "text": [
            "/usr/local/lib/python3.10/dist-packages/ipykernel/ipkernel.py:283: DeprecationWarning: `should_run_async` will not call `transform_cell` automatically in the future. Please pass the result to `transformed_cell` argument and any exception that happen during thetransform in `preprocessing_exc_tuple` in IPython 7.17 and above.\n",
            "  and should_run_async(code)\n"
          ]
        },
        {
          "output_type": "stream",
          "name": "stdout",
          "text": [
            "Episode 100\tAverage Score: -156.65\n",
            "Episode 200\tAverage Score: -109.11\n",
            "Episode 300\tAverage Score: -30.11\n",
            "Episode 400\tAverage Score: -11.95\n",
            "Episode 500\tAverage Score: 89.05\n",
            "Episode 600\tAverage Score: 193.26\n",
            "Episode 700\tAverage Score: 192.17\n",
            "Episode 736\tAverage Score: 201.49\n",
            "Environment solved in 636 episodes!\tAverage Score: 201.49\n"
          ]
        }
      ]
    },
    {
      "cell_type": "code",
      "execution_count": 11,
      "metadata": {
        "id": "cb9nVvU2Okhk",
        "colab": {
          "base_uri": "https://localhost:8080/",
          "height": 459
        },
        "outputId": "08ce33c4-fcb7-41a9-a87d-e56f43bd00d4"
      },
      "outputs": [
        {
          "output_type": "stream",
          "name": "stderr",
          "text": [
            "WARNING:imageio_ffmpeg:IMAGEIO FFMPEG_WRITER WARNING: input image is not divisible by macro_block_size=16, resizing from (600, 400) to (608, 400) to ensure video compatibility with most codecs and players. To prevent resizing, make your input image divisible by the macro_block_size or set the macro_block_size to 1 (risking incompatibility).\n"
          ]
        },
        {
          "output_type": "display_data",
          "data": {
            "text/plain": [
              "<IPython.core.display.HTML object>"
            ],
            "text/html": [
              "<video alt=\"test\" autoplay\n",
              "                loop controls style=\"height: 400px;\">\n",
              "                <source src=\"data:video/mp4;base64,AAAAIGZ0eXBpc29tAAACAGlzb21pc28yYXZjMW1wNDEAAAAIZnJlZQABAcFtZGF0AAACrgYF//+q3EXpvebZSLeWLNgg2SPu73gyNjQgLSBjb3JlIDE1OSByMjk5MSAxNzcxYjU1IC0gSC4yNjQvTVBFRy00IEFWQyBjb2RlYyAtIENvcHlsZWZ0IDIwMDMtMjAxOSAtIGh0dHA6Ly93d3cudmlkZW9sYW4ub3JnL3gyNjQuaHRtbCAtIG9wdGlvbnM6IGNhYmFjPTEgcmVmPTMgZGVibG9jaz0xOjA6MCBhbmFseXNlPTB4MzoweDExMyBtZT1oZXggc3VibWU9NyBwc3k9MSBwc3lfcmQ9MS4wMDowLjAwIG1peGVkX3JlZj0xIG1lX3JhbmdlPTE2IGNocm9tYV9tZT0xIHRyZWxsaXM9MSA4eDhkY3Q9MSBjcW09MCBkZWFkem9uZT0yMSwxMSBmYXN0X3Bza2lwPTEgY2hyb21hX3FwX29mZnNldD0tMiB0aHJlYWRzPTMgbG9va2FoZWFkX3RocmVhZHM9MSBzbGljZWRfdGhyZWFkcz0wIG5yPTAgZGVjaW1hdGU9MSBpbnRlcmxhY2VkPTAgYmx1cmF5X2NvbXBhdD0wIGNvbnN0cmFpbmVkX2ludHJhPTAgYmZyYW1lcz0zIGJfcHlyYW1pZD0yIGJfYWRhcHQ9MSBiX2JpYXM9MCBkaXJlY3Q9MSB3ZWlnaHRiPTEgb3Blbl9nb3A9MCB3ZWlnaHRwPTIga2V5aW50PTI1MCBrZXlpbnRfbWluPTI1IHNjZW5lY3V0PTQwIGludHJhX3JlZnJlc2g9MCByY19sb29rYWhlYWQ9NDAgcmM9Y3JmIG1idHJlZT0xIGNyZj0yMy4wIHFjb21wPTAuNjAgcXBtaW49MCBxcG1heD02OSBxcHN0ZXA9NCBpcF9yYXRpbz0xLjQwIGFxPTE6MS4wMACAAAAG2GWIhAA3//728P4FNlYEUJcRzeidMx+/Fbi6NDe94uRA+CJ2WwSIGQErtK1Hp/jrVeNwMSWl81/+kgIP0Ejv+IKq94L5E8VWfUx+2ke9WEnIvglHw5HS6Sir2KtgD6/Mnc8s/QZ4gAEWcU+dg4+Z5PI7gI9XWtZ5hurDB06YTjiYdYUOvCR8WwCalno19a0X8CtMhOxsidL1PtlZZ2X+5x7FGHIWnSeslns0j7/IypvorsvDBW5tx+8E1YOWRKSe2vfOVcWyeQChZx/TEwh7CVIVxzkmdJ7HfBoLayxcov4DP8hUYJtDtgZY7xTyAAADAAAFOl7vvAEUiD4SWyz3/JIAAAW4KLuEHOF7GFHAIqPAbQ4BsEGLYC5r0FPYVH8nNn/vd+eQ6WCS0ulXAhtfrd5bH3Oh3g1JehS7DIOZRac62vi0LvBysO+Q2YeacQJDRxARlta3Y51xYS/uOGTcphroN6GlnhSLt1lyYAKJNXYcccPDGV3o4AdaMRZq4W2OEbLWx2ijYkHDMvgvGB07QwSsold3Ao5waqhqU3CFUoGXrA9Fj61+KMfTPNlY2lPmTZAsQi+zEu8NkI+rBqkC4azoJ+PWtENBvXeDSuq+XaLLlcqRhRWM6f1VbbL+K5vhDIVNuVqEStgRqoa5nhXFJhH7srgSGqXXMSoOpDGDahjzqaHbCdnXZM+kLtRZiRBFsO+rAIhmtsXoeyJpZ9OjbdnNNKP6Cxf85yh+uqlk2BughT5B1rlhKpKd58ARQu8nlErxbBVyi20YkGp7FtcpCEwWBqBHnandfpiiD4dy5DXDReSlSxTf2MSsWfJxdEaCyqjkUpr3dshW+byqQTQR3RbAB9AvCbc68WQYzu7DGFdlZ4sZgOT7QEIySEYf4YnleCpxKssfPUE+w4V0l068HVTSpXAqi5daThsCPa6QVIbvQmZcJoSCyj2lfWXHFbaFtvLvZYUK66kN0H9lWwzhDgJacw3slsHHTk+698e3gp4+m8LDW6VDbschNRVMWsA4dBh+yq1ud2CBk3n/2uevT67cDa3US6j8/v1khvyKYmbw/slP5NpV6MeqltzzBn/gJEJ78gZMaRWvY4KGqrLFDAKrI52KwRSwt1gNMD3qOdDWqpZHRvKWX8zHpAzsOXgrm6Cjd0u1i4KaR3gAbuDUJQ7A8nKE0uV7VRl40BTVccEXk6ZlJtWvHFgcZkOJnHMMZZkxalQNWloyYLFX1MrwA/8pm3iUTVCc4OCN/O/fkw2zUqRbTsPQ/h3KX8xrb5Q9ayMQopTT1tBHwuYKmPFhr9yn8ajLsDdBCQ976eOBrV3GPfRRnG6b7Wg9Kv6hY/Bv8J+ZfcMhbcgN5avUqJQg56tg0UD1iz4c4zFmSD+8187gDKLa68hQZot6cODTA6skBsCwUGqK14b5LRG6J2+DS5J9TpFu7xqtCFAhMBTCQ/0Y8Zt4jJv3oR3RYv40C97oENXt3k6eKb0UCU0CcBHhNVSZgS71z0aPHt4M4b+qDwa9dTqg9McnwMU9PwdJH9fzGWYz7vXPmk9A+EcSfWZ6ViZXhgIWlIQ/OrBhwQjT1PrEFDCZX7x1ec7zo+AsViSxd1Le1t61JauKleb18ZUWm2TQ4XcWCvUdPokZmjJ6seGqLLDReLYKYpHa9OHaW4yrDWqeCzWHNPBaFGQpI0/zbX5TVM7Ky/r8fWFBzpN2E9RHldKimgIrXXwnqR2A7NGWR4FeqOwW+SsCMG1FoVwvBGh8J6Q5RdbKUhhvQnvt+HQj0THg00dvzNuQaVE2yurd1noib/MbSI22YyUMofHVGwOQrqDmwH8MCA9DIr6kzfNmQz+ze/kjfdVojN5DTZUvW+/jwo9WAtv0Q0lYbdMYDOLixX+vVMrymME4S6QSUudOW1JfVRxdxI0L/0V+en2kathXtDLpuuR4iYuG6fgacVjBJMVEj+V0VtJDnq0L+WJXeYfv9puKY2mj2X0QrOPQIF9rQ+QCgfRkR5cmlBQGCx/d5KCJ1wulXnAAA8gF+Vf8CYjvNCd0wkDee399FXBkzHwt5sUe0q1fG3Klr3M80OqyaAzFVGlBVk15eN/aWV65g5qsRT0qVPCCP+7FlY2SvmekclF4MFZv8cNwQ37QdGOjxeb9tVecajoctJ0MuP86VXspEXUZWbk5X9592jiGa4ln3m+3wetxBbiD+qKY9Qk3+wl6qxOoN1rdAcNPviicDVK9UMpA2d0mvrTH8aoOyWN6yvsSmsbixGSOcFvCHO8h/o1IAcRyZiINgisEzUvuFTnh52HFcy0WacMMPMeXbRrJA0vQPpOQAAEChw1KAAADASAAPwBDQQAAATRBmiRsQ3/+p48fLsejDBIAH4cAXxI7kaYQXl7+RceWf8JyyxFDW8mwG7CLhJsvbyLXBrilY4vUaNYx5NMs6EG3wZMJqjsq0kKWFoMnjGzJ4dex7nkY0e9J2ZkyC5x3VmX8jwyyGg4lAAADADKaqwRynyud3OOVtqmXZLEj6mgwuhRO8dUKP024jF2JRDuAZR/rjNGpE1QBDvqYnGj8kxdt7F3eXIVqDnd560EGgcqN2yOBpu10wLpasgyA7XHXVodkfC9u7SpjJyKb2Gh1xN4DHijyXYP8wXFQoKiky2i2pgLw81EVw8WqPr/LbdTayOhzGbdgai+ICmuQNHTlYaOn5+axxtk+I0MLlkGUnbJVfeVSzYByC+lClk/4J/2aLhu+TANBkl27fAFocSo78P5Dt4iRgAAAAFJBnkJ4hX8L9Kt+7AcfAA4GAHvdghMo5NkFpPGnPCeIjsd1ItDiRoPFF/wAhtlIkLBuuOVIZSuedgC0UZQZObVRGbGgQ8tCUEAABCtd8WhBc9VhAAAAMAGeYXRCfw35gKBGjYUuwSgAdqbdmr9fhDluS3Ilmckf5d0L3YJv2fxvktgy00CjwAAAACwBnmNqQn8N9H0f+AASVx9OUQWaPX/+sAsdwWeSeJF5MELTCdiwozH5IzXG4QAAANdBmmhJqEFomUwIb//+p4835ZO+YqHAC1VNXyGKiAllTgITHnotsu+YRf9MnttJ8Epj9fYzhXKURwnHA8cNbCf3GvBzvzvq2rHLYPykOcbyWxfn91nUcIS5bQ3nU3r8yRHAAAADA9cEpsECJhMeTYDXsPfdrUqvwQV3tJqMWK2NrVhdvSLeOZn50Okt7gzOMlllK/ODLqWaBe/GjvDCaHo+YgCIK6jIENjSmGs4NQ1j/3EJ7OgPg/nj1ZZ8/5PP1jgYY5BMKxnpnlcgIr3xpxqkVdbRoEhxwQAAAE1BnoZFESwr/wvx9acqrH1I+UWcScLZWry57d+2CLtoYgAeazAiCzAnIj5vpRt/H68G+gOLKsBWPp4YCeWRB/EyLgAAjX1qVS3KkLX93QAAACgBnqV0Qn8NxnxpYdzLWl7UqSACu1D3sih4qZ6KsWTRVgHQyW7A4oJvAAAANgGep2pCfw30h9a1OybpOuegzPOpKVksgAalVUJ9eQ8Qsg5nV/cxsOPqUpgAAKxrnKhMwYXQQAAAAO9BmqxJqEFsmUwIb//+p45/vGa8iOIALW5z7/QrpVnhewGe+j4lzwi4hDgq/Z07A5uTja//IQ0OBzR6fcsZ1/UkaJ2dvnV70IHDbQok6MO6Zm9ds98QGmrPYXW+GKG8c6nlX2kugNtCqymV3hQC/4xVuNSamcN/on68b0gSqBFZu/1qEha9vgpNwtFAAAADA/qTNHwgXJ8AfmEpQCyTbZypFdksaLL75gpHcoB/F8VQHsDp3992tSsbDf1kQAFiHw0fMon9H0Qke/gQivKTxxwoDLbDtFQL6VX5/lgIpwTFdZomDOFFqTJw2H+iz9JgQAAAAEhBnspFFSwr/wvUiWZF34XgAC0M1Z2JsvX2br7g6zDQ2FROJM5aYgIZUyy/0AAbiL6sW7pf+Ypp/r3wYWOxDvYvvE0xG3BKXRMAAAAzAZ7pdEJ/DdfRPDd5Rl0e01cRL7V1aAEs3o+umqmof2MfpaBxY85XhjI0cVckEkN7BxhQAAAALgGe62pCfw3dYniB7o0Px1akH3EuPbACqMw6gaRXnbqSrgcPXu49Xu0rR2F/kvAAAADhQZrwSahBbJlMCG///qeWe2VDB4GuJQLPcpt+BsYNQxvW0HBzSFZHL+brCwUflQrDaifw7w1iO6rdozP50aP5qKvgC6o3sAivx4SB57uVLUY8EwPkLSpuD3PnBq6JyB5acF/elvYH5MGEwSRVfKUjw6+95WVwU6cALYAAAAMAdO5yB1Qt4ygSXjl/2MM/pDE6Q3pp+iu1mgM6BtLe9eooy7xTy8hDZAvzvGIGy6GqClNcC17llodNQ8U/Ysgs277tqmYITjbFfKUvvSHx1RhMCuym02EWPtliIOIUTK3ChZtBAAAAOEGfDkUVLCv/DX2CgMLtjCT7nPj2xr/CDLK5yX7kAK05f+LV8Rj27ABr+hK0giLSBvc9jGCNQA2ZAAAAQAGfLXRCfw3X0OwOrkPoEXzJAjhrpAGS/xohtBvTzAZn5QxkE6BXZWHFDjHIcE+nCsCAAnyHdlhDj63hGkewwIEAAAA8AZ8vakJ/Dd1gfdIACT/JBG0xF48eUXSHAq/kHpWRxpmHyu7EOd0s7rhuGdSAB0KpgsPA77vLjeqaoNW0AAABIUGbNEmoQWyZTAhv//6njxaJ5yEYx5ngBaaeUYzoaJtb2XoIm3UjKByQswHdBJKlM/aSM3Xj7VXr3I5yk8j6ppXE1ykGybg7dEd8HGTBkkr5XI/Qwa3jgS1qzB5qWYlI5iNIGGRVY9aYQ36whDI8FVZsrYWlD1Tp19i2c5Y/wDgb5vJpAhQGOI8KyPcqyQjP5pfaNXVsAAADAAAEGrdEpXab0qRqzyFDduCbb9XZwgLKD4xNKiOnAmjq/wlJVtRLa9y1hcAxsdU7DD6IVcsyik1tk8IuIEp5ui72MBfSiyUHlq4ZiW4bWvmLg4+3Lt97tqmXferLmVmop8Ag7NWRjTfKzayG+QJDt5ojD5rk+gvt5iBDrvmgQppjci8x5vbuodwAAAB4QZ9SRRUsK/8NfYIQ/67Qs9YSowwMUGB9gCmSX17aZK1CqH/Y3Wrk+nblLxFqRAoMbQ3Jnjb54JsTVYaltR49W76uNcFDgB3fXtTz8MVZq4UecpycLLQd9+0Ai2bzUKdAC22CNZqAV+d97qEyx2F1UtES4R0vrQl5AAAAPgGfcXRCfw6vJZf5fAktYl+329PkAzKzjdOgHmRYw10mbjB7SWCGiKnEqq+7/vMACKVWDKsDV+Xlmb1VyHpAAAAAUgGfc2pCfw6vJn2t1fB4AO2tDFw7RFFxg6wAirdge+tq8BeLR4ZNLvtTJjxoYnEUDEC6vaSqbxMwzHpys8m3gv5D/j+pYMAVyuRi09fEucXmgf4AAAFEQZt2SahBbJlMFEw3//6nlmm/5/kMmzFUx/AAuTUgC6xr5HamUGP18zDV3YZn49RuMTaqaRRYgpcxyPnqIu9lNiEpyJOsJ4HieQ///Fhwz3oEu8SqJ7BCMpLL8sz93nr1DU9VVCZ3LHKZD6Tgw2xEuSRaIY1ujGp+Ktml5SqreEYkn9HUrv443kUU3vTAwHw88S1Sb+Ke4FmoBgYarZMBSkq4hDmspFmdlG79qMVWjgtDAAiDlX3APTBIQqQsod+9Ike4zCt/QAdrstsOe/2QA2uABjJztVZ8hybPZ/hn6H7IUWH4Jzv2+qRuyCHuqW3M2CCv87jDUjoMLbbMj/S8O9IvUFUatZL3pAXXHKDfvAT72v6qQ7XelQ981Myv0hb9+EuEWbH6oCuekw8aHp5w5ymcKjQN7V0O+XRobn5iRvNLpEfBAAAAbgGflWpCfw3dYHbigATOzZVTfzh9JC7Q4xZG5TE+2jB6xDv39y2GzRUMP/uuadK6U+dxrMUeYujywiwXJMqokj9xRu8jtYhGboOwbmx/MYxDMzyKbMPbki72LEUHibRyOhTybrLgABNfIc48cGmAAAAAw0GbmknhClJlMCG//qePN/84Jk5lpIAP6IT5mf0vuuiqgy1gPz3wBQz+spA1yn+6I4CcG2SztV+z/3KlI1I3rPXzOYEiHeJXqV6cEQmM085eiobY9oWgUj4q8mVvOKbvWf1gpxhabxiIdhsBhNuXkr5zHKgHE0TZYqGIY2Wt3iJFZlW6KzYjgKxbUht6StGlS8aD6JTZN9x3zw5KCKdQLGwA/iWcLSZJS82ZhwFyGfxFHmQH9fhOsS9oA62Aa2b8cmwu4QAAAItBn7hFNEwr/wvhGQvgsJB8YKbh0T/AvAL8AOMSk4PcUwvCE39N2QLla0KLt6Zv2GQtUYeI2Sc7ygW8HywUE9gSy4E7eYIf/dEgIesVkPAYhuS2nMAqeIJ6Oh/APZgq2EnCmx4KTs2wzdxWFXOHUbcxLWVcEDT8TpHHhICvYJ4a77TMOC6EK4yyzYe1AAAAgAGf13RCfw3qKEFJ4TSt+39/cAKkH7jdx3FdDn6i1NVYeclAX0buw4CaGnc8Gs1HiGMYwaZhycc/E4pWchQ44ucq1+wFPB5uqlT7rP7bwt2vSPfVJeojQtMpFCGh9sEdYdVMqNFvUc4Cob0DXfNXsV0q6ikPlTAMfkbmknt8Y6RsAAAAZwGf2WpCfw3BL0ASg+o4C4i/vmkxOeADnw1KWHCvyyEulOcT6uo0q/nsIcodm2kuLSNmNPdhiUZvAk8RYDbh+8UJU3mHJ9dbUTTyzp8jLOLYXO9XmpYr0jAC5V60HIRaFRtDqTBI2JkAAAC/QZveSahBaJlMCG///qeOUhneKMeDQ0wEMsddb3ioFqYKG0SvcgAvPutCkSY0F+klUNTDqryKzT4ahVkjWLHKUeYY4p7Rakv2SGdFe1fopHEp9egK9+2tZ+baxf8oR4Grcc7Oc5vXiggtrGBAUiKfpBGzjYDxoaPLXVclEfIFNZcn2dcKaDoJvm3gHQXXG2lk7oKPMfCJ62j8TB5FfuVrlDLFuThTH7dJAfIntZU/5U2hzM4BS+na/teuhljShZ8AAAB2QZ/8RREsK/8L6rzhivppPXypOQ/Opb9nfsjgAtwmtcunhZUh/uqoMFrkpmtLi9rKdRtC2tPgD67ProO5x1nICycttw5lARNzIO+zSJvGGsQWXvVYtwuZkwjzrXsa3lhAcIG+IYkUP2eBAvfiivNpFP+Dj0wz4QAAAGYBnht0Qn8N+ZISfIACnhrOJW29B9yH17L0jqTOYm1Txr9HakGb1ck54lWm7x0O7xaXrmztxtWzvRoLEqmH7Yg6Z7zmIIGmpuWK8ZziBCh38kFQv7iJuYg9PAO37rznS/8tHZB5vPkAAABKAZ4dakJ/Ae9tIQ7xOyoiZ5r7vDkADjE33VpuCEAIWofIBONJ2JbGJSw+bFe16gfFfz87kNOQ3XN+0TwsYtPRIgBWnpX53K1svGwAAAD9QZoCSahBbJlMCGf//p4QCSZl0eiZMw4DFcvxJvYiBBPQA41fJWYhXpQA/28APG08hzZt1W25PKKj2J1uAl4019+rkGRHUMWNItIfnP+mzMEvjwFEBpzkQBmhxI1Rs2PMHIXZmCKezJjIdapgt7VktPvsxxAVwoMEXeqpunCDhGQyagdeaAhMyyaNLCAEL/9xEmN97o5m64U9Hf7JBK8lZ9w9EAHopU7YzsuHHIh4YsrxPC4W7eJgMdfUul1kWTegqlXmuD70uYo+BOPY3iwsaYVrdTfshYHl2X1LWiaH73gVLALsdNCSBsXhepegf76IUJa/CrkCgWCCJwA2YAAAAKBBniBFFSwr/wGJB4bhP4+zgzOwzP127ABt+b6PLw7YnnroNlS3btOtOWaUsF6ojF2NrXuE+bYsuosGyYJFF+VikK+UsetRWSfsBE7HPKvT+cnCBtYpRxhSachAouU8skBargUWIIFdJayJTG6mJcalkfjuQ62ZmIakQrVee55UI4gZ1XVbxsTY8aLdRrzlaaPrABS1qOHLCkUWdYqc+NmBAAAAdwGeX3RCfwHux0/Ski/jPshqouQBazO73jcQxS8Vr6s/0CBN25A3GWseuL44g5N6qQq6Ug07f+iwxixu9SvcPxtByc9l7sEEAGPrg5XOQN/DytkLsIpqrtCea9oM95bVBEd4Rd5cK1RaxNkiypk+A2gbCRqanTJeAAAAcwGeQWpCfwHqJ22yGkcykj61f/MfNeJiYiwYqmhT2TyIpAAVNQilagV2gzNhSS43YfdDXB+w2J4eV91b2YvABDtMFK3JHXSLBUicd5PUQT3A8VTqutah1XI17SD5eDQhLbY4jN+SvP72DsGCzQbhhciqJeEAAAElQZpESahBbJlMFEwz//6eEALT3Yh5MZABysO7IlOjOVfj78HAzplQTt0ag04M1clKEz7lS6oR0LRC7keRljsV80idBtsJg/G5wM/AQjSFrysJNCxYd2HhQ+vpnPrztMC6f4GdcHj115CSOH7OT2ehjJY+OQFn+Fil4RZLuvL4a0Tl4P2OypnG3iye45FjP7J7kiNBIhvWFfkt+dngOCXPJarv8BbZJzz8RS1uRgwZTHsRSgucYT7A4+lJHl7RoFXGAMsg8pHcYCDQALDjIC1ET/vUQ11xsL7RlQZgYY+nHrL9rfVo6EADdb5AiKpAEWtY8Foy6feNsHFpyXkz3WgEPjPZUAa6cvBAnMFIvWBzSKfNVzK0uMyDgMp24B+KonywB9QAQ8AAAAB7AZ5jakJ/AMN5b0B+ofLjO/8Azc00cCLo7PvwMesa54Qlg4kNm0wAnZ/SNpRtmYLv+4bW4v1yFLsEz4poFuYGA4pDlij0K37hfDvNnAwBHQqOvYJc50lI++1vviE9NXtSmAKMX8kGJW/8kMwYI1hSeLikZgCB8MjgiHzBAAAA2kGaZUnhClJlMCG//qeEALlktQ1mrNhREX71mU1EBh35oKX8l9h9cyE7Hv47MhSXWjIzkduKD7L7zsfILOmNDySZRXR/4nTC/LKXzyZN3oFx5RGgg51H4ZPSnC+7XdEgQuodshEHWuhL6TSqqEFAHeCsMR8QPt4a9it1u+SJe2u3j3n5ZeIbW4H/pOXIaydw7t6j1smDit8YIBu3F3dW8QQw8QzXouc4WaPaFAO6fNrq0s/KxgUOKebHzqaMeeLXpzJBHgFZq3LASLC32caEFiKKHCotK557wAelAAABDEGah0nhDomUwU0TDf/+p4QAunMu0c3qxRzBUvq7amCLCoAW6LY+cld1IeyBFmtQtFQwpN/PCgt2kuZapoZO2+QTQbck9BeBvBMyhDTRyy+7Lk7FOn2eBSSqzXoSEzj49GW2r0UuW4mpvPv9A/tGG9fMMO80R1zOMs8TrqL3JCF3eyEGgx5CMtMMrzATf7Gazxgf51VieeqoGKHi7k7kaTYEflL3MXpVEqdbZ97oYvyQq9ozX61kRkhnORs5aObbO2bas6VhwGxTAdXQZ2p950frcrRM/Zxs65FcZNX2cVt5pCQRXW9eFHngu2du9dqw3zJaZJ13aZDDRYMih5+gX36wU9chvhZ59I6AdMEAAABuAZ6makJ/AMQPD4D/AUmQR4iuLUw/9bQo8S/W2QGoZE2vQLU2YzqQjYdZuEZSwl+rgf32JH+RLTu/h08WwMZ3kw05NA23N4npaJ0pvHqgckiE/lElZZsiCiMo8gRZeO6VxqseIMhCffFlziCmLiEAAAEdQZqrSeEPJlMCG//+p4QARVZkbFYN5AA6K6NvP8ywloUEEmlu1jmKNIcdO0VwyAGQCpDis88EYopftbyv5lY1pwcf8iMQFoFcz+XXwy64mNwt7KkgQdACQOyVejeLsVT1tsV0vwEm75oEsB67SeP3kD7m3pb8ibUO2WVzBT+jsoUsTXV7YSmj8VsYhuYb33T2cA5tSNVwnrG08NgsJW1Awlr88jnk7lmTQMHHc/fnPWrP4yNStvwRk16/5q6x9XY1SfxtgTN01yb129O+xcZK+Y4W6halQ5z5bVTceUgwHYCXHFLQYP8GQy4k9jetd0RGFsyHa06tQVhmvOWsKvfwj8mApEUbfoizy50E1yCqQtnZHsERrLeORkaOOtpAAAAAjUGeyUURPCv/ADiOcy02M43e04NrNiIAX+hC5l8I1CPRgYXVnHZUSMpjdM+KEm844X0FfngKDbz6FOj4sTou1iumGF/m8E0mzBEhad7WFFLsZl8BHeM4orOxwTGZXF8BXV7VG+SdKeUSlaNvN5Kbu2o8PeV1s3rGPpJZPDU601ZrYjw/kkfGcOY23+9DBgAAAJIBnuh0Qn8ASVfPOlB6rQ+stTAS4AIHTJ+zcaHT9dhx+XwlXX94ZTXsTDp0N3/3NK6+8IBL0NRkGUb91zsdPQEAlL223aq0l1WmWQmWJkYii06yTkJq8OZ67td23V9Q9xTsob4NtTcyxWH+kGSxg50fEQKJ8rvUcbRsfORKmTcy4Godikdu/vPp44brMp6vWux0wQAAAKgBnupqQn8ASUOl9rpcfPe5GzwEVELXUoAOOg8I5WPGrGXkxKgfYg2bvCPXJAw4z0cdZu4Zk8k8fWS1jC5yNawVRUH7AI4TxDN9+Yfh/xmkfaKyWy8vZ52r5f0DHkmQ1JgJxBC+Z1/WKBgHXYlYFRFkv1hZ6sxU6thPbQAFyzl/ZPXqTdEuyn85jsSCImh+p95bBISrC99TSlxqqu7+ojoA+M0HUxb0ekAAAAFCQZrvSahBaJlMCG///qeEAEW6bdO4HCVRIPMsu684JNcekkJ2EAJT3e6wAg52lQYivHq8Eawrl2Z2jdlVnMH8El8SIp+l22VqTOAwBD7dRL5Yh72/HDUpz5X+qctRlQ31PddmRa5ns3ONeQCZcl5Mv2MKIbBRaMYoZN6/JceNmAf8WcR8NmHqGqTiixhfhevnDJ+LKiOOG4ubKuJJUUNnlZcnKVbotQJh7E52dq5Ws+odeEuO4laPvZIGd403yFGfgxVu41Y8ZEJbs9xKQVLWzE3YnAcIrnj9l2NPBIRFOB/OjIyWSimBfI/SHkyzdHSKkTp9rNtX6lLsHdZ//sxI++FyXGlqPV4xzbf+Bva2rE1QYELnCWQwQ2mu6BOjbDgQH2BDNoBjoJPI3f91kT7R9WNnm1iqHzqPa54+AOAn00B8wAAAAOhBnw1FESwr/wA4oDsgQgxgpodXmD64rZAVKSfearnyGuGkmXR+cAAubAgFssJtw816G8rWK6taYEHrEPsn1fuI1JFWrWo9UpDe00YnQ9T1E1UvOrHKWs2iBw0QFahGa9SCJjI8KMi7jHK4PPo4u0fusHRyX01GZI/Sedy0JxsLr+sne21oHvqINennkum4AZ6iSQx1nAb69H9TwHbm4wP6gQKygMI3gzjoGaEkK81mYiUh4J3p570MIArZoHDnt9wOPrC33tJXxNldCntWZO0gKAeQgm9ait2H+XuzvATsq9+eBevMKeQ/AAAAnwGfLHRCfwBJWk84Rt//es3+vvkvnOuA4PsvbP4YW79RYIAFfSdye++4oqICrFZL2o4AdNVUWpmwgwwkq0f+0D0pT8MJAjd5JcYFFiG7bnHegS31mfrE16T80hFEKxo7jWkkUbVVfX+fwV1bY/TaTPa2hC/Vy53u75/szp7uiCgSZyJb8olyRxfSgVm/bU6CUMo32c9dJVCFZGIuB+as5QAAAKgBny5qQn8AHFB5yach2dzByFXQYYwgAjjmFjyXX2E4DtStV5Tdul9EuNbLMXp9Y5b/RMiRkwXkClSqn5nWtccwZVQHz80BnEcXOySFqOxxz3HIX6NcewaAA6CKIdh4NnWin8s2TXl7y+xBBpgUpSI+A6w5slapr39QSjlqCdTw5acSgoNiYlrtuke1RYpNf9meRb6DeJIk7yPvfdn3hs6VKKILMJgXlhEAAADdQZszSahBbJlMCG///qeEABp+E8yWIDYtwhk0P/t4AoMy6Cw8OCdbZXpraaPDL7j+OXfXPjeGjUiLNOe60N3RujU+At1FMygf6MVPzNjsn4SKmfVqqnkHV5SslCr1ZiAdqcjr/GQtoshu1cav6oXqstEN7Kj16d2+YtN50Gxu7Rzm+V4F7uR3yKXOFtUOIWYEWFkdLzmOdow+fz8j3pby6QDma5Bp78s9TxgiVvwAKDREpCrGSv/CNLndDF0vvd+MLtE218GpIAQ39NakmFMKEIZ4bHgTQVlE/O3gG1AAAADYQZ9RRRUsK/8AFVBKKikOE6tlvRyDcR5esOkEgBxT+dKKnHgCQLGqU61MN/kf4CLoEbz/q22Bh611nf4tBvF1b7qPX299ihAvAVgbGZdjX6XbtOqxNapDCG2hWyvZ8TuyaXY+f553qjE9rVSh4aTZKezzw0MhHPndWg3HisZkldBnBKk1JEGq6KtllimEg6J3DjzOluMTB4Ilq8yQTxacgXZGLo0sIFrjKQpyvH/fxH/08hP8qmc9yKMMQfUDwP5EBDs9r44IwF334XGmFSqUF44YGToypI2YAAAAiQGfcHRCfwAbkTuDJsDlLA40MORMoS4sXAABsyXWBiV6qmTKB7QbWbPswt107yMhHAmmbVnCOFw7w9LYD2xdn72buqF6PjE9DYfVEwiOL29Nqcd31UxnuTxXM5EZhm6UWas3Xszs9luAVGCAtaIrQWZYvLXkIixjTdpl3kJB/FjfcnYeTU+oIrFZAAAAoQGfcmpCfwAboTJE3BV9D1Zp8jdEF2ACmy2JmUbQxL7lDzbjMsWnhJwfDlKfkz0apiNlmQr5fwAcWczRe7UvlDZEWc5R/7Nhk/O6UD4fLWgHPPtmGtTw6lUkA8vsCZqrNWBa5WDksbtckFWHu1Hl16BgcZ7Q3kp70UfjCMsq0XeezTPYgn6oydD7vOCml4zr1V3gryfqke4OYbeh0iaAezvwAAAA7UGbd0moQWyZTAhv//6nhAAKNjGCh9kB/z6LsMAWxf9RKkqNIn2oOGFM9aeuThcaISrZOBdG1j+zzvLzlD+cvP3LsX4RzV/HwDrNaZDXZ+AiKlOOy1vzyZGr/IZ7pWuFqRBHTwCh88iS56v5JdcXTVVjRW794kumi1qjWlrCcBxU7L3GqXlUmKb4eRdMvgwJT0sj7Rk4tVR+CkUz/vyqZJfBJXLgJz3ZBDoNiglhJMxRUr0X6O2lWENbz6/EOweI40hxcCarBAwY96V3X09YwOW1MWWMMAGN7ABCjXxuKbqrF012uEHyW02CgE4CtgAAALRBn5VFFSwr/wAILIGP4UVvygA/Ikc8BG9rVOk9T893qk2ITcJWn2PlpsmJkMT6FQ2Z5YxKHO/OPv7oXjG/0v0Tm0ce6YMGGGUTd/A2i+L14fUewrsSQYy85sBPlElO6gfWP305ltvsuQ1fy3Yn0CX5L7xBtakvMBmczRnVj5c+Fd2dHmHw/aDU099nHgvWytkLvMIeNUJpLAH5xpLkyLPEZBDT1pUep3I9AJraf8Z3poDC/nEAAACoAZ+0dEJ/AArTa8AVszXYqzVZGwD0ux1TAx6paZMIVgabjdqs1L3fKj+tys+2AlFepfng1F/c/gyc7aowFG857h1wNH2+VRo2EqZfgxtZWfVqVvjk1K5RBFsO9s87V8m9PwyJYOzQIvZEQISD6nOpbN97aY5hJWUC39bQdmMrK0KlmcLrAA/QGG4MUVUSJ/OSNw4+e/cz3KzcMlenZunJM5Wu83qLAcoXAAAA0QGftmpCfwAKzIToAHBxnAxF+h1wRJEIAEZHTZ6KinUIwJE0NIyfESDMV9qI9c47cGw42oZx120CdcLpHzIQO5oW6GhIYx1mHIGMuRVyRl4lJ/HZphcDcDiQ+XwWICttWOxWnS+82YJ+ZxTK9mrHPUv9l8fMPDGml8+41wYrbEiDvKt2l+EOgqJP1r7pcJMq6X2Gzo+w4gjXMyVdmhq9Caq2gF1OVcXAbYJeYSofcTBRMIziWNzP9qIDgjVqd0RMta79fgqDk/XO7sUPLPbyqRixAAABVEGbu0moQWyZTAhv//6nhAAKRzLtHN5Q9GIYUrZi7UOr4AbqPnbDxxqSaLRjRY7O2uS7qJQSzTFHsgg6FwaAsMYll996ddDXLh2vHw2/G0Qd8bnGQ6jnPV9AwMxYceETAynI7nc6lmgwzS7ox/RsWdo42+HorYxal3FJfKoi7tsksMs6B2Mp1QAIftzfpswRkmsooVTWg3nhlGI7VGZvkvA3DzozUD4eDihynd3UspQaON8eDBIEkbBZx/8iBpmybGGVrwW0/rARUCfAUX49yTYqUuM+fvGVUo5jUxSl7YqCOuGheZHfIcX4EjJhd5kcSpC2ZJUm5zkDehmRD8Bbf4RFzw1HdHLzPSvWjtcAVVyNqFAYhcz0UEtjAkHKMh0fqnhUrr0Z3W4vEYuuZfSNfL3KTJeJNoavSV4txtemoPBnFxyrQLgavpsy7ZMTyM97xCigAxcAAADFQZ/ZRRUsK/8ACCyE5NgRh8KL0oxcjKOjI6QvaZ56UALDvydHbvmoru/hzyp+rlAzG4/8fa03+3Z1c5Y8TDpG9q1NB0pI4r/ZEzm4dPYhkqbVcjM1pbM+5zCPnCNLIE1pCzZdpmNaX666WN8n5qbk8ADB0BULMZGu8V/56QmBQdFweIO6VOUgl7hiBJFBkqNEEmplJybbemAN8yBlIrgzeZUjAvCVj+Sp6KQezAEiNVBfQMP0nZcAD5l8MhbH+WOYc0RFYasAAACbAZ/4dEJ/AArKKZBvJm3Na/UmGZK48FKpE0zv2IgCERo3OO/+74ZTxbomebeZnd0R/6upTe3Xr3Q44JaBL+q6mBSrC0+UsRcrNCQt7TwsCukML2TuBKhh+wRRuSxHs4KBNFYhF2zWlzwq8jgP2CFBvZdeVNPiN6GCEAJg/1kUJSh/Yz6EHgb/V8tyG0rBznIS1JS1yg8gOnhR9BEAAADAAZ/6akJ/AAP2XhAE82rkixkWvQQmwAKkH7lBfoHmDDbm0Qbc8m1cnHXz2LPWSnvznWUieB+FD/dblomjf61dQv5R7oQBtWpFggh9puj6ftRXmkWkqypYUM1UHeUwqHe0RizD3IJplKwz7EofJpNDl73cuGWnT9EEvcO6AFvbGFjQhzWQCHfDtBNBT/aAut8vq5XCP/seweVO9siLVQMn5IWlMsmLkcTlA86yqS9WsbdtOlRFwxEiZ1WUxCi4ol3AAAABNkGb/0moQWyZTAhv//6nhAADyoyaK1vNqxAB/MF+DsWraDfP/f87WArB0Yr3lqBcDyN+bu1K1pnUZN62zFpNIv6aEbzNfCz64esVIlaOyaNKFnh0QxBkiFoT9opfgCGf+OyXUFVRKDISoHuZ8nWQck3hzpvgsT8Pv8vMPPoCsWaOtUugr6T3Pf96mdTk0DwMAnI9gwRBBGvMp4udAvkI8sotmwAMLUR3WkHTvG3W7YQ5v0RFuw6eK3eYEwP7+KbEFEMV+eu6lPC52C046qhtWADXWvwpI/VW9Ec3PTgQ/24xwfhegzlUagLEz+QS4/zP64WFsJYn35N0NMveqM0VGvahQr8bV6seWm+PLEL/gfNoIq7tBbPr2r6fEpMr651WFy1o6bV5Itk21lF+xZvqPhFWQ/8lAb0AAADQQZ4dRRUsK/8AAyQbmFkTc8pJ4L+xO+Q8rJV31QAlnIyAjZpy9hs0ilD6RMMcnQcfTthbjhjiQn9vqVVaRvpOgPaX5+dyHBKRM8Mnoec7nvjmwA8nAzJkfBwAPuS58/zKQ/J2PEMr85M76MAGq7Y7P/GcjN5lrNAba8BO0V2UXx0Q6wIo1HNYuXSbpKBU2fIelx/VCVtynTe3WtgfA7VCXHlQ/I0r2mIl3Kez6Xw6IrmqY3khJnAkkQo3Bj3E8jjSYahntPjvNis/Kp61oWDugQAAANYBnjx0Qn8AA/b71zqe7SiGMos2Zy8cWOdLYuBAA+/98LUMQQ9JIx1MLf7BjxyoESvQs3zyvWAwL5RZSGfD9j8qcoEfjwDEPs6CDMW8A0zCPtEdEWLB8hQkKp1VNHvwRcPBXifTLLnqTEcTToivRBSlUboSdX++ht2a1k/8E/mTTzR/l5gynEu6oAxc/vUGCXkNtiFo9CqzWFDHDiLGmFm8bbTCzVHPZ30eoLfuA+s9TKg41uwVD8506HaF2XGtpofl5B2mdPnxNxQ5Wl9KsMxX03v4IFKwAAAAzQGePmpCfwAD+IuLSAC1BkLsziI2UQKZh/aFKUplCbssGaPDQ4RqOB4xMN1nGiGXXih7OFgyDSfgNBkZV91PhAAZdBRxmUDhl/t2E3ZW2XAE1fVfW39bQV5o85n2t8IJRHPRCz38mlpPXgTkAktKH+JwKyPi5YDm1rIwBOV3rFdptPCnfqZQsrC6k2Z1E9koqWhuyMK+0GUioiR8hxbK09LdoanLlbAW1PDsgCJ7a6msORtjeYLXVhi+nhysA7zARv7fvVxcyqGHUqu5XbAAAAEuQZojSahBbJlMCG///qeEAAPPwnmSxDrl9e5A6WZUPKX1wAEYzr3WFCzWq21uTAXlp8lR7b/0qvArIBfu6YBCFNsJr38tL37jbQl1uDgwN9NQnaLVSVYmV4lG1muFLMppfjbRcRH8jZA6TYpGoxsUsGGpxLnHuz1YjPpMfoW0bc++lWUU9+ZW6ap0v/MOTzXxr1eBSoX2GpiNHeUMCPmuCf7YfJfuHmErrBByBSfjVkDKgj7TVF7OOHY3/fUVvspvy/mLZoPgh5hw9ielBwmfsttmk1bpC8JnjABTwLKdBOsiRIMy42ifzoU42AfnovlqPnDC8kZG79JB1sSUjPcKdANjUnr5A1xujdrpKCX4ytrYxXzNHDOLxUZ4blKr0rP/W99CAZsC4WKjUa9gW0EAAACyQZ5BRRUsK/8AAyQ/3q0K+HwjkUZzcsCobo7vEa+SSCeQo1oDKH8wAVytQ7Hy/vQNabvt4nspV8aCKkrGLNaaOsG/LTC6aFtrM4Z1rSZ3oa1HA0a/GrureDj/WpJjiZODSyKPNCE03xyf8FOPV7BibUXq3UdRr/DxZW1lEvAnUg0USLS8fZBUtXeD1MWOP2yzYjh5xzugBFcpg+qAA4loKCN7SbwrIyl/4Y84YOT1qLQsoAAAAKUBnmB0Qn8AA/gADZPpULX/iQn2lDMHww8DaCx6mKPJ1P3gY3/KyAGauN4Qf3hcIGzMpYLaCn0oLuJZZeGP1nN9/fKcr+Xse/VYJwveuDoAAEQ2QYNrJS+oRgKeUrl/0FDCHIzQ/mvJreNmTzkUrTATbZHrTwLl32OR/rECaLPoP8zQqzWF/D8kj29qCzGyAm9cFpCqcbifJxDQTle6Lti4ORQU0+cAAAB+AZ5iakJ/AAGIRWIzfg9Ku+dvigFCiAAuos7s7DH0vK3mTJnely7mG5L3VuARvaU+d1+K2DcSqkrt1YER7PAC9FPxqR8OwAD+Mcqx9VWmk7mmZnTqQ3GjmUF7Q1m39DWi/K5xZj7R+i+C6A0mmW/G2dhqHl6gzfFdl0RymqTgAAABCEGaZ0moQWyZTAhv//6nhAABc8lsU/ZAHKAI6tfcWvX9ibbsYX9HfLfCZZWc3ZXn2RcIXh660D+PFHnImsP7683y4FJLMzzQgr97b7SJKLkBzPx/mse68mIYXP7XJJCx7/N6sQqF69cLA7IHWS7qBz1l8WdzvSNzM6ExOWN1SuEUEcGE6PQ6FUSIB2TBOGv1KUHic6IYdfF/ywMo9Lzj47NKhqsCGL1qt51q5zdWcfyh5MEruy4LiYykQpSg0BVUN1P1p4BSK0WYy62bPPrEbWNwj1A0fy8gn8JZmyWppzJ4c/JzwBzW2xU7JAe0mUHtBclvWUo24X5lQjOyD81+C41gfjnBjGwgYQAAANVBnoVFFSwr/wABLNLyR0QArqaeHbRg+SM5qA9fbw7xDkq4r4zOq1+au62zvnXgDe5W/YJlyi5RkDeGNNY2NiFe1WgU+xxgyoVuDmFEBtRQgCoQbmTsX6ImHclAouVJzV0CgNEZ77QHivZtyCXRn3hwNOUcbXX9TAHSjCkDIIvj+ccELjcYxDXvGrKWkk1wdqCfPCSDL0ON0qfDDE2P9CgKQY0k9EGQsPJvGZihEZjFmEcu46TQbxcXIpvHBrumLmOb1QvyApihjPreTaQowvGe68+VFDcAAAC9AZ6kdEJ/AAGDD3HlAKAB4EhbT0MYOsg8wPxFhemDZLfwNKzEK6wUaCFBTfiwKf1k9kNKfd81Nu2tA0REwhCNJovKTtiUSlCX4dVgDEqOx7toVCt6y2IX3pGUkGGskl+aAiepYGzvRk/M7ensQOsPmBthpvYZ4ejOmzuXN29InP2tXq5YsR3X53AhE3UqMzcHgka6JDFyx5OPiUoIvmTiDm3p49Mr1yebrm+AaliQEL5Jc9wLZuLkV6KRLjPhAAAAjwGepmpCfwABiJEFcu6oK/nwGv/hPJnro6kPLrkvvYqZEX8GJ6Qi0/eYOTABGRgJ5ZFFmLQtz2oKhZczqNHW1kF2HPXnCLf9o0JUF7/T3qb9Kl7bWurRdBMzl5S/8pgQhqA2RY+wxGE7T28K8J0KNkFLWlkjw/dIEg0Gh3jXltCV1PlFtYwq6Bcrl/IlBCBnAAABFkGaq0moQWyZTAhv//6nhAABdeZdo5vbfynKLvCEaQUANq5l2dd7ofJZdg2yY4cAuOyuwwDYcNYR4jMYuAKtlhCLm4LAn09c/1QAnhMN4BU4igL4unjEgvV8nXtHsi6Q94gKIRrpOrIPe4m4pCDPZUz6S+9eh1ZNHx/XgTBancgRImF2xio8N/+45mOVDeWGZvvtcB8QAD6Qv/NEA6O8AQh7M6GjMCN3JffrgjvUCBXDYGgqrTJEittBxodEJQKV3JyNQHiMhljGySd3nl/jPHWmbczYV57eU3IUJ1brrYRi109S+OlXS741TQWX2g69uhMRjwZkLZZcN8MmJI3LxpholN0n1jAfLM4SWGUVlYy2PSXbGcqoAAAAvkGeyUUVLCv/AAEqVRrfg6GRV/9D9L4ch0ybVrCa6uuyHgB/0SsEn1dL11zAER95XtGLTZ1LIQ8qh7J5vdzS5tOUXRTHWEhUuQj/pp173WI9LL0yjFtSfzFTS2EgKT29GHSDGpa5vLhE+jWBqRKMUv9af8DgKKXdTn41EiQMdmHTn7pNxkLXDP1lQAyiZSmL4Jetybw4aaImhN2l/sgnhfRAWye5GX38A/1hih7ru0lj4RFxw1FiHgzpbGz6Z8AAAAChAZ7odEJ/AAGDiL7hIA5BFuiI5W78+xrIofLq0/V1svRjAqTPqUUieyH1pKWRAaB2OteJE9JD18VVsrR82y6/Kt0x013f3LZimGUNZNKuMVRh2rJYLhQjjfPYMM+4ISMRV7E5RwkrMmj49X6vDgULhVZZGXvk6lDlPk2YpJ3QsvS7ARZpVzAcCGL3Pp70Z1VYj0Lr7Hd245nTNmmC1isY+YEAAACaAZ7qakJ/AAGIeXznXGLV4Tda0IAJvodx+JAzWTWYpmniVH9Q2fwlT6Pn+NFPnEQtdjA7cJOSW+EWDWEMAza3/+EJnLVEySw4egBfC3Fp8OzzCgaY1kWsbXBQqFgjaHQ6F03iTX3R1XqJNINa5cwNom1Y/5M9VINh8P+SEHZ09N0chDAB1U5nytx5+gVsctwH91+OE/1SJ0RFpgAAAQlBmu9JqEFsmUwIb//+p4QAAIr05uoB6gARX+PTVV801ZZzmiAUXthZA7Z2dJak+BE2hr4OqDPj4RREgjPBxcMNBL8rHPOcs4e+OgJS87FOUHTUkIg8uXTGjTI7oVJ/PIVmzr59+p10vw2QFgqrQnrplltD9Qubcjj+m5A/ZOWZiJklewm9mVk98OSvSkK3xGiZ7jIMalbqpylNjGzEnKwEVgDnue0XZTYxr4K5diapYs0PQg8s17JbXImbBZGwKeiusYFfU8UuF+veyYlYaHMay9d+HCQFUSFf/8jA7pccAGP0OzYAodjzVoP3s7Ab/Nmlrt1/ainglIbP9owj7iXBh4n3em8XcDjgAAAAqUGfDUUVLCv/AAEuDPHY/cE9YRz71km5SK74VhiyMeFcGV2LKs+pQYi0swHVlKBMrxKgA2gt9Hl4l5drl9kv/xyJ7YOPg8/J2TB59gd08G6Sck7FNG8RrIZH1E6fUFVq8tId+tr8Ssozdd4S6UMWRlH3fPqdDdFtTV4WIR/rxVpgUfEYFDeAxeWXdn3U4UtAQhhTDcvIYqsjKY1HcGdkvx9sNIVIFTlcOcEAAACQAZ8sdEJ/AAGH9Dux2DnMnG8+E2Rye1Op9dUAJQOL41OSf9yCzvvalHm1JDkl6amIcNiIJXFGZq6sW5ZaoG7hSkoAWjGqtoRCWMHE4F/wU4wjsyMH6XofHrQdJqUtErmBIx78hSRM57q7DVFEie17tJJ50DFy24NAvQYHUCdJBa7J0WuDZDH0I/UmwptAae/hAAAAiQGfLmpCfwABiHl8575ucVticpDOPOWBcP2y0g+n0DhqfZ3LVQYABKxmi8ZDGcU9q4/fsWOEGQ24sA0TD6qfwQZSbtDEC0JWbxkJBhaIdWg2YiFc09nW92PczzaWOcdrg/jMs5PLfeFk5zoQko4Y2sBADM7hFuNfr+9G+qY79aeMssFf1n8Y33fBAAABFkGbMUmoQWyZTBRMN//+p4QAAXXmXage5V2q2MzABxoAx4PndbWb8Geyxi12nnuL9U6Yu6NZEFCk+uV+Qm5cs+NYxaIDWhXYTNito+viPhEN1nD1Kw2MrnPTRrRoN73MlLl/aB1sOF1FxCURwSFPsFtwVmHY7KMKlx86G5mK1kyZ8h5+zoXU9GV0rSNceuKqgENlWtC3lofjLkLnOXHVw3rXpygPQjt6CpsEzNMLdjapmODP4oDnJ5hULURFwHxGwl8xZFKv9I9VAHWwG8VDf7S1sPItBD0u/++4XPf1z9NSjPchgFzsTgIFQVoym1zAC49QF29uF3wr9zOJ4aadm8nIEmrw1/luQLEPsVQJ+lIXUqdeqANmAAAAfwGfUGpCfwABiBTXA+Exd/Q+juV+3Vf+npABqR2zztXfWBUyQPvBNmjdV+J5iYsaUphWJzHi4stp3n6+i2mitFp4B7FoCT8XsxNve/sYcBNRClJzP/5261wDXhm76EJ9Dxhnmc9sLCI6+DoW7lpVidYp/p3gDtaw2SbUVzbmSsAAAAEwQZtVSeEKUmUwIb/+p4QAAIqHN5uQBfdcnWtY6QXAjG81rRJzZ+LTCzx8K4FAKJRxIIOaoEXhI/ImroH8xTp6dH7GUuEt+0I1iSK/Bg27g/jTIwbOeUeUvbx98NJRTRgxaf5GhIQ1yt+p+qdkkNGGMLEh0c8T0xup/Z1qLUGFjk2Afq7KsfJX5rh9OgoCrhaEeF4QKeh3oFAG7ZqEIVy6nnIjHPwKAZpKfBzZhwzZWYOGIfuMn6kEDzxUnj3AO0Cdk/6KCU8A3sfTdhQgmbM0YaLkr6++6NydCgjZDDIR9ZFa+GlCtcpQav/BBSbL6P7YcVFojbHshzVzwZHnsv/MK5noMkgwzrCbVvMgBoGWLr18uyUzgogeua6H5YntoNgMmks4fXtNfsHtoQJ4+ORFwQAAAL1Bn3NFNEwr/wAA/kbv3uItOM56O4WwFeTiCoOAEjV6AYely4prMzqEqC56GEufrBSG50lizskhF2c5TwLSwMeiLYVq+btXvGicJbemFAoYx3u/81MnysBK4MsC09swozKESKuSHcdANCjUaA404yjkULnpraln55tCbFBvJ2CBEHNNIoLmGrCgY8B6wIGA4zoDxbksL5XnRzWWN8kb99l9yknnq1Pw0JdxZB1NzH5RksUCow6+U829dKaWnzAAAADBAZ+SdEJ/AAFQRlo/0puK1DJTf2EliOv+yEAKkH7lAIeD360doySL34NZEbpuyeykY2jQWGoJiwzDcIJTC6NkmJ+Pe2TPjyeone41w58JKq640pJW3FQUUcwFDDB/yBvFVbtAbSs6lKBsknIdJkqvHs3NEGPDiAcPCVHyckY70JhyKdDq64g+3kdwbelkE/pjAnuFmSaOsA9B1v8ga6oxamkEVYXu+0W5m4wWRDiVSKXXMJlISGgumQxknz3u1bDPwAAAAJYBn5RqQn8AAVC4DvrRjX5EjBeGvleXvaapqQANgY6H8cpNE0Kf6W5JADay8M5XS6iglY8TWLQGIeC9APxQ6TaiPbJhIQQf8Pg9zjVrwW9j3Y9a4Gx3KtzhnsUxRORcoyCUiOphp7Mq76MbE0ksC+f4JOjMmqwRZcJfIweltG65e4frUNhtMkban24xubvOjuDgO8JAuWEAAAEgQZuZSahBaJlMCG///qeEAACLdN7TBPNy/xxDu8qS6bRyBsKgPp5cjKUbiN3NApuQALoQDMu5cdGfrF+FfjTyXOsOS/8n0GiSS+khv/8wQDPr5TOb21jvFLsAiKSZoE4klEoOIvURfIdtAnbZWSyocfhe2cmYvN6iIy2yzlA5AOnaFWKAChA770V/oViRIkXHVrwPoB8tMR17G2yR8vSuNBePCzJndd007HgzzQjfbXas+BIqbdONPpIVJOH9B4Yt3OZTG4fcthobqKDABJnHHV780NdWMrJhu5my6pu/+3Cee/b3i/9HH81e2WxHspLB2LnnK14gPVxCVAaEFjCH+e/Zsj2m4eE0LgjrN83jBcFKckUDcbWXBszaBSn/sD8wAAAAmEGft0URLCv/AAD+V6bH6IvLCZOHiT9dfADUAsl6rSOtdWNLem3xbDWikG3CVZyNanWHZ8XWo2JUS+SfdvpbGEgg2yvNFiAeAq0ZDD0bPolzKaJw4ChiyNjWT0x2BBhr5LT2WMHCBQ1XFvGJgqsss5+4niohi4IyWtOFyA6pWfGQRh56MxE2MV5uEZZQClAyPmdIjX2zAFlBAAAA2gGf1nRCfwABUEZaKSfAnaSRzqpFPPXWSoAE7M7lAtFzfjG4v9ecnLLU2KBU1yJcRGQt94zs+isBQ29sBBIKxfklRDIqtg7HH3UR9L5GYIaEI+VzyNkOMFt7GstVdfCL91Ysin9FO6vnwf905TOyZyPdMgwWZS37jhiWI5z3pWP291UhLVFng/CRQ8uTlgK2jId6e8u0wdTUgk0T0JWVVLAO2fQwDlvuAsshduL0JaxTPXij8zfocD6qjTurTx3KQ5leNFRtCg9h63YLYOshcAlD5pP1O9Fn8RdxAAAAmwGf2GpCfwABULgM3AOct/atPSoj45Gr/lwhN/qAOYdTxDMFa5b+TOhHybcKFNFP5FYhJ/5K4jihh81VLRzPNlfZUz0T/dlRU06lGkeB2JWDtp9We1K9oHGTofUyNtQxmmo3Gn/Q4vY8C5WlLBQyz6WSogbwR2DQ5VeRYP4cO4MX++xPRdNmDWiq0OP2Fd5GxHb3QgmIX+O2j4toAAABSEGb3UmoQWyZTAhv//6nhAAANjr3dQ0v8xAAW0doWtTY+Ge5h/6mbafL9zCfMtM1IEvqha2PzaRaj32bF+h8gObn+yILTzPsiINmcE/ldLgmXP/jB8yucSTG/tgsefzo2v8X7JNK3o39d01CZt0Z2Y+2rkCGmhbx4vTdX0Qr4yz/2KaTHZhuPJhnmCsesUWEm0HVk7nSJnwwfDup9PaqJGzfF48m+5+NIrAdrQCgXtidJpx/cqcE4EAl7X8zcL6T2MhIDJXf0b4Wjq4Hurstm+TOORO2rU0ltL6Rm58LNxcBHgPGJhKZ9mbL4AfRU/l5HcrSIR7Cr+GNOxJ0w/TGVRd4X58z6kztgiRWjMBO+O1jPPKsw3PYgUhAD+Zb+4ch5CarhwWWqMg8ZbCxS3hdHLRqepAA5l68S2yJfbQskJZUQYkKN9h5QxcAAADsQZ/7RRUsK/8AAP5Xo2uefCDgscgFpr4R8gwAOPXo0ONqDDUpO+QFRlczQRNXblBR8YMrgodLZN/jvx/44zA0SWclX9zvfN1hje9ow3xxZ4in1iW9cP0hTjbuQq4t4KJ96CKqzut8vWkh6xrmCZGfMVkkhEBFgzqF/DafRWeb9ABGNDEtOuQesV0Ao5ZTj49lUt3/WABpg14vrqBPj4yUZnIfuopYHxTpddY2R1a/VjOrMLAihBUZMEGdRTaLxdjFaVXsto3hhvDuGmBQLNoDjTueNMn5ay5z5BDwZJGKzgmQTMHNQkPrtofIGpAAAADXAZ4adEJ/AAFQRj8TwMfSKgmhCgATLTJ/xwvyX3rsOSCoVw11cshJuyF5hAFxhmY5Owb42j6EWGUiq7mW8Sk1J78MsdAp5M/2GpHO6AGh9NWFBB4Z3WJQKS3NoG+49ZNuHWkmrYDlGJWNSPS0bSdjLUovi8u2pRyytSPw7i3pMwtnAz3jR6JDunDrPS0rRufbD+7QXbntLiZDLvO53DkVr4EYk8iTI8rE2H/3EaFTHU0w9NZQnNQnvRIXvRB1Cx3fIAxgniWzJwWkd5jvTzmgUn0Oke0j9IEAAAC3AZ4cakJ/AAFQt/g2ki4ugCB81NNjuAK35XHkrRoODCbE8sSXkgeTtI1NYPTgpaOupx2/wae816HYxCgi/RpGzg9To0BmUWWRRP4L5vucMKb9EF4pNxv2q7Wyy9OAA4O/oxyun5s8McOKqvGRULaWB3LyAnawOv7vtl8+bzv9bGPtnWQATqbsloO8tnb9afO1IORW7b09IxpUwpwTWJXypyf91tAA98mmybqolx9gL43M6EHzJcnBAAAA+UGaAUmoQWyZTAhv//6nhAAAO5r2OrtfgvgBA0wN7geQH3iGLrjQL9KuACjhv1T4CySkmHEdlYgNIiwTfU+xHzv+lwAhKoQnL1OHSM/fNpQKKC9Uh00v//xT66k+3NoVjtM+q0eZ2tb9F/pdV9J9Wj8EZanNIMkZFJwLhz+6x7OSyF7rIe/fTknyjNZ+bvseJ2PU9VQtWBUS5ZMUap0mrxBGzcQj/bIyAD7cGmk6eKooF2FMOscByCF3wdajivvtiDeNgETqfHoSYP6QVZvTge5Lye2w8fqSI5YHIA4op/G4La5TcKAew2eSZGZ2VfIml7r5lM28+vsHTAAAALZBnj9FFSwr/wAA/leoW2T+cy2oSDnZXL/g6ABdBSTg9xTC8IThYz4qTrEKviEaaqCF3r6OPPoSFTjqsghv8RCycKHaTHoA927UYOIXzOT7dlDVy8zAETPXGkSEQc3Rn3tXqObfLRNrDav1JD9yjeocgZ3TeEps+6atbZKBk2wWCuBQ9utIONGJcwAejSXvNrNjo94lo6zuNlezGBqNkjtdKjfY3sMl/D5bOn9hVN2G9FngZpQqYAAAAIUBnl50Qn8AAVBGP/UGXl4ALYzvMsRDHWlC/CU/gB/MfQ1E2iawIbJ0gG5ScL6dVUs8SqlmGJzaWNWIHzpfpK7lVHOBZ38M+ASj+v7EakKyWyEBXBwbCMi24S8zgroGc+5cUH1nxPuNXmNsZj6yBkLds0hwNn4/6Tqkpb1xcfPuQOMZD7q/AAAAggGeQGpCfwABULgaKUAAWix2aPLYeAIjnFHEzLppHbTbJPSHLpUg5BpnKOcxQAoGXac/MxP1/ZwpvLSqdMaFv4tTsXyqZDKmA3mvfbADgB/I9bu3j9rYrHu0RRFs8gYXxHOX6IZP0DfGM5tkHA7maKU/IyKC6z6pK8thqNV8iyZoARcAAAD+QZpFSahBbJlMCG///qeEAAA7muyXOZv7vEAJprNRVWRyLNuq7QxK4n9PqHqlQTJJBgIevakAJ8soPw3XZbBo+CuSVtWpQS+JvKNAmq/m7DNEfhSwkA3p/a2F9fEI7RsSxHrZTgx+r9Sev3ZQBzfxt8UoBJ8vzBG4ifSVyC+YA5F0Up6RDPsRM2OT4RvnegTZwM4aZ1RtT/0lerGRZC0m6Bs0AvRd/Q2clrhPLezzcJRLiTNhH59flz5QKb4YYRdRWGUuvESFY1ajVTNHPFhRJNpoWkkR0/jECkoJbpKVaW0DXF0oMwb3g1JTZdFPeTbxPVWn3yoWuLTyPSPjKBEAAACaQZ5jRRUsK/8AAP5XqF3SsX2uHpMk4ArflT2cj7HOVtk4qe55QT1ES2yUQmNB9iTshhOEyQIiN9gNmba4jUoJi25k+WcVE7s5FksaD+wlhn9LJRd1ftqgRlRotNJDcw6RMDf8kZRO6oeG7nTADiBxJFooPQBVWMDC+tQPkI322BzbEEUbjIAi83fxma53zoswFhKzEhr0UtgVMAAAAG0BnoJ0Qn8AAVBGZraGXNpZN39ADbe0sAlFLI52Ju8CxY/gYgdAc6SlgJiaU6HmvcoiwecnaQrdHEIGx8bfqLQd9iY9/VJyxljyYdguT3yBn5hqAQqAy82/q4PmGqSzK8COJ7qDgA1o8q3ulhrbAAAAsAGehGpCfwABULgaKUZV1NoAFrN2s4xdPOHStyV9H3SjCBpee9PuTu3s6JF8rlWWA/x3uVM2KQNrT+Sfn21fELV9XvBA2smLeWbd7JiyXGr6ECpGSs4TeW0sExR3Oso7d81qQ5a+4i/dy5EqkWtOppy/pcIB/opVrz6NrI4E/AgtOzT/kdJ0aQXFW7zUaiUC7Lzg5DDxgHcY+YVAF+Aj1Np5sNkTMt8n33hoX+J9cnehAAABDkGaiUmoQWyZTAhv//6nhAAAO5r34GoRAETXEl0j7Yaa15zavbjoAsQZqXRiQIhOOvQY+ogS4TnEX2FW2EhOlv5ZrNbndvfDGzP6ng5OIL0F6fAsQ9AB3nLTQekYjQMemWRGSfXtegWcBt7FoMsYsq4p0Ml8ISOW9qfLpXbdB+LMM/aUdElq/6msfvW7iZAMB1VB9UuSGi8VUzfitAqkDplC7MlNKTb6RPy8fRCvv/L09hL2XQjPsXBpfBCeE0b2RX8clwvGkNjgOR7qu5oA0DeZGcw4GherUv+cfFKwfHrSGDd5agUMJXktsiPMa2bd0m/gDHKB3E5al2JzLm4ISZHFvybkuVQeBEZZ/uEJ2QAAAMtBnqdFFSwr/wAA/leoXdKwICGmoqZkAL7Cu25rQIsX8O8g4ZmZFzJxuhi9X/q1MjFWtg5wwzfXZITRvmHu1f7u02SYZcBLq5PRB0fug73Zt+gNxIZSXL0/5uA9JIzptwrqz9llYhzPmNkPFhHjAXFN9kTwDJVSd17ks1eLNYmrUfT7CJtLYmwhhMUCQx7B9CeJl5nJQp0KgO0WeK3825UWOotr4LcgBIxqpbjpjKgbQMg5MeThnkwCWw04spErx5JBjLAuILy+8KBRgQAAALMBnsZ0Qn8AAVBGZraGD+NcAcmGNzizI6v0YfY8RyhV6Ufd74GKWAA8YGrMc7ZW7bw9GCWwhjkgMooaTaZOPDuKG4VqtsTJdc/aXthH6Z4WxmMY422u5GGnis6uxi83Gux69cmqu36yAl9cqhv7Q8B72BWZAywATz06en8fKr3DtnJJ1Rw/Cbu2LZTAvuHYxby/aT5lupaofJneZvrEGjk2UKFg+hvPXKJ9eKB67gkJ7EM7uAAAAN4BnshqQn8AAVC4GilGAvUZ6+0AUAm5CjNQdvXrmgwALgIuTtEdSUjQjmeac2pUjx5SNokn95q4F0VdBg9RXa4bt0RFSvJfFGZ71Yxbds469pJ1aK8eC+zAYs7W0yGP/0Mou6peDxu83c6EbfTMFmnyFmxY1pQI70Qt/HgY1NU+SBCG6hEP/+RvFGMdqacXOqG61yLjBy7gkz0SwmX4DAtxuC2Lfa5BJxjJkmo1VUcG43v7qTIyT8A4b6zPRrcdNIvFiXrhJCAdXQH4o5JNK5lQNKJsAcdAmZAS9ik4G9AAAAE2QZrNSahBbJlMCG///qeEAAA7SeMjd4SBp/NEKCAAXSenFZ/TD9cSrNEV8xox1xF8yX8a9iNXqqHzXlKKK6wdXKkfKSNFoSjP5rhr14A930WOz4ghmSb5/fYMILRPfTXTGkiscM5dqs0KJwiBsNREcpXw+XGAVQ+/6iQkAn/su79ChDPhAnRet4/O8ZGRelK4bHvCFpSccW+KUNGCg45vsYttkO6diXtVjPvJuYi7pMzJceF9fyZrsYFfQeppoSvnrztEacA8OWXGRXPI5zskuWrt/zyyAXfxQiwzLTdrKP5W8lXF0rLpB6wW4yTgrK9e9KDIGYEM4Z4ZWKeFK8i7Sj3PzjiXAGkZv920rurKmx25jsCbqRkzW6NDgjYk5uAVNdKdmb6Idvekn3FzROHKyIKURAdDwQAAAPtBnutFFSwr/wAA/leoXdKwL7sNd2BUEehf9WEAUFSd3wjta2U1D2+kNDmJbln9K+OPUR7oJRH1sjhB27g3NdhhocTJrZeEKH63FGGepapbLMZ7IXn1cXNLEkBgAGDwXOSXDlKQDJTtFq7Bvk7W4n2ausHe4/b3zBCoVKADf5/BAlDF1ggu5H1VltnmJ5vpkuqjy45aAf7JgiHQL65LPtBTUPub0Rnam8xRKtNJnfJD2C3XvpOdqfZliuraSh7dP9p9/yEOK0eA16mmwxcs+h5J9rqBl1qfy8vsDMzfDBFkXfmsSkh7jge03NsyPIYrZ0Wlm8ucWWVnLbkHdAAAAMgBnwp0Qn8AAVBGZraGDK0ALV9KVdV+POKZjc+BV+dhjL6W34LV+W7H3JYV2Pt8YQWMujdDMna6GacHNhqbSiRqwQ/tR4XYJG4zmaGq8Qo+/ioj2ZXjl+JR3sf/rWnYCFPy/pKBfjHpUE+so6KTykOsxIJQqfEm7L89p5qnGAGSkmfYOITrffD8E4eAuGzzOe9eIG8nRqzluRSU0ljVc3LmoWzc3Gc3Q1/mPTlJr3UFu9CHSFZKwnaHFuOfVQhrFaCjp8kwA+D1MAAAAMgBnwxqQn8AAVC4GilGA0EqzOf6j3xa7ujfAFMeeN+0IwAspT5eN+R9oRHXVJgbU+oM1AS+zm97B9wSYWsW2Sun6HGPl/pHFKAlT99J9AILD7lFzsBahbezFGwzbTGkAK+HDQQk+OX9lBbWCmiW4KCFwzLK8zQBiXuh3B3YTxRHHCAstHeP/PdbbkMpPlBTPPQnPRdoMpVgNa48KUECPx5ZA8hXChK7jmUQbQvVNBjI+4akSQaCMLFR5sEP7FFR2Rkq/7fQ9xcJBQAAARJBmxFJqEFsmUwIb//+p4QAABawUQ92VKrDz5BEmPFhx2lwx61Y3ABucpQTwIzNmbZcM+tdiouH/6Eqg/FTNjqd/ml9+mwD1QLTKMVlOHMmAk2Q4UWYWdC+kabKfJBmO7Hi/knVEqCXkPfVeSnGzIZcYvBJnKWsSxRd4vn4P4coo/buLqsNIoCNTAGYYD1j15v5JMFtZtOT32FU5gQXid9WzOhOOyoDuw/K6luHVfM0kzouAzcYTbp/DnOxPQtV4UGeQdP7JfbSyndODxnJNlg7qXgOLbFV/kvbIK0cGXR/x92Drs9THrk8XVW6tb0Z8g2wCWdEBkTYXFw5cZdwOTURGQWUpbPopuB5flU1zKzhUcPBAAAA60GfL0UVLCv/AAD+V6hd0rAwm/mwVV5hQAjI6Gwrh/EyZSKhw2fxZth3LZejGJKS6ASfkkRJq9g0EIJT8H0inI1qc1SNSD4AQ+UR/zYvcbCHV8dt+E29QFB93/Bcfad27+zvU9GF29CYRiXTDjrzRw9oDvlfTK09dXS2KgkknIbLZ/1nk2WCf1YnO1kXir5TcxT9AVgmD0sXE0gZRe0qGtaqtyY0UfCmKQTI0xz1jiay83aWx1+OPtQY080KsrH0Ca81isq9OO3K8cx8uBEB6YiyrO6nEYQL6ghDHDEmuGXPAd+ib0ittmFoeMEAAACaAZ9OdEJ/AAFQRma2hfx5jJYRdWmGmACuJIfJ2zLBHypVOUm2K9mV4HXD2lgk0zBaxOve/UlO3x24hnSaI5//Ed7PO1d9XxjFWUmLkVQYCgLj/MoUO9m9mM9uB2GgJxReGdsznFoJjcshTdCknm1UyxATNnyJN82Rgw5GpkpQsfZoKoHbaGLkDtrGmmfdAv3LWz7/68kXUnRNwAAAALkBn1BqQn8AAVC4GilGA0Eqr8A3loAF+JK5hNSGKfGPme/m1XbSfGpi6Y65iizws8mj7T6GH4eQ5maKBZJeXBKukNTMBINJ8E+XpJ4Oc8mgrORQcz3C3Cc8N//7HTNDYjuxEH36335N4FHBsv52hVrLwsh+Xy62YodDUeTRsxALTyJCGeOm/3Eh+gh4ay5yvQZwFtfP5PE8iscCJtRg4cYPtXaiHgQtoKB5nn/8gCEdML8hS28r4ocPgAAAASFBm1VJqEFsmUwIb//+p4QAAAdpIFjSXZAFbRaV6wczL+4E1jQNEbwQIHBm2KRE1wCQ6g5rO2Yb0BZGpxPghIGY6gi/Gdssp6FCfvWMvBrmlUXs25ceF7aOD0lGNjov2tAlTaYi2Rk5oMT7Uvukt4L7dUJpVG5Uk/b1CY/9Qb6C6tIQQbfxw648JTGujkx5BkCWjxEculHd5V+WlxO/x6F3eVT+fqXaW1c84jeGBfdDV/WbJdGIw4x8sT3JcfQzbZmQfXL7DNYnM059/PoRmqKy+HCzkNOYacxOOcUC8DxfcHhzK2n60ZAUq484kcp3BzgzduNTrna6db4HW1nmAYIvj/5HmDS3PFGV8qqEpHyzdkVB7RgMn1+EtLbLmZBig0EXAAAAukGfc0UVLCv/AAD+V6hd0rAwm/mwVecpDPoPxBjiGjAvAVgBbxpTCyRy4HbT4wgalRLxe7Mm7KOSnA0o174yoFHxJEflkayegoYZbu9+r7EW3D9YYCh4AO/5LA3IqIfWzo5QVQz4LOAic8l56rRH7F/+Og90i7bMiHiyUYvCZT+FvNJLDuHCFN/su4L/H4cmrtrQXOgpR9tocfm1znUX1+ARxEwsLk96gwq8cpZMebq+QRS/Y6K+gJgW0AAAALYBn5J0Qn8AAVBGZraF/HmMlhpnEiu1BZMZaaeFcLH6EhRRzyAK1FM8pbL0T3koRaYkWEF8q/TKEz44hLevhdILGzH9+2hR6JkoJ2nrTNXd0MQbwSRw9bB1LUHo08e7TacuXpvvniEbl70H4Nod0RmE+Ot7yfxKwH+vZXQZpou7lhqNtqEkfUsTVY65KVCqn3ZIQYJT8lAC1YyPhDrUMtxk+YAJNYwraGce4l21Jo0h4mIR8K7UUAAAAKgBn5RqQn8AAVC4GilGA0Eqr7/crBgLSug760JfWCAA1I7bnM080zmilVUXFROTp+6ttAhPhjOzoWX04rCvivP6DLw4eUKvVpxkSahkGaRdK2hGHWV55nNI0sVIrUE5y2yT+w90OTQAmHbzZprKI90uTnV1KKHHTURXpoL5WvehvY0mH0FXE0U/+SYrtpMn7HM8ko7jGL496NKwPTo2jyzlxmaMiCEr0EEAAAEOQZuZSahBbJlMCG///qeEAAAHc4TzJYgNgv732HiwCIlm5WgveC8VwBEp3hKh9QVOkReMecZ3lSh9ItPo9ZuQ/U2vWZvVPqLjlwD8rpI5lhnKReHyCU847BopzwzYkkpEo1udotlOaGd2ubf5TXMZfqE6jyytRHQjgMre/moSjSyrWyMiYOp6l6G02zmsaVwuy/XRkOn5QfhcslRdr06WdaoOXW4vWkTQpMGRABdhDvzEy/SPKuMQZekpOZruYDgj0PXrBlLR9Xuw9ydQzJwHVrsJOOqozbsQ6fkTYlvJxr2/JglvXUbalXzd2jTCwSAsYvsSzGCvx6i1M5hk8t1OGMYipvtprwX30IjOd0HAAAAAoUGft0UVLCv/AAD+V6hd0rAwm/mwVecr+0/NrFiSOYFj2grXdQ9ONNA1oBFi1pvMfu7ahKAE1oOh8/Me5al2Dwt0kmIiUJb5NluJLBt0rJjCelphOoIjCiViAUi5ufroPS6EZOaX23kFsI9WgIsnLDbbtdTLJGiz/zzo/nZCUvv7wh6L4i4vHzV6qYOXflKsglngQZwt9P6tHn/6+C152BOxAAAAswGf1nRCfwABUEZmtoX8eYyWGmdjCcPTk9AK7xB4DeVxQiTiBGjxQm3xeFlsp34zNWVqHvSPypiepR27EO9IIxapN7c6h+92aXfEZK9PaOSvNU4IPWKJ/ai82S5kjJnXt/g0bvJojsFkpXJCSOTRpDY/IGy6H2JG05/6YvNF4shgzpDqgL2stE2ArW19S8Ni77Dhj1gff6iWGIBoJEGqoXmk5RBzl8SA3m/7LBqanJUq1oG/AAAAtwGf2GpCfwABULgaKUYDQSqvv9qxkAAHKqWX7z7nX4Na0teeQ5JMuG/AtQHnPE86rwEHbke7KGRz7ksORw6fx0QzzsmfqPBnxqWh2MRmdHiFCu/eTelDwxqzp3dXPj6GAmQRtZ4PQ5DeqoWCDaymyByMJ7XXpJlJksLhKdiYgf8LEkleZNAb5uV/Oj5HgNbHo/bFdr75UqVh9dKJ5TVIHIxk9k0iIiFWgdlHzE+uGoWEARUavq2B3QAAAWBBm91JqEFsmUwIb//+p4QAAAMC2b++CDpTvH/Virg7YMJegLdXQFZ7Dl83oNdw55L9Y2LE2pxGdFcDNBxP7t9eBzJ+j05AVm898bBJiCZWDKILZsaHEC+6qOxGPh+S3PfijFVPe3sPspv37kU5kIsaGGS1DfQO7ceyr/DCoLRRKgR/pj59qvkruzPPsSoJp8zD+9jkpoXf3xFxxfNA4yaBdc/M86Uq/1eQ4Kcp093QjP431weOjsY2yVJ9deQdJNlY3cgE2BjKa28sql9XfYPxxUngrfvTat8kBF5M4kVPPu03AlvZ8NCtky+haNGREP/peSqSJu7e4I2sGC8U05WizOPmGx74APpPUJT4oRWaoH98yitezD7urn0j/U60M/0FMlUmEK06ietXXRZsbwNgn++JGlKIMyigRFa0T6NqohEsWKawmalaHDP2PsbSP8E701/ThGGk1BK4EbEo3GtBAAAA00Gf+0UVLCv/AAD+V6hd0rAwm/mwVeTTIaGwtg4yqUHgzdsIAbZRge8zdsf7xCjCbEGSLl4O+WUFnSdFq96nEVEPMbaze8kparuybXHjVzm8Z+4YchHM0Q0WalYG3OLLLq3xLJRHDP5XxKXKeQ6ZMJybmZieE/CQrEUGaeIMzo9Rv63Z7olssifH1Fv11AIyXd2hAIqZEm0DJ56AqaBNfzGBMGWij2Ug9ng+e+1P6JrdaIFTSV16+HwYcK7OFSW3vFZt2V2dDXfRrUSgkKFEmi/fgmYAAACWAZ4adEJ/AAFQRma2hfx5jJYaTUejJ9imutz1wA3WaRmbGeVjL3qOk8IK19OvPx2DseDKy7y3unO7n/s6V0H7L5rE5CfFsDoP+ywSpLoNRPLcYiw//tINVvVyqWDadk6zI5+E1fZZoo5+0dSUGzfbvmKer9Ty6LHi8YLTmpg9NBDk0IoKoON7vONrFJruMIld0CHhwCyhAAAAwAGeHGpCfwABULgaKUYDQSqvv9NSgHJMPJ4/f1anF4LRcy5XcIAFSI72UCTQ4sCp2hrOkQNW4G1qver4S3wAa44gQnIuoXY0AdWwbNZ0nTGX+4CXITtC7l2B+wo+IWBuqKvJlk93DG6Sifzni4vmNQksGR0xIm8hDhtGNBExoreUX2MBp2HKynBbYmfp4kHYHniVLaiPgnQkvjIHIrtriLjXVVGCYyaC+IfjluvyheJcb3mg71Lf0pLO+HlEgCY5OQAAAZlBmgFJqEFsmUwIb//+p4QAAAMC2e8k+Xv74+AIGsdKRkDGagQP7cS2/9M0MUu4PSbjzOuvkHU9sBeIeEW0yS2FvXz6i9QY6fDN+aCI8v8Zrp9RP6YeHCJ37l5qfYB593DjNKrbCknGdAp8fCKH+wyGEjsYWN5ff3Npa0+VuBjEtRMvqx8+keOpX2vRgYd87wWDQW4kLWn1u9h2R1+Rjtq5PH1ecoNoZNMrK8zzqG2aqBhJvsVdwZE02tg0ZjoEvLZnk7OpEgYmtigyG6zoDdkkmUpgVIHvcm8eePHk75u5mqr88PrEvTO778ZzVENNq7XdD6MOZQvIf16e7EEnc4iScICJau6ARwd5OBusejc8du9GMheTxu5SbNWojw6/FwHdE+dqEJP/thmSvLOdY+K4Hcpx1kgkLGMlt5LrN+Z/+Z+qbpfethY4+EJ/lgrEtvWNGIdiCMKiDcdfAS32wFaAptQGLHmJOthQMZd9/53Dbe1+hIrLa098W0SIuOqRzNDZJjktB7TCuE1hLs0vz9DZ1ic72VCL6pOAAAAAu0GeP0UVLCv/AAD+V6hd0rAwm/mwVeTUKEsaGuKPZtAHr2zCRYjfE23tIPc9bNLILDDD3mHKsOyKSProiMrZ+AOmSwb+rA1zGM+BqyXMtLj3hEN1v8mAGVCiXziZiuNhiBzs02cuap44lAP7WSSY+6gFvpsPZ+h6SNkf4RARFycQgytnCC0dLsDPCxKxqFYzC1gjxQLvBxPGzsMpm6jS7T8tO6IRnPiM0Kyx5U12EwAXmdlELDDFkFW+FtAAAAChAZ5edEJ/AAFQRma2hfx5jJYaTPPWyLQYromB8AN15XZPplV8TlgTb0y48EnvBCzQ1t6HnPla1Gqrg2pvwAMHJGg34ugdiApI3K3n+dB651TRrl9kKPqkQNZGSlDi1U56snQVAhr8acNQ63jGPgsp4TqwSO+wK6KOWUpz5qxSVeYyaHxbXpRDaj0rveeHM7T+dMNgvwQj2waaSi6cEjB7EbEAAAC3AZ5AakJ/AAFQuBopRgNBKq+/01DnAoOBOiSATCPSUtURsBZAJS3KblAhcX939uCDMaoDnkQNltm0FN5z/ZZ6REimJp6MD9oTv7LATpkcHk8WadmW19X7i4KcB2ojo2e37LfP38tS7Ozkfdsj1hqq734qlChMyRpmkubyjxKmrWPM+EbrB9yvwsyCG2AqqM+s7Z2n9dR3ErlQnedWgErjyOvzX4p1LrMjKG74L+1uyWf5PFnLvR6QAAABR0GaRUmoQWyZTAhv//6nhAAAAwLH/R9GWME9VguqizKmi0LKbnfBgqVz4EXZdK8MnQFMGdVBQHiBUoaXs0Zd+BemkFWF/wTHWc981bSEErQueVz4al2nkUlZ0/G8yuaEkJPmtTDfVPxzLOq9J6T0geL7SYklhGUjvVok2Yfki8dWYQribcy4kHpo73xm+qe2tEHvxkhNgEqYeY64dITk24yEze//IxTq/zTdIBgtkkTBwVbrmSaiFUguIDddqM5R1bjFH/4nh0kHkAwm00hMx3VTujtkT198L9IYMOu6HwhAAz5OFrNs/1N9HWhDQVkZiLVlXfgqlyLL1zaTSRx8U1wELg6/eewRwvsiP8SagvdIZR4GyyIncuH319bBANKkPoIb/I2kAAauRNHkdMcDYicwySNlEuYAu1YOQchIiY6KtWXu6d7Q8QAAANdBnmNFFSwr/wAA/leoXdKwMJv5sFXkySf/Dyt2gFbVsAzKO/zg0oEbBHd94VwUZHtaIzPrArbdUecEi/Uxc1J0VWQpMfh1ZyMw8hQLmvzi+5v/+JJ31VDW+P4IHN1YqYzwy5ZwfT91HJsGFRD/m5E9Gi1MPhE4aoSc9L7R3J9DGVbzz6DXrqRErNl0fTZG200w4MLVRnKcC7RC1FYEVoeLFD1JGp+89rD8Gql8f8qUMSdpaPITlkXgNkSVhc6avkFWUALR0xOk8J2+5ycETIfjVh/8fm0DAgAAALoBnoJ0Qn8AAVBGZraF/HmMlhpNSYafdp5OOmDfy3VgAbb7iEAvzNWz+juRd3xKArfkOTV1h9iLlnbzWvmQ7//Tto5S3AYN0kl3pJ2PukzFf35OJ4usGTylysYlWT6v7Nr2mSqXV1AypISy/4USFK7LgZQN/OSWWKKyJKML2rPRV66n41PCsIeDRgXcXTJbDtrxxlJi9Yy1ojfKNRB1utEtjHqknz8JOn3YZBVWbDa8iGSvTSdItKCIYVMAAACWAZ6EakJ/AAFQuBopRgNBKq+/01DcE6xSPAES/Q6a7v17VCKoXimRPSsrvWXJRTDKGW7aP9GudTarzf6JcBAOo2Q82DhFOZvLmaZGXfOCqUVBYsQlX2MEOUUGzDFktoek2taUbx0Xzy1TvX8bJsgSVwreZnuHnlUNgymrkr8jkjVGGdwbEblhlk6tIIJUOL5t5saQRp+ZAAAA/0GaiUmoQWyZTAhv//6nhAAAAwLHzLtXdpODrPssVElGMuJXC1NP9QAriITKT5sHLRccwC/7ykmHrYtvQIvGirzETdxabK1sxK7OiHmNQAURK9jyCrfHh2L+32JuLcdc2Qq4kVWjzhZPaSd/mPVBCYQfMlHq2R8ZXZjPjTd8QK9s1Hfcsw/YMIeQN5PA8FRPTH4NwME6tGG4fVYNU1RqUXr7Odi2L3ieS7WYnUbUhfiv2WvA3zf4dmxGMK6mqomn359cEYNI+tTaUJqNlJnFBSy4ZDXZZ4gPkrAzSsOocUj4W1J+Yg1J4KQ3eDU3Z/KFKweznvX/ZOhjbKsXfwV7lQAAALxBnqdFFSwr/wAA/leoXdKwMJv5sFXkwU+4ljlCAImIvGfv1JKFemzAK1xF1fiDvWIzRIvJ8qva7TwoeyUB8H95WQBPwjf0Kgz1gz+a6UdBh7uWkjcQqYa5dWE/DVhhD/FZ56ew/1Ed8LmiD3x9RXZ6YfYpAhZckhPPolBfWaOv4JcMvOal+lcduxzB2swivTjohMSAdYFbnCZca8z106EwYKGBhOTYAe8YMLwGZaiWJNAQtib7cf0Ir8BswQAAAK0BnsZ0Qn8AAVBGZraF/HmMlhpLi3lEwAWHwuYlJva7XHr2FGWr1tD23GtwSTEwt821d3Yc0cEJxea2Fw3k0Uv2Wlb4AXYiV3gcKlKg3o8k2ye/ejJc77Gy68eSAwx9T8rN+TTgdqgbp3kGVsGqvOsLIZ+CCy1DEsatzIy2f+pphdebBLtbwagbh452MAUwbdyJIO+lNVsZCwmeJ/jOxsY2zCCqmHoGZ8LkP8hjjgAAAKIBnshqQn8AAVC4GilGA0Eqr7/TLNa/FZ4gA5hCgalECyBe15cL8tWfk0/uqKdEthD1Q1u8GhFMMUFwNFFk7EO84uceiU1HcANp4zETtL7Vb1zJa6+o6aCofRrfnTGKuasg92VE/7ChUJVqsARO8A863vILECEl5x4UBJuzQA9nzmjn1/eweLrJpR7cTq7RJ6XQTpJyNOX3MDkiBssRN6Q2Qx4AAADwQZrNSahBbJlMCG///qeEAAADAQakN3sHbDjQAONX3cgiizP62w0NJILNanzNcLILCDZ0uMMfiBJZWMrref/1gWPFN7Q3NJBkoTRGcqjjc4Nl+l85biLmwCh+5dsgXRF3NLqM73aCMtRBDvOm6YOPJLeeWStUMVcPSLHte11wAlmmz3OzTIUxD7vzjm2Qh0u8HjZMdPtoYIXN54hM9ensjXXHmzRJv6nsGLuYLFw0PgI848metmBMMXKUIRnXGRtczSZZSMMshb0B2i7UuHrjyY4sQT6DgJKcee2CwGnbJtQOUG65/k3r1jeZX6sKhwz5AAAAmkGe60UVLCv/AAD+V6hd0rAwm/mwVeTB7jKuGxjUAK1nJF8Mzxs+SE8YLu6gYZPnoPidfQE8tWAJXp/gwvlB+MPO58VPb07LdL2h0AZ/J27Ou623WtalxHimPg3qwgvGV1Dzh29RezWlJbcszSv80YsC4V0ozKL5fVUfkR1gva9WdbZ4kMjNOWtboQGLo+8QM0aPeRb8KvnQVsAAAACYAZ8KdEJ/AAFQRma2hfx5jJYaTISi0XHq5yVUh/4AAFjHv1J46710V2TDMGgFzRcjIwWIMFiS7QPrDwsUIVcqzrjOFsr8U8Y7oJlMY4L7uGTEVOflOo4pS9HP1lDAyzTA0dOhQpjvScVkBnJja9sakoImc0PF6HwBNgHbRP0M13t25vXY/PMaj8UfiWPo19EQe8HQgZgMWUAAAACMAZ8MakJ/AAFQuBopRgNBKq+/z6o+7XlABcChJ1jBd77mjMlNQvHNvSfPRRtFj1GPgYPTJt5WHixmImJDAUQR+6SNWuWqAGyJ2PWaGs81fp46M1kk3k08cYk42fVQiL5MxmzK6m4kpPZWDmJg4dzeqKx5nZENg5aK4DPIatSsWDoy/FLLhJcGQuBwNlEAAAEaQZsRSahBbJlMCG///qeEAAADARbkHy6Q644ATMh9B6cS76lCIzhJjdAs1CoKgO2adHhKF9o1Oh3ScrxaHMOaL1XVSysDvjeG0Q3wSsf/s+PtEs6x+e3oafyWltHo4wszBjQz5KE5ps/EuMIzwh/iUK4W9FNzLL0CwqB5Orcj18KQef/qKqDZuI/yC1mmwSiPfQhPGt5EMDL8FiwN1bwI7bi39UC6nI1/L3kBzE6t1+aRY5CNHiprEXf38qirSLG4Mm2FmHMO83rM17obCcyFyRKWOT95mfKEU6Rs6eXdEUHejYKoSPGRDSuvtClpWBrOee0AJisUxIe4oMCOjJrrEYSV1MzaE2MxLdLCEPSsZvaGsOv+GnetcbehAAAAo0GfL0UVLCv/AAD+V6hd0rAwm/mwVePuap4OgAuLqYGDNLsyz2eDmoJLxWtiuBf5kXS8jS4CJb1+WQnevXgA4EtJMOTMSa+8yzmhoeErCIxq9pejxbMO8gOFMbObaeEZU3t+fX1YleFiefkJld1vE9GSGetWymsRxiP7zCqCSo1gGSG+1ko+jrxDD1Qvh+TbAM6uwKpxbKXHNYtZ/F9UxXpgccEAAABeAZ9OdEJ/AAFQRma2hfx5jJYaQ85Vf1xKl0oDY9q/fklPj3vpwfkM9MlvY5OctyYA5RVa85dcgYBNUasB5ekWnmiao4kQsLDumiwbXf/q7o8OmOORTTHKMzpVVzQImAAAAG4Bn1BqQn8AAVC4GilGA0Eqr7/PuJnEFYl9G0ULMrEAADjNhURgzUWGhMZ8xHJoJRSGnsdRqPqwtNffyj459gi9ONJI7wQJf5SlnONEU4B3Lfd2Vn2njDJ+ZYo+jsNoPKKhazdzitqsyR1GYiasoAAAAMhBm1VJqEFsmUwIb//+p4QAAAMBFvggE0HKjfEv+GVIkALSfnaJOKeUbxP6JCLO5hb/f7pwvhNOe0zh8ZEoKBEFWKu4MwSC63/LZ/A1+5o3Va6gp0JaN6cDKKXU9GvNe3MmbOuk9pkn9BM9RWcudy2M7yE3XK4NaBaZ/C1r3XThH3a/F3s5Yp8zyNCJmb6Tk/ZZ9mS1DJ1nEOJrhHTUUF2XWDwF65X/YLOzFtN7H9d2+A9H8qBdkiRwd4R3mH0rfYcwYP7VIzM9SQAAAKdBn3NFFSwr/wAA/leoXdKwMJv5sFXj92xsAhVeiONFI1yKlkmgvtqKrVwLKSZAUeyU7nh6WUL1s+eavYfz2BY7WLIakQoBeReEGslB0AeHg9mAIaxIOYGA7kLMnzgGv0GuDMcrXulyMKU4cmgmuIsnnynvzt3pajwKxz5EV/oDkYZH0vOP1kz0DPMXiMGfGql2TmBeYZIig1TmCJX8J/7loeNssoePGAAAAJgBn5J0Qn8AAVBGZraF/HmMlhpEVVJUCAFgbuOjQ6T6gNRD7dKjF0+EwFefW/Ph279VGfXlgVCRgIE9TVoVEo/zigRL1cnG+3eKALjtvEuzoMJqFrwliRlHstw7OjxKF8s04dOSoEQzMUT0eo8IGCO55sr++DrVdCU5R6mFmSeb9An0ZRYGDMi9JpfDRLrADbUZqphUgxE44AAAAJgBn5RqQn8AAVC4GilGA0Eqr7/P3dUEAWs6ae8NmN7RP84li19pJ3+BGW9oRwliGtRGum3DOfqBNx9y3gLYfj9amrH496AAmq3UZt57bqk3IxhoYNpEpRLmSAKJLbRPUxfY+s6GooLJ0+WtZ0YNP5RItvVN5T1dmkn11Nbu9TDyl+7xtY6ym07N1V407ohjhujGzyEmxWP1cQAAASZBm5lJqEFsmUwIb//+p4QAAAMBLuQfBVv7gBbp/vS0AOGs65/Tkn2ChCO5SHpUaJStcJ8it+ubnOSxxLE+Q6lLLXA0SeYNNab+QbR1Sp5KW07xeUFHLXbl+oSBhzJGWkJhtkzazydbQvWI/c4aTABSoJf1u2Jar1zMnG7Vgw33twL3ZTtkrnv6io11jJ3GArlY2k3TjOSuWrY6KCe9uUBmLOBZamiEwBSJe+/AZUNdzWpa/mfp0vz2XPh97UWWGafY8Msu4QjTIfZixakT5/2bddciHgngZjAjcdr3qHfps6Tm77kuLY3NMKRN2ZtXvdpXQEHJVd7I+8IHw2BOpHFokpEqSIEV5/ly8pKbNqlquV5QKHjmh/CPmkStXKbDVqi9cYa0AmAAAAC2QZ+3RRUsK/8AAP5XqF3SsDCb+bBV4/pqcgMhtIAALV+AbU2eQBcXHjCOl8JpfScXTRmhf9zH5LCP3gjVNh8IKwWXCVLfYdzMTnIWmns2wAvQRVoli+A73o0nvJc6pkN+ZHJIDuiisaNETk1PeQ3KWvUmTGRdR5D2NLl4VGoeUJnnhNg5zMWrXorHapjL4fQq2su9Nqe9TXcYPNs7UHlNbRFosEoSmzTEuuxb0OZvf2aCLzCgJOEAAACqAZ/WdEJ/AAFQRma2hfx5jJYaRC0VTcFCfHQAcbt7Egn8mBGXrphODCGLoxlZRC+uVcnIrt5jiS9S2KkZ+EFknSYFSyOpVgYvmwFpP7fSM9dNhLDxw0Opbc2L4RHHIVg3gFrICmC3B730WAZpOGu2hIYQex12VB47RNehXanwJd/r2kFjCTVPeBC5v9VBo0pfqZaHd1dSiKD0+/fYZhaWUJ32B8FCQSTkrYEAAADDAZ/YakJ/AAFQuBopRgNBKq+/z+ipqgQAsDXysGa2RLbS6cet7NZ/MQuCJKB0EQnwOYBUzjp1AECyfBt72vyL0fpPRL1jELrZnuPbiVg62oDhpUSpVuIiT43zTxJXzqs+e//Tz13oXRFV5JAkJedhNDjsPK4dEg2GEOmVSa617zhx8tQz1Hlskv1ffn8ujt3U1FVEiiM1yHnvxY9G855rHmdPa8n0ea7GEWexH3bu/YZ9PVoNkmpXi1QKpltOcj/uCAoIAAABTUGb3UmoQWyZTAhv//6nhAAAAwEu+RtjmnzRAgyAE61oNlBX8X0xMvsARcnpEjmPfZ1MXjaxLGyydqmiaR9VfVXOZtcPozgpcIN/ZmtsTXuwrlI/fMx3OncPipuYK7rJrtjbjyu/WM83eePkEYi/9zDXHlfC4Gjfdcr113QYjvfQw8HQZlLU1Vl76ytGxs6oZ1McLmEkqUvcQYtOaTJ0Hfh8vC0BXvD6tb63TiE1q6+ToIyLagUyeKyZrwAo9cSUkTaxEWBEFcmxK5CPlru7+QRnVlMW7RmiGMFfD/ZwFwSZBRPcy37wzIdyiEDb3/ED139zOyjouR2iVfdYmtwpigwvSkf69U7BaCnWg9ZHNnlnJswf9zrbM1pcVa1MAaAN4ixyKCA2zbVJsLQZ6skmCXWS3neHQrLTsIEw9s/0yZMKm3hChLkLFLbCJijdCQAAANZBn/tFFSwr/wAA/leoXdKwMJv5sFXj+rNXNglcCzwcwAtdURNrC/MeoCAAToPubAFPG1sWwhSFLW5ssL8GnKQ6md26RhZETRhmOVIvASsR4NVlTkqJRbPDI/hmFgF1fABIU6yvFGKYPC2y9/bOyBJ4RvnDRKYuHRHohhwOBQhyc3Q0tyIJNsHz4y5JJTmsYcDah/2Tq/R0qsPmLz46LMDYHTQW8igP2fO+wmTEMKY5N1P9eYMWvSRH759YsT97mPJOauKeWXsv0eQDz5EAE3Z7/UN2kFbAAAAAyQGeGnRCfwABUEZmtoX8eYyWGkSrSAACUkXSXF2YZPtgUv92/vLbUouE7xVF73sZpRZ9vmGXSZ0hgYmsngske5tXAhxZpq9IVbqFRO4A4z0fe4mDcJz9tgLqZfYcCkqhVbRKAtIFRss7NBMaIKMSPLFMpQs6/9YUfCh6MtylvlPz0FgIwp3XFIfSXAC+cg58bDD2zLwEWuj2zWzOdrs0yd3isG54JzjeRls/bakeFYWIg613FF844iTlqgGXQ9TPrl03LasJWkXxoQAAANgBnhxqQn8AAVC4GilGA0Eqr7/P2IN3QEALD5TNNPb3OrFtlpiqZLlAeMNKTp0npdzasVT8M7PBrflnkbthWFJT4AxinTRl4fyg8e5quEEfzmifyOZ7ODu74t4xy7mUupN/zUffxNVQNeyd8E2/2qI0Y+qFzi/ZHt7VBiQnDqAqqPETNlnRd7WMQkEH0iBHQ78JZ+5tHzc+EKwWGcuu3XyAbNsvcVWfHHS5UpFbNs3259ZYAk8vfrxC8P6KZhyHEB+V5hi1IgFXF6y/BfznqfNxdqMjvOSS9oMAAAFtQZoBSahBbJlMCG///qeEAAADARb5G276daDNaQn7wCODZx+DFWF3rkI9r1focgVGC6Axz+16Cxq8tWLelKbSYnR9sycqPARjpVeWGbh6xkplxJsGun0czya+movI/QSfoTDye7FTeJwtayLLtAj/J2YmcU2I5evoC9tpnVFHZKkIB38qp0d+9oSVbg2ei1hX+z5LFzYS9205bi6VRC5g+jgSDfYusAd3jS0PKpwqpERxOtUAKUNUfmb8NA/PTVNGQjFqbHoXVcub/G98zBu1diSWFcu3/WPp4VSB4PlX5lxM4XqWzCzUgWzrTDGKpj8tmngmytEGnqTQU8P3FRfe/SIcjB1FFr7MZNFZGdH9GSCp3/I29fB07lOH4dSefMDC4HGJWQtJYWXjlPu9Gt6v6hAwV7NGmivShv81UfjOaWCH5S8YFC/vQkOt5Oej4SFajt3J241J6XipyT5hPnzEgFC1F4ziREfIWxC1SgcAAADhQZ4/RRUsK/8AAP5XqF3SsDCb+bBV4/dsbAEHnrqW9FMAgUpKr6TEGSrKKv67Hb458dyoXnUNRdapXSOKzaSBM05tOkcfGeXEjfRhG6CKz+zw3rcPAlG4DfvKGkEBjXZEcrLdDMYn2FDh1RzYzEof8IOzM2z0SUIYds02dPztfsRMNu8j+xmW0j1V341uQ4qpEr3RjVCKijVmXwSXTlswhh0WJQsrM1hbpSdgUnWumYOuLsVEJh+a2sm5phTgmt3a4LUqg/gwNbhbB/yS+mE5JuAe8sskmxoePfWCCX+8AGpAAAAAsQGeXnRCfwABUEZmtoX8eYyWGkRTkIeKATXyvu2sMV5dHTniCGsYTO6xveXlhMTz4q6GwgNkCNcowTSFo/RzeypopD/INzstLqLCKNKA5FyQjXk7CnENWwHXDYo7aBg/hUCci75EIWPyLuikBI1/4QQLIZY3va5KOS54pKg+k9y+O6MGhvgCpkjknuuVM5vDgu4yghZwtsarESKBDQo5SKB0s6iozpnK5YseZbhVQT3+YQAAANEBnkBqQn8AAVC4GilGA0Eqr7/P2sNP4IykomYd7Vc+QBmY8p+k72KSDGpHZgB22ZoNw++AzlqO7A/YqmCmCLcP23Rlpo+rLibE2SVD/2DJKmGN3zq81AFk8PQTZ9pOznEKqW/qghGeiLKOs4mVwnbrDjgsIDfOVy0ErLRQfEObMqNaeP4ZEJKWtlkV5QOsgpQI9fjrXE1ih22Q7PW3zyLk1KhoM2K9b/pmBV/dnNFPeXazOgusK05d0q4ZPJEyVdNvifuRVTHu3ROwIzmS8Nd8cAAAAXZBmkVJqEFsmUwIb//+p4QAAAMBDvkbY7D1iehPzQ0AJo8MviAJ7ba2H49xiEcW6Svo+m/2ifsHKc9A9VGPYMer96y0VI+9biqTly1UjspA6rLVX6Xm68Qo5KUkcGbeDtdfogG78FOUV+y/RTgN8jxqArftOg5h1a05ANpMQpFXeFpBI49qTi13FO6vWQuaWX2Xde9F+S87w+v5RlxS7bay1Daere8AwOWWZP79YiH3EQRyaoROgkpWvJqN2qLVvkto2wEcUIGwn8aUBPKCiQZeHnlw8bXxQgsjuDpBYjgGAnD2iDG+atPM2+83BW3WV2zxEi8uk63CAD6Hs1gTCpWVyUJ9nQpTCFK3ruE7bLjSG6iosk3Li20kJDwevFqZIPh3N5PVJn3UfyDYuyf4XKhm4iz0xJd5ntvMeiOIZp1JQ6BRF3os3MfXFuWLgaVqe4S4Lsh1mVnMzQWLizhXMF8taWKMsMqJlDRRqzzlyS+TkKtp3kb5gQAAAP5BnmNFFSwr/wAA/leoXdKwMJv5sFXj6qsH/XAmIAOLIpZpTIzJp2V+g/v1E68QV6JBO9fhHSYZRRu9BufjmawnyZ2CkDnwv3g9V/tOqCvB+yz+PMWY4eNhHWdk/fWKji1FgZ70PaL8FKcMGtjSwHhXfQo+qwFlRch4dG/BqGKolhsfEJt5mN3Av9flLJKQcN3R48W2PNAnczmtdOttBI7IT+S4/rgaPy0c7SwtNsNsw94A2Z9LR1i3hITyQOJD8+wekbMLcKeZVBVvj3WD6gzUelzI5439u5I/zI+J9yqThbjTA51aL8EE9AD28C6Tc3Jq5bv9VHQSnoEF1VgekAAAAMgBnoJ0Qn8AAVBGZraF/HmMlhpD17Rq0eguBe4zMARIVfkdlieL5BiIdCN1pB+ozhxppdyHVAAidJwjxKf2wpCWEJgaetG8vxmOU/pt4U8+Ou832af0fyDu/EDEECDCQp4yPoTplQqiPKIYp/ciKGPEda7xjWrMJgrCamzQVZ9vGJUeq13NUemqPABBDCWlah9UcDPvtGix0DiME9o2aIDISteJvvz/M4ZxYmeLuusrREe5V961AQwgn5HftKuvXBGJjrDhEuiyNwAAANMBnoRqQn8AAVC4GilGA0Eqr7/PmseZj5YznACPb1nWcZ3bZadgPGrfo1N2sy5K2wYGLMjFmKhTJd6if+46S6Ylu4sqllVV08M8HtX0HzNhBryFrKNcPiqhIc3XYTXOxHihlCtidlxp2auVoJ0ej6H7IIOOj5sK0ZXhoqj1az3a9MZg9JyfCtntQsXNBRi8PAlGMODjo8kKFfDXNGjCc3Kxvcmq7IrxJY7egz0gHPc4dpWquf2PTO5ZmdyshIqfJ0GGPD0YRBj2791yUw3wKs/Ns1lBAAABOEGaiUmoQWyZTAhv//6nhAAAAwDY+you3oEh02ouGwclNDTleIq9180Y//+9gAV9kv1YBx9UyZKYwp+MYTccUbyoZLHAJF+iOIqIa9ozPMRQ4wRu0ivSB/Y6DJzFr4Xr84pZSh0LJJN26QFpmYRM12uvAnY3Ex40ZH/ZHVgyHpqExSdERhNpoEiy0GZ40p0T6IDYtmn8xGRWETPjUFZr0FKyaQh2TKKywA+MC6XGxhX6ufwp+47l3Zo/qmqt+gB5BHA8gEJIQXvfumu4GJLkKJ4w1Plt0cPU1F7Om1oaUbWaPkVe7BwkWDXGZ8XZph+z926eO5Cdsn5gIdywbsUbH+3z3SnyEy5+JuWNP6ZgDULDkRngzrzD36qd5ObNdKieHFcPYy40XtGOU7HtWYYZj9AO3ypgYKT2YQAAARpBnqdFFSwr/wAA/leoXdKwMJv5sFXj2QfA35r1gCHR/XeeHm+pZZuIqZQBExYN/Qtb9oO/kdpSB7M/M7+bi1Ft9aE4cprs2McYvrpnK2LYQb6nXLjo/3r/5IND1XUcgXZIEn6D++jKkkTyQHsClgkwGYPOMcHtG/15RKb1MOXwzV74RVTpkpmkpZd9SqTzsgkbp6j9HC9nIx4LSe72KTK8utqXdPlcS+NOgHEDtWY3kZNZAAQdxTlGuZXogqGLscK7AFk+Ub7CM69RQKMEYvPQrhhFT4cOKLQGrQNmSkb4IGOoGQA1HHVCm1HJQINfUV63RFIuGy82iwqPOShUxt1ygVbIvGnfZz9GvJtOhFkr/FdCC5cQyvH6DFkAAADLAZ7GdEJ/AAFQRma2hfx5jJYaQyNFAMuS2QAGzir4guWnp9A8t+m0aRBO2EiTdDqFpV9yDEtSbDYTSB9oyS6yGTo7ypZmKWVNrYh4WJZfXS+j1S9RTUi6DBJcAbwQZ1vhd+9pyXgTshMVr16yrCqaW9a7P39CsIRP6RMrUruLdS9yQmGmV+oVUwMIrL8DtzXmIjAjzxPh1wvCJL4RC+Wxaq+gm8INfeOwFBAS4MBHWHypXCq4Q6miYx6g9OQpB49L0VymSJDULGf9bFgAAADjAZ7IakJ/AAFQuBopRgNBKq+/z2O1zdauMAAOkdMspi4mIP4x6kHkwzJ0u3L+T7U/qNDm28y3bAC49eWluc+736vW2FncbTRX+0+ZjS1CuyAClaDMirGf8O/zZ2CugL8eyHpanuXCc+4x0xb7+ZqMiMlGS1xELgT5ZOZsjuoGSDjatpqTGNH3NS4ejzWsoqJZwYCu3b3wPokqcyuMWI6uk5jx7eakAIsPR+mDYHsVmqyR24GaklWlfWxarok7/asAHFDhexMM7R6GxXMwFXwYNsjmfrJupOedSzYvvPGUj0M/1bAAAAFJQZrNSahBbJlMCG///qeEAAADAGvtRBrikwQgUV7ZGsr5Ezlx9B8WEARXHdXzyK8y1gBJs5JIqL4iX5f3PtBbPgQqRHIYhFCV4ceAdLK/jWpgI6YjXaf/+WUD+scCmbQB8cjmBKljMXdTrQ/Mz/2fRyu78wn/dCIbdpz80T4i3uhZlO4mgeboqko3VtUUKHg1PoSZd/QNgt88op5g5fAEOiX5DFFFM5U61GKLxPYvRRwPLb73wr1Ij1W09c7eepL/3m7YwMYqNB8mufmtAKW8p9sdv7FKnqCX2zO1NYYCjUzbwtiqqpm4jHC61TaIQQcEfGXKNyKXqDu3REsSRzndeJPHKv11ZmIGbF80qrQGHJET2EftexCLHJyq4p6IpYyZFChNZbPrjwS6SEY2F9lX67VpZqxa+qC1TA9N+fD3VEBuePSM8+2a8cEAAADsQZ7rRRUsK/8AAP5XqF3SsDCb+bBV49kHiLGBi8UIkw7gAir1r5k3T5NI61wvv3/uDGbYZVBda4G70o8GmY8q/MXfbCpZjerDfFm+8vdsFVStNvg6KFJAo5PWQRFVkJRQuRcHwHoQQa9Rby+AF35wBtqCGaGr+zTBY/Rs7rN+0M/shYJRUkINFSH9EXjvUCV080sLo1ZMTDkLLFJUiPzHG7LavPLSDG+MjLK2RWlgpBKAFFxhBCnDnP1a5EJXc1YrbQEoJ3WMnKKs5AKcevyj1DZ2AJM1sYBweSbBHADEr4uhhgnaola1wzsTh8wAAADTAZ8KdEJ/AAFQRma2hfx5jJYaQyLccZnuOFyK1wARqpxh7ykIpXuQKclP3uhD5QC/iNyLF6YVQhij0DRq3/JsWnE3DSUF/XlpMQBHzdhkCA+fnHaYDuWUvZcyFo/k/cSIsfqTrS/p+wfsoCqALv1clu/dUI4S3UzWAGqJsKSKRdjhCZTCiF1ImtRj0Rve/JEk6pNpyN4V8lZwEJTUXBp9L5ubyY+Gec1Iitny6jibXfCtMJGO9D1T+1pOqKdITeEyUf1DklO9WKdPw/w5CVaGoF8o+AAAAJgBnwxqQn8AAVC4GilGA0Eqr7/PY5YnIkAHK7Y37QeY24fN0VcLvIbQkS6pnsu1NeZe4Ccw3GrWwDba8YBmi/2wJknmk+iSKwsesYFAI4hNp2d4xyhX0E4dYZMj1prBYjOqpZ2s038Q3RHxJqH6ThV2H2WnneJsbxc2RVIJ3AXtHujAorluUMsyADFdSs2xrtUxLJORkF2OmQAAAURBmxFJqEFsmUwIb//+p4QAAAMAYn2U4HrEozL/aUAH944BqkfiSXL3Uo9LfVgzblZDMQVPHO0UrDTYL1Pn5hBTfEAYY51sgNwVo0KuD8NTOzsSDVDjaaZOLGxy4gh/tr6m/DCr/bpqs8UyTOFhN/icTCFhr5Jb6EQw99OVO9YYV2yTgo7e/eCCCj5zcFvc6DE+VwvpRrWjWvq/BNPRv/wvWJ32xTmznXmezC2DXISqQgde9h+f7Azup188fUpLJQWPwuBKBn/78Tk17khu3Q8P5m+dwyt9q1S1f68yvyxj3tuEI3wOoOy/qUxq8ivLcNBy1bDsU6CqtO83RGTvFtEDl/lvb91mOrZAn1dmSNO8xQnqOuxf1KUzsYu7inS0Dm2c61KiXFfrzvoqalGN9HVxHDwIGfxdHY2sLrkyENPNHNcazQMAAADOQZ8vRRUsK/8AAP5XqF3SsDCb+bBV49kHiK+2nBHC1WPs2pU9NAFb7qh2Pl/ega0/KU2l3j4a1gZqJAQ1imi5pmtM4k+kNjwTeQgtgHSzov/1UDrDg+DuDi5YZEuZqt53zG3Ym9SHVY3sGyMurrylSCjdf+XyK8BUcwK1vIP+tRkDvdnbija94fiAS/BzKfX3fOVzzfwOuH2gr+8HM1tFlTPZhuLeB7Lrc+bnWIwlunaUAUWT5fsMJmbHbyWPnLGyo/txg4qLCpgRvBcYf4EAAACXAZ9OdEJ/AAFQRma2hfx5jJYaQyLWbSOpS1cFcXQSS8poMLFuxgS3LyyYS0/lImlgUSpyxQG9JacPcJEi9iMY2+01mx3N4a3E+7/Hr3pjXc3jMK/wAMHmYXWGF29XKiDjyNrLS26OYOSv1NJPudLtpkEFd90AT2i3m21yUXX8IoydJ+OPEQsed5xdrQ5c0qxXy7ukdB8qmgAAAKQBn1BqQn8AAVC4GilGA0Eqr7/PY5TBWiu89eZMS+IXlYADRRgK6o3ZnBQH1j3h78t7IUULNE5Zyyr3nxGOgkb/d/eLNp5KULHjIr5pnf2bD0tq/5jbVi/1c2b2UNLe3ajdv6YJRfl8l5jTd5A+u+OYW8ZO2zS1pQUX1NuhAuWdwz+eL0MjSHq/0xDuqGgOBKIJjAT1guckeQ4iQghkPkWAoAimgAAAAVtBm1VJqEFsmUwIb//+p4QAAAMAYnhPNSrAPgAce02pUi2K+VL+x7WKhKm8U/Z9Y1uUDznLIAPZzJ1p62DITXIxNZdAPW7yui4AiwaVPp+igWDi6uwdV4QvMYG31xQ7C61RMIYsniWp2Qn/jTZnp9znUJ2/nNBzjTdLHAMSTjefs45SRp4BKNt5govBgNsZlIvURrhJXTInwVccll5tzQgRJvhktaxazkJLz5/4tAJPJi8ijqlSEKwqKIfaevuG3Z1ks4Uyj7XvSc9+etN3oHjCOFJn++Kl80h9vMwEAuCsXrn+U0cLPlWYTXynFe/KgEMM/AF56kUCk7uWmpbPtAMqZOPKfogHuecOGqKZrMshS6pGZwov8ypl8xUDSJcbLuGSyDtOpwZdLRJTqbKBYdT4G4J78/mPwa9WMpzRqlVCVnVI8NNfOa4Tm12ux9OEJpFbMHQasRMEidc+zQAAAKFBn3NFFSwr/wAA/leoXdKwMJv5sFXj2QeIr6VNWOI6AFh83CsoKz2eIU8uYKQ9tDAphCAlqrHty3LUls7HjsFhiUOo87Mjw7UzYuZ8916x58+GeEUJtSoh0luwC5XynE5tLQyUnjjT6QbhMWCgEATFpVHGVIjFuf6fFKgZo+lGAhxzSB5h7nzmX6aiZwdhMfJOerYo1RHxU6JeqW0GXIOBlwAAAJgBn5J0Qn8AAVBGZraF/HmMlhpDIttQj54SQKgCg2fxRjV50Z4d4xaXb5rau2dAaT+TqSNRzhnozladSguL7WcsnGCuVQvBqrPqfqAYz8+6bA/qXggmUk6eX3NHBfR1hQV3FutkJEvE4+SQ+kyOiTprBE8iiz0aHHjK5Njnsqai80jy3llO48eGMmx9nodTsidWXXA8JSx/gAAAAJUBn5RqQn8AAVC4GilGA0Eqr7/PY5VuyDIl3x8fAEI8ZEI/urvCV5QU7/6G/o4MfxCGXOlWDl5A9vlb/Nr9EYWPtlPmZXk3AGwbh0GdqSHZ89buyCZlbVIcPtPZrvaNp7SEdOdvh93zK6Hf4lZf79tPXdMo3Pk8TFuywzxWIzV+Vx8pc+/EbBWzqcfLkwgj5TRdYTA16QAAAWRBm5lJqEFsmUwIb//+p4QAAAMAUj3gNj4dsH4KuZkAJyP8G9tsT3OYLvEn+4i4pGLrZCL8nKLUaJxT2YTn+2065RNtd/Eu57QndUj+F+dVrKgED8thF6RAB44YFllRAm7cV4OxUffeBo1pjscab5WS2BxDx2f5koWGq55njh3xfYn5S0ew59i3a+mH2hiojECaVwx+QRLAdEk8oRwtx9hHfP0oXcqe/KzEZsZ64pwq1lRFrjTtnvW5WxfKdHhW9Ka7PfK1amqfut+kudSPAZBa73WkiXSfUKoT1imTZ2ziEVF9eO2WBoH0tc5mY7g74AE/SbRYY5EzjkMZcfe0acVNCm7RLHSY2xnL0XrdDHBNvV4NGa2a/7BSe/V/F6PqAkIy4UgBkFRd5SxooUJ/gZOBfZeSxBJ+Y+ZsHgshLDfW/WMja0EUX+wrAej4fOSStLg9QdVBOF4WnLurzitEn7+klP6VHwAAAM9Bn7dFFSwr/wAA/leoXdKwMJv5sFXj2QeIr8QmlsNrNFJV9cb4hbKMAJUmIm1ggB2Tpucciqzqn9iCs6e0ZH+ULq3dcRGDQbrkqPPvFdqZk1B6jgh05PEL3HqgT2al3G4XHO12iJCd2SxWygEkIdBSa1SZCdb2dbEmoji/aCGFPgJ3UiF9ZGLkGgfYDO4DoAvdmUK3kH9LfzJFYRGsmFrdssqGhjOLpD6+e6Rl9s7Zhwc/1+O3iGNRlVfDI37h8lSmwKSdgbLRE3bnsahlgQMAAAB8AZ/WdEJ/AAFQRma2hfx5jJYaQyLY11ef2tzeiY93eUgA2Yot+csvy+Zwv/TDus+NYAqGEEMo6OlPhxLI2s+OZi5yuO0ZgMPjfGZg4+gEbb8CPTXZSFTyWOGY1JmtMQiykkL4e1YxBMFjKkf2cE4dyf/3EIHdf+WjZCPt7QAAAIkBn9hqQn8AAVC4GilGA0Eqr7/PY5QgtSGMuTXkAQPFbMwxWNbjlQEz0PPa33/pzE7rIiDB3oTvp9yPgO3uZm8v3E8rfbK3OWHBinCz3FszALfQM6TRrj7belsPb5xwKqsU7BP5uVE1EW1TsnrM4hlFNst009kUBOpiXmKXwDF35Ht8If7522pxnwAAAPZBm91JqEFsmUwIb//+p4QAAAMAKR7wlvChRdNzEAHPloksv+8BoWWj17Z7AX0o2SsGR17PifRFouJKKZ/8tpwvC6hZJKxSAQjEOmrxWhtwZguNO4YNuT4+vqmRoJPGlyGFf+DXhrl9/zoUw4Gwfbq5vwsS65Op8I8E7QPTFcI6Y3XwxG+QDbLvwXrn5mZ7JfaBfaOTQnH63dR2TzYurakDhhpuIvy+ka0LHp7csDpeeIEUi/1RFjpEfhkHTEFTQLFCLWEEMmmJSOC+UlCp8HZDzQdjdwDmVpYdRIbuTRzuC++dG7tPCRCcYGXvETRcTyhDC6lBL8kAAACUQZ/7RRUsK/8AAP5XqF3SsDCb+bBV49kHiK62TOuH2FgAjVBbi4H4yBn5M7qN/VdwknfwsW+FPch3q6O+hxJ/YTEFjTREid1KlLCpAXtnUmApgJN3wTph1ZMvP8bHwh3vCwwRYRLg3c5iWj1fHhNN2kEh55uWgCojArVoAz7349Cl4p64c60yn1zspb3knQ+ge6gTcAAAAIoBnhp0Qn8AAVBGZraF/HmMlhpDItal3Js0sf+fMgBP1C4AjJ5g6OEJJiOqQovcrfRUwUuKqU2nCPtQ2Ko3BS+WjT83bg0vkRyqmP3RxKNYIhCUz9Zw0MyIif4Eaw0IsFgKFnp5DxyjaCZtihZBG2Qq19azZo7qgm9hNulzDOt8vHlP2BfoYnZDA1MAAABqAZ4cakJ/AAFQuBopRgNBKq+/z2OUILUh7OfBcIv+p2Il3rwFt+bqBMaj4lblMwnUesAJlfCrEDIoEbg024/kKgqpM71vugD34sqwiGGb8qGLljLoEgq33/pqlmdOwoibq1+CJuZqn3PCqwAAARNBmgFJqEFsmUwIb//+p4QAAAMAJbPiFIAvCz+n9QCmCZE3727gGuMsE/KY4GXTjjW74iZppWJFj52t7NR2lUAToG+aHcZ95+wVniXaFMaC/HCkj+gJyjBl9t0cj9qjpdAKTPArLpDlU7GIKe4HRlzxQ8EDrBS6YZBqnQl04Ere+Kip8gK0Lo5YRLJRcJarWdpuflnUNsqQQZP3OUQQa9ym/Dvqtvu9dzbxRlYOhjLmuRzTMoChOSS9v1d/kGi2m4Ws+B1BZQT8i6DRrnB9ogvWfIb4k38V3Gr7MifS7A/DDKTPpMev35G6g93qzYqv41U1UQ0ZsT4rx5502qaBgiF36f2UIEwRjXNgTKaj33F8ROH3KgAAAI5Bnj9FFSwr/wAA/leoXdKwMJv5sFXj2QeIrrZM6dW1/3fw0cCeDpABO3fYZC1vMxw5E75Jqbxj5NPzD3E+zhaUU58zSp88LnBg0KzCRe+/GLockWJ65t4jSQJCU7tBB3Qt37pwqcS+53frYLDskTL16JbyPffBfFkNhgDUechxOEKpXZDiHbFNSzj8iGpAAAAAegGeXnRCfwABUEZmtoX8eYyWGkMi1qXcfpOSaJkt08aFwARBQPuSFPUwbXUJTY+JM2FZi4XVHpV7+uMMDMWaIYyG/1W6YjbeurY+HqI80Gw1+NMtQRGKGw/HND7OAsXuboFnzRHtIDUP6kKOH/wWoHiCh+WWNqSEO3pBAAAAawGeQGpCfwABULgaKUYDQSqvv89jlCC1HPQ2lBKbaODNKqti5qKUwGN1rfGAAWtHv9YmKzKVXCqVxNpng+0U/69M2Rt5s9j9SzK/Xiuec9I1U8Joq50smQxlf6yXM9lTWTWrgfIoFVROTdm9AAABNEGaRUmoQWyZTAhv//6nhAAAAwAOHi7sFvzxRABxvd87JFMz19EbHo9btrO4PGts6uJQa9g+/orSVgHmh4FYj53T+66/To+7JFeNL0WYcNFkPLpTAeA/yiiTdw5l2f/zfgWltClU5uGEH3ck4FAayTOuyBU1t4rO8ipAIH1Pm6+/LT3HdtzXxTwJgtvut15XLG9h3HxL0E2xabm5WtQQ7qfLIbpvC9KNcQjj30Sm7LKnwU2yCXuBjBUcYQ+jBpeA9TPaIf7w1zBBVaNNi8rtfv9I+tnrBzv5cqeGyARNL9pPpHAaWK7uYD4IRPOSh/1YBCG8i4gCxL713Vh9BUU2wmzMyawK0vf6xLDcZiBywQHBwAAK5GeCpYcK9UfIE/usCEfd8YK9I3e4PWSaMMTONYntNyXhAAAAaUGeY0UVLCv/AAD+V6hd0rAwm/mwVePZB4iutkzpxhNCXCqJlL0APzurBd+7AATD6HvQ+G8sEQSvE+fGm8oFejrDQ4p7eFyT6Kb4VTyDMqJDmXHhqa1K7gkj8Ysnmmac7nH+j+JstfgNmAAAAFcBnoJ0Qn8AAVBGZraF/HmMlhpDItal3H6s4MVxBapDhqFe2umksmS9Vh9HYmgAcwiCxr2RBRC545Wbsz3k+BA2IhlBsVN3Q69MXk4EfdIX7ORs7L+dFlEAAABjAZ6EakJ/AAFQuBopRgNBKq+/z2OUILUc+FU+f2bd+bwATrKPrb+qkRniqoxYKHmuOkaNEr+ReummuSmXRWbW3CSmZfO8FNJ9Y4tFlma81NcGo81P5gf3HCvhlcwLrNsKdog5AAAA5UGaiUmoQWyZTAhv//6nhAAAAwAPPr34IN/cAJlPqshZHmguLoRxGVR+zWgf+4tzRD1uxrx88fsfcDwHRrZ+enpKUYIUZ19zteBYsPDQR/mogJdG3ZwLO0bPkqtDYH/3QHlNSyTLRv3gLGlY2eCy074FWz8SlZFXOV8LolZCL4zzXY4GYbo/fGMyA5LyqDQ2IRtghiDa61d8xad2WkVRtxBXCQxMBEdxiGOOMnh2SAENf7awEMVvnjLHvNm46jcnTNjxR7aK9IhjTyBT8gBXQX0ZPghGjmLQXRVLAX9sz/wuSas8qoEAAACZQZ6nRRUsK/8AAP5XqF3SsDCb+bBV49kHiK62TOnl5bwAO0MAV2uAo/1bxeNCxGm5Bn3x2Ql8fJFelLJsa7E6TSSnQ8fd1OhoumiQE7IcYNgY2B5IUOrg2J1Pu4D7wOqVLmD88cZfFeOe6pQIw4en1rX6Zdv6f/BSa0QoJKBuXroevrW6TR9VNoRPfnMeRq+nWoe3O+LAaCI/AAAAagGexnRCfwABUEZmtoX8eYyWGkMi1qXcf4Im8MngIYiACG8eA45P69+RUh/DSh/PpQgP2hy1hzJaHMeh76Yt1651rLJp5CF7iMYdHQ25SDklzs/0SSjmvyq0n/dNEG23YFnTiLLLxkFr4OAAAABgAZ7IakJ/AAFQuBopRgNBKq+/z2OUILUdIJccTIIoACAn9q5AT/IJq+NRcaFQgiGxgROcevVP7l3HexrW5jl5wsLQ85DRmce+HJp4Iub3z5LT7el0N/4kQdW+ZgoEZumAAAABHUGazUmoQWyZTAhv//6nhAAAAwAls92LgDjfYoyxOJZY0G/r5TsrpILo63X46ClhtK0yb2h1hKj/l1jJdxmK+tBYRh5RbloUSN6jB+eZkUSR8pU1S886mIgpsdvWMfgKNFdtscbRqFjmX/0dCxX2/7jDDv/jPoxnOj+GZEk0CWseNtAOWpTaGoHkqp22lFWnFL4M0Mzy3sTqt9NWZ0jvCtbTeasrZoeXXef5FkKUgl0sOtOFzqyT1GLGOgpedOxS+p9hWmwtMvRW4UGMorpgMQSOAFebg1DXWZ2oZhjbGFTPD6e+Yj/ZKU1DyKocgiXArxzKm3XXrpChkjnV806Gc4gGubNTdvwHSgu/s3U/DC/uoY7PZDZ3+2f9Q0IlJQAAAHNBnutFFSwr/wAA/leoXdKwMJv5sFXj2QeIrrZM6dWytOHHp6INVIAiT6bgq6yAUzKzbjoj/8hlNZBLMauM1wiL7KR1EZVui6bdWXkertmKxWdmcdAmGbG2p4vOxsupW5FMzHKSr/wPXUfWznFWhS/gwH+AAAAAVQGfCnRCfwABUEZmtoX8eYyWGkMi1qXcfqc1/FgABGkIsWspFwoFyUlC9g/ebjsnR3FGm/cGXMzErWdBratz0W1UCR/WCxo++fSBTbLVJMaTSZQoL3QAAAA1AZ8MakJ/AAFQuBopRgNBKq+/z2OUILUdIJlM9a+rYPyzy1uy4Sgzb/XDnOEwFWHgKlAsKCEAAAEDQZsQSahBbJlMCG///qeEAAADACWrZxRb7r53EoBa65gMOcAvwqfQXsZKUJgIGdC+bfEJTuru3A6Qgdc5kFeSWqEJGjrpUg+SPCh6zpkjSYdliIAD0ZaFtUB5UJh1euHDpvexObqBMXc1dYkp2YiB2xW7JZgCoBZuaEJwNsL2avddaOal+twbtjkJJqseCgawOTpNaJVul/hTr4nma6n1GDFtsZGo/mi2as99IxTq7uC83dIvH6CwEl4nH10x6c67XKeO7ZnY/rjpO1Xpw41fTbS1X7n9d5TqjHL6JWU3Sl0vnNK1hyIhOa7JdNwbPrmdqkPnyRDErWGF2eVuYT87lBpJwQAAAFtBny5FFSwr/wAA/leoXdKwMJv5sFXj2QeIrrZM6cYAjL3qwrRx4oAFiB7XSB7N8XFEoRflHWnHVy4VCt34V88DnLwgsDgN50JTaTsGz9nuB93SxKH2yWAE3wg5AAAAOQGfT2pCfwABULgaKUYDQSqvv89jlCC1GUWO9xL31bK09NXLkQAWtWgap1IEFKa0RvMV+qk0GvxZDwAAAUZBm1RJqEFsmUwIb//+p4QAAAMAJbQpagSBRFRKAWnQ6MeUV+/xPERQ6NyxPxZ6hhiz0VS4dqVsrD1j8iceu0GnPes/jYrOs03ihP9PJhlVdd9Bg0ibtR57pHJ/nFUFOBwnWibQFDrKVprodMKtTKeRbnmlNbOz6VLEMKnysMAZFm7DdskZlr6G9iiBy4fwC2fX0Zu56/41Vg7m+z3jcnAOTP+dKlV12f8U/meSMbhzZ/RFFs43cJe0y1DYEGfHgHr53Mlma5/qPgScK6EMxxjjTNqfSECkThDA50/48HcvHFugyqzzh7q1ou//ovFbk3TzQp8L6XRZR8AwM2IWpgHpeOQuD9YJ047nZ3WVa4NclYt1muPxz87vaFw3P7mO2kgP6Igg+9WV/NAeaaC4k4C2TOpHVAIsuNYO2GtWoLm7yyl89UX0ZgAAAKZBn3JFFSwr/wAA/leoXdKwMJv5sFXj2QeIrrZM6cYSBbT9NTJz8+0aAFcaa8WlcMr5sHEYQ18KcdUv8439iOXGF2/gLoHCGjsBmwZrAEAmDoSqdatkr6Rb4oF8+/D+CF+9gLepFSQ22RmQ5/3Q/J1GHMwkZMVGQj1lS0bg+ho0Nqvs7h4H1hSLMCPoq2kh/Yc4HipLoObo0ZBClagXJXV94s/w6KSBAAAAUgGfkXRCfwABUEZmtoX8eYyWGkMi1qXcZ47XPqcKI1Irl7aZHgBmXldaZQXxDXRCLGMDo/JePtkxA7GlmXmt67O5iWHWY0/kqn+PWkK9+E0FG0EAAACEAZ+TakJ/AAFQuBopRgNBKq+/z2OUILUZRZXPxtKvzIANFFwWRbW4F3eN1KoNjJmt9ibbSESZNGSip2ni+JJEiMZ29hg2Mr/4dJJp0fSCMasDCy7BiI7CuJ0VfPMmeaZZOVtcNMp2wwtARNa4KY1SdQivyZLu0ZAuctvehvUNYdnEmLSAAAAAyEGbl0moQWyZTAhv//6nhAAAAwAPKPbUALYX/PpaNDGM1JFzvuDchqTmMvJ+faymSlO0SLZqnhiiOrc1NnFL3+am8hpMLhj/mKYhCgcyO9sCklIb999nbQMjfDnn40NZGzHRUfp3p9WkjoUqJiQjgAeyZzwdBk53rHgDtRjFGjKYUEXIT1VLf9GzX+yryo9w7Jbqyqm7x9wpC4R3IA11UEQ8MzFchIHG94o7Kj1vvpwOmyW6AX48789opjM1MAXBQ1QpNMgtygS9AAAAiUGftUUVLCv/AAD+V6hd0rAwm/mwVePZB4iutkzqi9AjrXmBRQAbNzXySd7j8UPamvcbb5WxXA4YrBwEGWPLxK9/iRM4c+NG+HKZX173JhRbNZgXyOW+GZhX3nd8HemFmU0cPfQJeZpvLdyvGsV5iu9lLytMUe0yeGs8X68uOhQNJzJLyAYfqWGpAAAAhQGf1mpCfwABULgaKUYDQSqvv89jlCC1IPHANRU2gSIAhuiKgkbtdlbwqZ1V6lx64lnRXp6w7ynt/69eTZCHg6Pa7p8xVNHLFenrOWBtzMFMDzsHHwi0xJQPOgR3ZFq9tUsXigWF0xIDhpjvgMinExM5i4uto1FHFVlmG9oaWL/PxRBIPKkAAADGQZvbSahBbJlMCG///qeEAAADABBuQfNnn7iAALlAsFZGElJQDErvD0ZL50NLqMRkKfisQ/kDKE1TAaKC2ZIS+w/NSaLZk7XB5s6fAfXGwf5iPn7ETVeHuLJ5V6aJ6IKGJY8CdIjUwD2lfPouGhu/KbVhcq3+7olyOz5NKpUe3wXX1KN0gC12lqJQaAtDFYAj2bPTvHmOn2LDmY7XreCyRkE+RTOOjfr124eZzNGYozCoNbZzd+v7CxZqWBH1WEH3K46a+eFVAAAAvkGf+UUVLCv/AAD+V6hd0rAwm/mwVePZB4iutkzqi9AmrHzZ6z5kzPMGAFs8uu/ED7ueZzAZNOxMguMou4Hl19Q3oH6Pb5PloprdOBSGcf4aLO4raZX80ekhmg5DXLOXtZrarMkfxlC4dsXyLEtKYL4SrOeaaiPrTpDU7HaDsZdh8mavMcShCWi4kGC6izeBfWyFCTT0o8NCTmPGdCpFGp0l+1PHODLlbvwHxVhtqIp7DPXObyIbwpLE9LmHA+YAAACaAZ4YdEJ/AAFQRma2hfx5jJYaQyLWpdyVb96c/7TUwVwMsP23AAtdM2yE0rCBrNEkysGcWdoctpw5p9++Xx52UNBPF3WTLjJ27SKHf8d7Vge0VENuf27UJso/A7/0I71qUAmdeXxyFiPmyNVRO0NDDdVN2q0OpEu3nHQXExof5pzaoSnzcHNucJPf7OpE0I6KACDFAjFnj8YDUwAAAH4BnhpqQn8AAVC4GilGA0Eqr7/PY5QgtSDxwDUzQmVYApi0haIzdpjpxzXZTGiiRXoyhr1liBmpysHLNW6tYKa/PQIFdEYrHej5oaPmZ1jvcgXeS4LjMBdjmcz9548PPXrzthKLbSSRwSqsHUSOlMU0d1kUFGf0Ar3PkrE3BMAAAAE4QZofSahBbJlMCG///qeEAAADABBvkbV6EwQAIbIuQ1f6XrnawcligfqZ2FCdOb9Ae3r7B7sxzV8T966YN/RRXfDrpjYzOpjqD3zwKSDUM18F9ecCVP6oQykwjjYgforcDH9dM5xay4rQBsfZgxvCEwVbx63D7DNwfzrzJShmFW0x6eDRn8qEGf+FNUJ3Sl+7lg5eJV8ENDF6osfPmJZJE9cWDLZ8HyVcuQOQUVM5jw1ktYiQG5ANPKlF2305jkC8a+Pb0DhLUyDhssvXVavx7Ch9CkFES1G42SN1krnUIGrOwiX92Wa0L0oTNeuh1ZP3f163432sElpqDNOx0NbqBFkVWpGBoiDtOqwPSEqDUhjlceRdwZ+e2UzheGyz/pcNhZ1GtbB9izkLgsDDe3Y76TJ5jjGz2o+BAAAAmkGePUUVLCv/AAD+V6hd0rAwm/mwVePZB4iutkzqi9AmxFoqCAEZESLxIvcWLKiBNXQuGLnWBnK1UGKONS520l0NwyjnQWKxhzRPT35+Xo0xWAc4NOcPUSU2ASydN73mPMlLM9cTHq5efskk0e/qXG1wUoAu6Bc24qtTb6QcJKccQsSXQbRtf0tA+RHAEzkzDfcfaX7xc3FPIqcAAAC4AZ5cdEJ/AAFQRma2hfx5jJYaQyLWpdyVb96ex13CQZACKUCeyyCaOUiIOa6DvNfdBmMLAQLUrP/il3kgcrA0lowR8krobkF8OBJkUo13DycdUGJHjESdeecnneYSCHRLqLwBnZJp5wPQEF4hSs2P9AGli4Ov+a4rMP1sulXT7Hext2eOw4esSBXn+/bFQdjjRDdOpTey4OT1IBUa69ZEKkJdGuW5HHZoQIK+YyjAyhmkr/SXaQfWLgAAAHsBnl5qQn8AAVC4GilGA0Eqr7/PY5QgtSDxwDUs8BAA6RCZ77EL13W4WZo3X/1v/RBMQgV1ue34eDXrpYdjYCB/BCRJiFIPlSt8cTQ5qvZSEWepRimJrh9Xac24Aek4MZSmAucjlzHUgjz08w2we7jsHgOaSJS57fP6SkgAAAD6QZpDSahBbJlMCG///qeEAAADAA/uvd+LpvRoAP5hTFPbgwN3TS5NgtNPBZ+bJwdR6B4ZpcKCuu/t0k7mlFxpEVXEktGv7X5pX9wXJ3bCxKnEB3ijxK80PTWOrhDVdqPi/IXwEog8X5pXcCHK2QaXo5d/XohR8DfiFVU6J2FbPqkHRcKgOLwayKRsvSUmZX0fAshkLSTUcsLpMke55fTv6/JC4yDzxGNfVFzsbxdgKkz+/sfY+Myws7LbHgqZ0+NdVhLh+sKmDPyREwxdn6CY/rk3o8zCSTiMIxTJzuMdvEYc03sx2SmcosM/ttRYKA1A8CtaqR2hZ0ZdIQAAAK9BnmFFFSwr/wAA/leoXdKwMJv5sFXj2QeIrrZM6ovQJa1/3b76nETQAcWmXEBm12Xo/uOX2nw+RgWFAgv7GFBGMOqxgoHIWfdR7waAhzHwQWP1c0jzwcxb8fFYZO4TcYosVyzWoCPcTlPl+3sHQs4Ihl3cwg1TcoIRxOUKVgd8/+mGE1APmMakDaEM8Xf3VRBBSeduizuzg+qoroDy0IFqK1GSoh0WMWgjkTTeQK2AAAAAfgGegHRCfwABUEZmtoX8eYyWGkMi1qXcaK8a6mdnt9HMEdW1fABa7BVIaDkjZ8Dwv4LZF9d8+rAz4bUWpd8K0aLo3sUutNMyVWJhKURKuXtMVDELyEAkUYWmwkbfav85U8Z93SSLO6jaYFcapp5nVIuW/mdQc9pEY/6sgbLlQQAAAHoBnoJqQn8AAVC4GilGA0Eqr7/PY5QgtRl0YvDPcMguBelwA4xN+3MReLB+Xmg9MLc6Ci9RGEl1MOasI10oqpjPYaxfmk44PeozRxFFi5P654dZnOUpAC0hgdmxF4K9mje2t2c7DdrCmpqe6QyziqVe2MVttLBIJSJywAAAAKFBmoRJqEFsmUwIb//+p4QAAAMAEFOQ9IAW9HXcZi81Twln8zefyhVBrmxduSNF5p9I2Pc6KhRlSrWnLvyaYx44+LF8woq2DC3Sf5zxKTNYsaub6mbHI1Celssf9NKR5+ByPAl3ouVP7KHT0//agsn/nRhMhJvV3vnvD7WV/D1ONtRt9StjSApTqjhTsVzsBUupnz6a4b+VTZ0RA+3kx29FTQAAATZBmqhJ4QpSZTAhv/6nhAAAAwAQb5G27d0hWb+CC6PACaUdcyDESLCbrJhAgYSr8CeDal+HUeG4MVviP5XoRb7gLmUQ/or+jQ4B2QuFnhZT5rW7ZaXPVedo9u1HjVTfVU97udWScFpMoGrg5Jevn66efMpJl2t/OnccO6VCE3kcsf+mGnd+x4D1Mr4BBFNjAPUkaja+wnVh9UcKd8yoyZSkBCZwcThrwogk/8+KaA5WapFCh7BuLvpeoiG1RE7FroJNN5ujqQCHuuAnAiLmAjGSk3V8uNzl/p266TTN0WAN2l0z8R27MNi0owyYGl4a2oTEkqzvRtc76JMsmhyn/kWnuXYn46lVxm/f3B57SQbSUYdW+SQGT+wYHZSrvTdlQT6MoGv0ZqhUf7q79cuHWFrBVE+wnc+fAAAAe0GexkU0TCv/AAD+RvFGOh65RFPD10z2QdT2XKi9UO2EaIqYzJ9dudeowAnbijLTjJ6kFOL65pw60oUIyNK4fapwLsiBe/XEh4qaZz7/X/INVcuTEp9Q0zprNttqUgr9kmDEJWlZWB82JwdXkAZh9djAkdUGQchVJFD0gQAAAKQBnuV0Qn8AAVBGZraF/HmMlhpDItal3Gir3j6ADN8t5a+guN/AZGVgAh8YFBDFn4jKBH+q4ihEzXil48bgJl9mHUDoonD8axuYtgPelQXx05u28rn+4Z2vvJuHUIFFIQF4wv9U0sw2asDXh7he+QyGavIyDhjJHQjWk1sfMc0jgZa/Qn04xZU6pOtVptejGOQG/plEnJACWTvwVtC3VkKv/o1jYQAAAHUBnudqQn8AAVC4GilGA0Eqr7/PY5QgtRl0ZQMIQKK8twAOKOUq6r+77XPLYAbf+vbUyffVARt2oTqIGq4UQwbUiNUncuoOGbQysSFac57OT88q973ClQ3AM5gxAVRwPWJmzXFXv9PvNmeJWNv9IMRuNP5ow8AAAAE+QZrsSahBaJlMCG///qeEAAADAA+BAJABFmpqP30D7TvTCV0ndg4K/QAVfi89wY+mgoON2vKrX/3JLmZVbeJqxidGAzlKG8YnzE2AooIc5O6Q1jqjkZwaf7yFtRv0eWTQ7Vf3HQwf5T2pUTjg6of8YP8AO91fR0gWYeERmb1g+ZXlJsBkvcfG0WRb7qqqWVbhawz/VLpzpBPH9pEbIXUqF7wrA41QVUa0q3XtwroYNNWlZU/sQ7kpSG/NPd1YJLLWqQilKsNacJDOD2wLEbQ8Wt/qWbulhc5bmrhsfgSiEbisXIRxBBHj2wQ7Ib1ujvhaglMmGvJkIH052FYWhdv2L1hmyoT7/Re5RLTE4TUmmXInSAj3Zbzqep9A0VcubStIMnOIx8WsUSoxWmE5vEmvnhINdFz0XrPfOYXnDlWEAAAApkGfCkURLCv/AAD+V6hd0rAwm/mwVePZB4iutkzrJFhpbhfCbj5DoAQ3Psv5Q5IZGv/nE/hh8rM7x8kqlElyHoB6zVtSad0AJvyNa00dnLdZ2aL0ReqWN2ilXNHOO0g0IJ4AFPUJeVnTN6M3xubycpg686PAzEHnn94aAuAXzm4LKQohPbX62456iwq5m/Z8hfYZNCtdzJjy3KQvv8IlG09OCiRFhmUAAABxAZ8pdEJ/AAFQRma2hfx5jJYaQyLWpdyV01KroYAoBN+qoBkFlRIAA9BptgFmrKYsbJYTd+WLVSHwJeuweMJw/2uviBhDyc3eROMOW4nJasMQoVcMCNzlnL9SliQ3oSU2+3DumMGURn7u2orO2s2QPpIAAAB/AZ8rakJ/AAFQuBopRgNBKq+/z2OUILUg/QY4A2iaAKskZV6IJQFWpVarxZbdWlDBupyOxlla+6cW/XG1rLgBbDarIJDfEhBxtciDIA919HuFeP85ZLJiiPU/mjFvePfzp0OA6bN58413uX1sSs9COszr2pcKiNiSEuFyII7BgQAAANdBmzBJqEFsmUwIb//+p4QAAAMAD5eyn4FATgBReLPzqfyM0ZmAFUhieWgAQv9hhI7DrE9x/X9GpQiFpKfcsnqB81xDF+feRBYNPOBdvhpv9HyNewY+0AoBJMkCdulnmpwPWpDHCPLadiIvMH3cYpjfEUydMomwH/N7e7ibb2Kk2UYAup2GVl67dCKBz7xJTZOfN0QGgBaMUKHiSgKcM/67W1j5zLB04X83IxNZxQifGaeKqwg6/uM7T/HCSsvNoJ1vCzy0B1TiS6oDkG8mjVaOppR+gLDGYQAAAI9Bn05FFSwr/wAA/leoXdKwMJv5sFXj2QeIrrZM6yf1kFbvb7mVlO+5YAjfO4972iDvEbJ4ECA0yfTL1jlFWrh2UamskwHEFcITq+3vq/ow/WKPQzo+wjS+fT1ueJnQUGlyTSxSSUPl6KekMNmKHqxRLev+rm9x8nRwoCDawdD+pwJxAM8KCZhc/lCXMUwRcQAAAIMBn210Qn8AAVBGZraF/HmMlhpDItal3JXTU6FI7H1U/gIAOgT3pra3cmN0LsA4Ko4MaGBdnBWZKIKgWCxWmdsp656I+htbbj6DBbOqjZ3cOrpaOkqVsqwzzcw6rdyLhoZnmfmSJ8mEC/c5FW/IvjuPioBM+Z2uBRB6IwHVV4mmoTDdMQAAAHkBn29qQn8AAVC4GilGA0Eqr7/PY5QgtSD9BngbVGP+8wAONxEPzDTx5l/66OHEz6xnWOfdVo+ZaZDOP/5fLHaDBKPz5URuymaKmwk35a2DFUpYf2vvodJfn0aYDh2FgquAZOK2COKAoQwBTV2NY3/8IQEjTOvSR9ZWAAABB0GbdEmoQWyZTAhv//6nhAAAAwAPPwnn9wAktxm6yD3VT6RnNjsC4ER6wK8PcPh95O6FM5E4Q/eAEMRgsMTok4nm8vViNW8RthDymEq/HLl/akef3y0Ssx9BvCN5LrEani4LtMQy0RNJ97vuTh1TQepO/Dxw4WIcfwYFgsRy9D8HpxdNMtODUsIELKVojwBw/sahaXNY6x4pQNOD80p3nnAMuRFlMB1P3T2rTloLzMJaopH7o6+Vugmntzm1HcpfmKGRixJdkP1Vob4JeXS7QIjvNhWKCRm4NkLvmQV3suYhEQ8B8r8xmG2zqaiZnVqwwsEuMlw+l1Vn2QmiN6bWK71kvQ7F3qqAAAAAmUGfkkUVLCv/AAD+V6hd0rAwm/mwVePZB4iutkzrJ/WQVlvBm0UsHw35QASK2kxsPsNnY4cvHbeqTXglih8XB+ppjfz1gPTH/eaMilfJP2/n7CCqp7mBlKj6WHx00XBH613g9S99+0nNR73coBlat56RGEaATLpalrCIHVE6E75U14WQ3GJb0WDesLTBBFRMlzSccmzDJYYxzQAAAI4Bn7F0Qn8AAVBGZraF/HmMlhpDItal3JVv3p3HOaVgE0nNrBr1mpuzy8vcdAVbq2zzeV1dznt+VJgrCnLI2EfxMo1zwe2YhctS1lLxeKK3VTHzI0xt6sHmIkV8UKVeF40IsE8ZibFNgr6bU7/+nFlp9hMxy0N8fbS9tMxL+d6efT6QWWIomJWA7NR6us+AAAAAdAGfs2pCfwABULgaKUYDQSqvv89jlCC1IPHANSkY+PCLji55QGbVADTNB9wiN1QLRf20KW6ETT5Xxbq+gkuoYVupaSG8MNqcCkcAbStzf1gPJx0Ncv196VBw3T2eeiqtwSap5lQKfvnyuMmsCQDijGxuISygAAABG0GbuEmoQWyZTAhv//6nhAAAAwAQUyCuAImuBtRR2gcQqGQ621/U/pkNlyt6bIClf4UENE4ClX6jkFzAU5m51sfIfBgWi9baQ9k/VxbL8Z1rRPpTAcR6AcLsiOLdn2cEKIHJ2Z2TfP6ZE3qFVwFNPunlMnAu7ChXn5AnDD3kP7Gsmdv0zzzUvy6JoFRyTN49DbN32DyGhQcyBbO0l2hLVVlS3DxCwvmSWSNQTaLjdLy952cJVOi+P7LxsacKfSaQWgN8rFq0OO1fOOSM+0o0uiN1CCsVi7V1u4NCYtMlLU9wElwST2qzqynL4ELWmUq6ZVXf3CrTbkp+Gt1Qbyb5TdDTez7cyNje+po6wIlsPHUw3avLSaoDKnJOlQUAAADFQZ/WRRUsK/8AAP5XqF3SsDCb+bBV49kHiK62TOskWGluGF8NBnAEE1WP+DOIZqfUc25lDqQ/IgXKQkmDH7SLJIzsziXITp7/P4TESkTfeCv+f9or6a4oiEuNqQH+3oA7O962CRva7Edc2GjbacEVmDIjYWVXceIUC6ziFnIwo34qrO6nyeOxAURuasMrhRwzcREextKccs+KcFS3BjyDN4nNE/LytYLLK51HmkbWA6WlAo/BXbtxTsMlMP8NqkRNBlqBBZQAAACgAZ/1dEJ/AAFQRma2hfx5jJYaQyLWpdyV01TbVbTRQAEAzBOtPJGY6vL5tWm+rPilZYMl+7nSvMFlVWhzmvre1d1LQAEOMT6c8vfSZdVyBSQ9ycc+VuOyycQuzFc+Va/MgzTi7qvtB6YlNYPG2xEi46Ctu38tCh2/lQmTZQUwprgR+EJUZUPjy5qkXHY64Pvx5mq2VXA2H/8us30dI6BjMQAAAKQBn/dqQn8AAVC4GilGA0Eqr7/PY5QgtSD9Bq6t/BoAN9Gz7tqit/gGqBqQuGH5LJyD11dyf84rdpjfFH2r2312vFYjtJNr1yLTqlLDio0nfLtr1nkN91JW1QSdqrVt9xhkVjWhEDzGPZoe7FFz+U5LiB7ixkPe6h4NCCQJxiIsUH0Ly6QxkUjbCIdMzq3Ds8z/U9a/HIAKYXcl5yH1oMQwT8nyoQAAAKZBm/lJqEFsmUwIT//98QAAAwACbfAPqsH5OdXACPb1nRGAbLTXyFLn97eLr2SBllUBceFX+SQYswJyZ1WOj5o78OkQvqCQ5cRoxYSGVpeNMR3YhDOVgjYFfRkPQzDeaxtTyCpLIqva0WBr/mL0HX53QXFWgDIehxNY5YJardWrPzoJm3kSXK9uqevR8IWJ285jOtEmpVK5cXseuc09emWKbVHHmEbAAAAJVGWIggAEP/73gb8yy2Q/qslx+ed9LKzPPOQ8cl2JrrjQAAADAAADAAFHh7Xrjd2DW0nQAAAawAOkH8F5GDHQI+PkcI6BwESLwC3FfYLDMUEABlm7SkJsKYVXqJGu+/H4trI6Vq4QdQFfa6phopOKpsXcHcjIZ20dSih6qyRdlyJU2EilggPr08/mEUeGpJMAe+X9SjwNLT1vshza74z3XAk23uqXZwEsbRr7KKOTblyYZCtnwI91m2ltONFX3xDfmpQfHqTAyrqEc4PV6Ap8RqIbLuWCysF6I1JwguMFu7o8WXk3fHNe6Zc18ErpIcM6+jlFojeSo1hbKPG9ngVhtPv9zQmQYoZD6Kj2vvK2YO/uN7kmOHdD4blhlZBKwiS6hiJaZw2skLlvMt8PLzkGh/jcpUjb8m6DEOO8+guBoHmnLIpIlmyICQeQI3Hzxfs5vg7uQJ9XTJTbo01GkAOcmsgTuHt3bLrNR5i3qmE5mEJZVSlAmkBqy+axqJoCdU7yPlPDHUawq7YAzvTGBY0rzcV41zBES/48ACCmyvRy1HTleOf/Dd2dJGbL7TdFuuLXWVFOkl3z38mrPiKPllq83PkWlB7P6tVG5boLO90cMJEXYhlc7b5uCFx7nP0P/TgcNrsyG4O5txuJc8FouZ/sqKyYjR3UJqtYmfi+DmTymWJDMuf8kFj1at+ViC9fChCJJg+HMDkuALTlm03TMSOa9bPoMEXAzxwFqMO5ogvKuxXdQNpCU5DNLNLHq2peOwlz3ifwLGrPa363C+8B7xKvG+MapoPXL14VI8m6fcUssoxqfqhMiCSSe6FaygPAUoEi7eWFMRYszYu5vyzeslRV7FMkYnAmgBNPxchsZ5nlODiBrF4EGoKFdDpSgllRx/42qKta8hmW9NY12EmE9v23tL7uKlzXC2AGbJYG5VOBi/H77H8gg1EsHiKSoWuyV0a8gJHsedU/smYf5/lyJBGsBnW+qKgqrYSVpvhZDfq+TUx94DXJ0DEZ8GV2avNe77p5eTuHkhZlTgETQeQOQkE7+v6zg7CriAFuDh6TtTgsfFHh7WoIigstUWusuBmlh+Z9CGMvU3SHchvNEP9io+3VRHbqcrLTdvRuy9WbrXzA7mopjvZ/mf7x/3EA8FaYWrNsDmzO/UxvGPtNLtOw4ZpWIgF3gy/aOWKwS908Z8tQB1SrwDR8FqmUnoc4MxcBdzBRD4v0UpSKufdq30i3WwERN0CzFkJm9zQM1TkzqM3I9iLJTE9wB+8h7PWFN/y4PrVdTFRuVVznP2UYFl7OT2aCJzBOhQG3P962LuiTPKbexcBVl/Y1pbWCiS1SjC8EKMS5ny5I4ApN+aH8CGybViRgBsrYaN7TAG8QPcPkbeI8esX4x943GX0n4/TyJWydW6t2JBUoR9dwjKXhAMgccTLsNQ27gfl7XTp+pUZxh9fzG5h5lFwPAHbHbxTeSM8GP40bSspBbxjLpms5vwXZNmkeu1uF72GK1B9zCYF5KxmbnNCkmpomeS7mBz/jt5lU4jhuBgZqr0NrAPqLODTzwD+FUwS1CFv62C4aaiDitw+ExzH9a9mJrT6l055ra+qCiXKKaucKW1Tgj1vkmkPPeGJehNjvqOSDqQdLBHmz0/ow+oWTYaSjMA+JrUj4NBrifyarTFpakQFtc2JUX5s5TO03Kmdx3ovgfYJiOv7Ur76DoH2ew8qAydq9UiGydma6bM//v3IscwUyN1LVNN0XISF/fsZRe7N6lGcZfdoporpcee5PWDEGL25IZXgwb6muK2M0NA75j1m4CCJZ2MPxsACT3tt4dmclA0fyliM1VHHoWHtYD43Dvwcbd9fJ+QEItNCihth+fVDKe9xKw3EtzEuWn09sZZGJ1cx2EEXVNjpVBc1a1PMbrflJ+m/2M1/nxJ/YiDgWTeQjJDqpWYbCtZRcNZG69U30QbwtTNsog+++VsjYo6afmcuVyRBejdM9ihpcNw1cU1p248Uc79Zmk8b5YtIo0DhjJ3kbYQ2UMooeRFEVC/s2pohHFi4NaWK4Xt+GctpqgwjxoPTYHUm+6M5Gv1ZJuUDG87SY/rstFLuGTjlr3cbzrwvfvWbHj+GUAT9esxQR/d2FiqoMiujj0+Fj+DFpITUiqeKIIUk6BbHmnPnRCcVtcwTLTk2Dk8/SBxv/9hGtBTfP30CtwtgXqzXdXCFF9H+PoeaFT1MVc+meWG4ViuBsLaWt/rd/KmA5CleG559Njv6auSs4RM5Zq8TXpt7xaOfit3rsObM1qp51xk18GGpddORxryrjiIrpOR1Qst+R8ir4ja1BO+80aJ9YshsUoE1c3xHXa57BmzJ1/vfN919q1VhdkWVu3RvBx0Xe3jmA86L/Uqzvp6Jaf3nUtlrKOkEx84uwIOmdfXyU7dQpLB8Db6iKi4aHqn0Ofs0Vz7ETABg1ZxIcee5o4MPz8qNSAzONncGLkGz5rtJdwHihKyMRSAWBK0QA9WL/94jfyfejLhlYXVAa+CcHI/O7XkiTN0xr9i5jh56A/ugXFMJQuRZBgv5/H9SjzlvbCEHGNLemUR7dnhc8YdbKxvGB2uu15IKh3mJHBO0J41Y1gJaWf3WPbPIe5m6aZKj2KRNzaLuD1zg1WQH2KA0DI/Nkrnp/JPinZMvSzr2kf4Sa9M2cotHSqC3QJ097p6pzKp+uRs5QaOI5eIYR1NZBdcKPwNLD7VsP18VH/ZY7tFnaCC/6SlmsVlDW3j55ja4GwLzkW8BeH/fxaviIFN3djAN8T2r5uaTo/w5KuwYzIAHTDLiY0EJK5gZF4FG7IKL10nCph6TqvyNVV/03qNt6CUuc2wjCI4rekgLqAAJW2XBeIOaLwqc8dJqFNMv3P1arC7GT+B902jQKWLYjKAicOUsrePlB3dk8f8+6Zb0hBAkPx/X9pwxPkJYkPjPwjGreW5u11xKwYk3Yj3J5o1Ug38oO1GLsUF/Hlt7aKpJHFZUhmUMH8uSbLK6yux+jjTsbt65/wxarQX7Rgv/Iz4mhsdgUCwKun9bQE9SoqSbv5E+2iWS0NkiVU5cqsN/myT8WF9+gsc1i47PdvCzolBY9pkxohiFsIgXCnkvFPBvqI5L+EvJgg9EkA2UDdwwNuvNvcAU4h+PuQYbxKy3W8SGM96HBrhjjdLl97HH7S5V5Ov7eUAAAAwAEtQAAAVFBmiRsQ3/+p4QAAAMAD++ymqfOI5RfAC2fZRKYtFyOOMYmTpYRaFFqgDcfzScgiN9ADgU5YnlwA4rdHGMjcTXa1C71AQrhd/rN5M2VuuHHYSAqQPQMRnIVdi9ymxUG8LMmWLBJfZ4joCO3+C06LfCbDblCrGe5vc4DzBxpByZWmRBRlu0JXd+lsDPVLIZV6iqHr85N31cjX3DakXRV5cDcEG0HjJQySyMSKqSNMYlQoQK6nfYOycMWQ7ehcuGuJg2cGE8dYEMJSLxiWFKpLRVuBQiPiAx1FWsHK6H9LPgUJAlVx8xj42+9rRePnsIHqy6QZTibVb/s1I3UOXRxAEUKzlc17E1acZkcQIJ4sIvXU8a1j8fyaVpSzIZ8VExaesIoHHEv64/PoqDIlcZBxawNBkTAoyP2m9LR0Or93BAclyHm66oioJuBk3DsB8UoxW+YAAAAqkGeQniFfwAAAwANYOvihEfgkAcT98Kz0wIvFwNvZE48cioThpB8xsHGhAdeQJdvEfr3KynLKoK3i94Rh4bjeT/jRSxvhkxOJVVMsQAby5/Y4j1w8VBXjJ6+a6dawQqBYMqnDpYFO1SPr7jtW+JnIxfMbDw9ny+zdft9GhPeob+bpSGJAqKE0jZw5FAGklAUR1WUmmUS9dD1D+0WGM8b1dxjmt0wjbywwX+BAAAAiAGeYXRCfwAAAwARVZkNDmviIAqs84isFzPoo6i13oocmz6THfXPRXTAhNVCQBNX4f2kQ+NGztvbFoSpWmhxNbSKuR+RAx5CGsYlNPYV4rGVWn4DZiH77gfeGIWL1V65Lfy4xbBmDUVgjnAR4sL2abVOCXrtzqNIOZqE8tMsMcszCXIP7gV2AEEAAACAAZ5jakJ/AAADABFYnRUAIGkhsbwCEEG0fsVv08Uutg88U1GyR+TGng7I1SlTTunwsCF5FZUXUpUBErIJTOZISWGcAwbk+BuK6152XXWXoVoy3UurA3IEycFDH59bAvyNfBDS7SiFC6Xy8DpHTLejiWKyeeSugMOwJppeonGwAg4AAAECQZpoSahBaJlMCG///qeEAAADAA/uvfgu6UABYK0EM7KSk1OuNUngeANoshnWr/WGwPKIFyK1TO0T5RTowJxBOowUW4qtx+gmCDS3BLYagkBv4xRaaSoVNL99ZRy5bPosiAsOubMjRTI26rHPlBJ4b6gPaN5OhngnZ4F3vP1+Pt3naZ9hCtTmrN3jBPfRxEc7GwjNdeZoaIJ1rDJ/8IJfqmHMPUOKHqSgJxOT2JAWduHw4KRQlLRd+c01QG1gZcjBOVkobmE2wgckqhsA5HptVDCfS/0sBLjA5ugKPkJHVev3WOKKXmbbkCDehTTcA9QzqRfVlazwE2fL34vEt9oJgFTAAAAAjEGehkURLCv/AAADAA01gal6ZR+FgBHamQvFZ4VuTbG24SdwYl/8StqB24cTgHEOy3f3NJAAHlpRcz9AftD63l1JqpV4UqCIdqTn1G9jjZogcFpRj4JKfN8ruc+B9lJx/yfYl1JhvyXHrY+N+fuLiRwuTC3QF/oe6mxOcKJzJK6Sl1wxBr9sX4gxACXhAAAAkwGepXRCfwAAAwAQ6o7gEzCG4HaoXn2tj3ER9TaV08eaSqIicuAYOxbA5/QPSWfL/IaEPba1vr1zfjXA5nsfNNRvrwS6pu49cKxAvTR2D3W8+CCu+m0iOiJZRuPMRBI6ryLlsA4m3FVkkKRzTUogpy0+TLgjqJG69bLkBcGWrGrX5j0Hf2ZS2Auu+YZAkjc2DNODFgAAAIoBnqdqQn8AAAMAEN2pLea/GD1T0XA0BEAHFnKPYOp5jwujbJLcFVGdMjdJPYfbQN1sZs0BudfB9DOd6ZV2EqsQtkimhHhsiuw2PIXzBqeCtbXLTXAv12PpPw8hFje3ecp868ahb9dGbM3xNfTNOikv5pVHqDJWqmbTSh/tNJcUgo5CsdYKmbXAccEAAADtQZqsSahBbJlMCG///qeEAAADAA/vsnQPFuTfRDYOd2y+AAbVchihiMFhic/J/gIL76a9IJe+3j7wWmC61uqyW4U6vBKgoRcs8R9cp4DP/0g4kTBpKP5Ovb5wkebZVsMQ4cALWHJxk9WlL8GD02gOVoDkfAt9Cyl5HadWYL9XLNsYWc+mliW/uHxDfcnoJnsMQLKC3+RyF3+5KYH00RWpY0mY55WVDUe8mjZL7uOK2kQeY/lopQ5lGO/n8DXYE2CGFsCSRP2mEknZNpYvSdrJZfAQP9wtGCVOjONBFCQB021bapubZ1fF/kUErRuAAAAAfkGeykUVLCv/AAADAA0w53RXTV1MrLyIAHG3k0DFZA1cW8lWCTFtV/awpN73BAUueQpkKrTCQEg4cccU4ACqoEZV5MHdqJ5h1LVQ5X56THHWKJ+oHU8tUgEtJwlq0occflq1CGQ9trHRqz/CZOPPj54g3edMBU4Iup4tX/KDgQAAAIABnul0Qn8AAAMAENazxmW0WyIgA4pnCYP0ZIMgyNpYeLZ7eeWow4itJLwdJeKRX8oB7cgckJi2b1ABv8BLN/olXEi5DQh5Qkf2F42fIlL2kSuNHMYpfYiBaTgi+f2BAxOi1XGyyuSpYd2FSdC6squuQ7sPZVeaWik2CM83QPcLgQAAAJYBnutqQn8AAAMAEF2VBcER2dACw+Q/staq6Vsa5anQFJaCW9EcPHs1Anj03Kp/49HNEPUQ1IQu8f75uDHV9r2PKqq83mz+zuZVFLBeLgaEAOMew2TaEaNccIFkC8Y3yLVOg+F1hhm6T/2O88LP56QRYzmpP4R/4TR4RbBRzVIIOgSt7cgHSOYP6BQN2cqGTSOgysRmn+EAAAExQZrwSahBbJlMCG///qeEAAADAA+XsnGr8ALYPfLXa7Z96G3JHqmhF+f6S+LlNl6r6nlxIib9ufigsC7OEJ9nHvD7Pjj41Nz6DB/ufIou5ySdldVdFRuDtHwN/qYcmp32ob53G8ZOxBZhYVExBu/Tzd84f+wfDnED9Ce1iHK4Lch86cQQ/+rBd/CJuv10y7Xg565lDCqcGEc3Sscs35OuvKYZ9wr9l1xiQkEbpbqs0iPterFvHJwnp8gRhufDOgNPfNG9oE+ciCULKha+LurT42L0KwTu6Yk+9ibnQyCU6h7bjiqM5Gc81Am/i1yuuVWV/ckfFowYN9XkP3AMMkfL4AUTYbLDT86agLjE1Bj6PX8K1Rufuz2F0x6Y5W4dfRlULFSbQj8c70L6gMkuR1+nplkAAAB9QZ8ORRUsK/8AAAMADMDr4Qlf4AhHnCpXs+ujgovDiNmjToz/rAak2dEkeWIkOALbgb+OCb8wTyUg4jYcbw01yI9KrtyjX7U0OF5fDzKYMWB0iXVEYAwMzfS6TXPeMwI+3nEBmE4Q3X3M2QI9y9ytStCo+qYIrqULS0LwBWwAAACDAZ8tdEJ/AAADABFfbg5AG1S7zXxwcn1LbQsYKSri3ktqp2g4F1a9/mYwcb+iYrLiUMwtzDcspFhfZ6ligWMqDxKJrR1Kuch8OcjxBT4S9Pem2CWM3gn1zDRAVzzQgiYnJqtEI6BOIk8OqkgLTMbRvIDoqobWgnPo9oeEHAgOTHp4A44AAAB8AZ8vakJ/AAADABFYwl3HNauouXAW4ARgVby0tJqbcEzbWWjg3td6x7Q7isIk89F9uof5YlcPwXtMRyvplUOgejak2Doaton+t1Ho0cipuTAcwrnDSaMIshIz+45JoOzWEJY//uxzuSajJjYHQntj2noOLhlkd0tCcBsDLwAAARdBmzRJqEFsmUwIb//+p4QAAAMADy2wMaiZcgBbxsBJbIsGzQmh4trnpn8/o05Eb4RQZrkrHaOw/iEFa7kO/LlnfBm+8nFBwI5KVoZZtQ1xqB2qvy6LNxXo4NX5e3Bq3tXEq80275uguGWfnfA41i5kwRvg1oKFJdf129nuWP7uEUl977PgjBE373rF7pXyxn9E28BYthZlFUsPZFy9Sk3ZYxfNZ0k2RmdznyehsRzoXm2stJaObl4djYZrbI3fm4gytsdvU5VApJOM00Wly1Qvi1uWSX9I4kN+SQ/ffxQ0RSUftF99Zt4gF7QWS5dr4pUqvG3A06XseRIEcl4TQVN0Wjcq/bpY2h9SlwuzWM5lyVpr71HWNtQAAAB+QZ9SRRUsK/8AAAMADG53kNtECAGqzA40s/8YGEAztYAQ3jAjPloGYsxqo9SHG59jPUDioL/wOPdJsct/K/N9Sz0IcLYYwVOS6RAMKIYNouRMw6dAZ3XX0JuwmRmWRJXLDkHLa+uDRD2BI3vifQsIgstutOfWNjH/V8afNluAAAAAbgGfcXRCfwAAAwAQ3yjr50qYMfdontP/BBCACG6dMAfDELVXL2LjSoBm/0vRGc/ezNgPsLCDMGaBHhAWugSuk3OgVrPcphnnPIq3OS5FbMhtgRxyFaozMDe7pateEPTwsw36JsKt/iY1vTjTSBixAAAAWQGfc2pCfwAAAwAQ2FH9fECJN+4zY9cQOAC0I+bqweWhCHn+bKSE0CApMSRO9QqNRISJuOZcLT/9+2csZonbZXvdee1XjXpTSfuDQxez+C/orEglC4IW2O6BAAAA5UGbeEmoQWyZTAhv//6nhAAAAwAPgQCQAdE/8tigVp3GtHE8VNz/50epc3ew6irCREACl5VClKRtcXx4P4SdSmm4XqmVNJgiqMi/Tn2+nJ1HGQwC9Sfkvu0BNnd6qyC5h0FHQQw5L6e/nQdfqgNCoZroJ3D3O6jWDk555jVmxy3T5mG4U1Swe56vMlYScM6XOPp7vE2DUpXx98alclfDX+Kb4wvTfAGgCz8SQuFWPsjWS+dPIPGVAPLzSN5C4aWBETPPlwtxro3FsepFKNitH1qJzoYikT6FSjuct6WxL+0dWnfTcnEAAABfQZ+WRRUsK/8AAAMADMDrjidZMUMAOPaZiXv5tm3NOUl/XtLjootCzjROrJ+bV/+sfoOO60YnQr/77j62xgInAn+X32u+U7Sda0KvnXR2dEICx4FknmLPnvFT0QoSitgAAAB/AZ+1dEJ/AAADACj6czl0g5VPDVKpIG4AhCu1GECWwXNvA4Bie4GNkhvc5XZlAYuOZdYE1hnhY7jkEO3lS8cKDi9hPPpaSTmtBah2/Zi6w+yvMNtZQ3JaRrZvklwUv2aVWzSl3BVeWrWbXPbtxpvPh2/aBdhmGaiWqc8YEHRk/wAAAIEBn7dqQn8AAAMAKOzSvInEr+JMf/4CXLGc4AiYIDQVxMu8ntOR1p/ajJBM7zKWWQKp8DQ6TuABN160gYqvAkals0bWiZsHQh4K+WNXrjQ/V0eg6pUWFKMwcFhIQqJM9/GpI0B5s1FNGgFKXeYHgr2qwE+z0L1ygRUJi+dXfQEKAQ8AAAEbQZu8SahBbJlMCG///qeEAAADABBuPXxH342KAFunpxWf0w/XEqzgLcDLNuwj2kN1vn3XfEuoQyGgaLY378u2r7ugOTmQGeBAZDaYeTX0QZeI4vXUDfthmZfb9Ysof7eo6mpSFapiNQ7BRv0MwlXKnwfqzgr6xu8zqUxR0MK/QBMNelLftD+5guWo1a4SnCpohdWqTyIAcFqDS+/hXYLXrgrO5hVL60fHN42vjgRbZ6qSMAT7adCxC3AxFer3BRo2pjJGa5dTdUV78UVJv9DcVVzQ/iV/XcDzRZ8+AhmgQWFpUrwnZNufJl/3oj3Z2Lmdc/tBwJU+fiS9Tnq78US4wYyS3qKxWjWomfuy1h26Cs60NYtMGV97HVSmYAAAAIRBn9pFFSwr/wAAAwANg6GLPU9bKLs1ADN6XX08t2T5PgqGWuqV/IsYn6Xzz10WgMEiBE4WPWFteXfoH53S2FqGJ2/27ZkAsgeMy4cdNDwesQkqVHTNtA/H9qNJPvHO+9ombViFeSgwN3pkauO1l55lFXugfLctcwmutyD9z4XfSbjHUkAAAACkAZ/5dEJ/AAADABBd7yLMUWXaBXTDmAIkKv1VAMkNlIU58UliR//pi2YVyP86uRacVXunzNT9OyqdE5kIUyrleS4+4QoV4bxreUXMm/YAv9dt19bGqaeDJUaCqomPXUYA2K4av1FZR1fmxcGDD9pVwlP3je7dmRSq+7dw/qqIlRjxT/FCVPk2GjH5LhTJLvVI8Ynp08rlbi1VPtx0h2cDqn9IDPkAAACUAZ/7akJ/AAADABFdu/HEALDkxucWYxR9GH1+6u1fI2yGwzMfIja2oHP5DIOfgHB7ehRDQvTVyOx8IXenj6wJw6W/UXDsOKyjtBengXpDC67/D6lHMSqrJPUdUInPDUUckwquvkRB0otZBUrPwbAznZY+6bmK4p7F8Rxak4Wd0Qw3DbID8NlOC5qsbAjDdrs2P+hxdwAAAR9Bm+BJqEFsmUwIb//+p4QAAAMAEG+Rq3eXfCjisIAJ29Bq7vxcvz0Y4WIznpa0/VjvcdjyDNEm5H65htucGg/w4Dtn7/D/0ZWX0NFE6+a6ueVj4xtowKZR/AGFmcnSPN+wBfwe5KRqpZFUFQJ0XCI1pFE3Et7G6nHcUgZViCQkt41tHoBheM97SotB6bK7RIcQcuYbFBDh0Dwj5D4RvnS7uok5IHYNdsPjDbwVBNtTqOJ9C4Bd920isON+VZZFpdzfgs0J1QyhlFZCUPF6K98XeNUDuppA+XrVxp4RE0DKUpD6RDApeytMFI4LaAfpK2saTByQlqJakjo9LccQ/Wtmy7nAke84pHu8P5v+lRTcWcDpuyVxrQPy/wn+Ky1qQQAAAJhBnh5FFSwr/wAAAwANhYTF3vKF4AXkEd+8Pb0suPooP2lPOxpRQ/MuSQTVoYc2KX4lDAfnt4ESbMLwk1htW/ivYsc2epwS1nWTHgLIAgnhyHBc+Z1cAcEIGGkUlOqXY1Q78DJjSLxwm80vdsysbQqqDwkko0ynLaannm9vjnaYN5ZQcI6NTfCXkWpGcWChwZ9is1Jjm53zPwAAAJcBnj10Qn8AAAMAEVaUM9YBqUu818cagSBPFnuw0WbjfBW1AvTFfTriWc6S/HC76FhKR50m9iS5CZ5uyaScZXpA6Kahn92iU7gP8lBtO1idSUOt7KjgoYYaVb8ItRRIMzueQ/C9I5r2SQr4FsUUjuKPkHm8hWVExz9EJG5LjE1jswyneHJSh3mX2dzTUG4fTmpG/ukOgAHdAAAAgQGeP2pCfwAAAwAQXZUFxg9S0uAIeLaUxWxlY0se3odkk9nfKlbLthcCXkqzYNlqVxM9V9VS1mDeZoPW91W83CsWv3PgWOQhlASXpOcVamyFa0xLmSKGzAzjaElLIrcUlJ12UrYj5kG3XNmhH9YdAMVn8sa1w4ZQsFhPthkphMBoQQAAAO5BmiRJqEFsmUwIb//+p4QAAAMAD5eymqfXgg2DIAXJ+0Icl+Kq3Wksk7THWZyZkjWJbdgqEtE2x5muX9Gmhdu8BnhHHGi7/bwzyTlHfQRqsJx1bT+NujF3ys5G5XMV/JEtZqqdCDXqkc/qMMzt+wQ+IYcdrhHoqBKHMKktw0jA8oP+U4gLyEUNE40PVfDfmw6roxWe9G/zmmuWcTTgEGWsR+7R6Fu2MCcVPXgUIlvW4r+qhTEWmiMk+Peoo3xch7d5NunMPSYtIrwrM6BTk0OKjdKXbWWg6knWh80ysxwwRYO5YaC9sEgEe3SYrk1BAAAAcUGeQkUVLCv/AAADAAzhA4/iOyCWIAH9x/9PDxaH8fKevaB52XzhgXWyv3PuxEZ2DTlDgMtpO/9ZT3GoOOIfIJ7gx2OnqJb5nDJ3Trak5LOx2jGr+wr8q9V1YOeEE0hd2uYin+C/Uk30w0I8fqoVgJ1hAAAAgAGeYXRCfwAAAwAQ6F4ALQalLD1Rck/05dTKl3QPMlLk+oXEAk/FOTiyojqnuks78DpMsdcWQ/zFaAJO/6KBSJLpOie/uHiwMW1/SAWcsKISNhlQewCL5qA4SYP3sshZVtxJcgEexYgGk0qfX9qiLH3mmm7nsO2Qf0k2DN3JTAIfAAAAjwGeY2pCfwAAAwAQWI/o1KABGqTHBjbDA22ckh9Y5IEJgieqfzhBJy4YXgeVPBJ9vG2FsxIAqOVmXewe6Ov7TJ/rPtjlwstAWlJP9wnLftG5/4NhzJPzF1uFB44fY7w7rAQ7Z0rulFg8ArDK53ef/MafeROQ8qCsfKeBXqMM+7Cro3QgowVQ7xbIlTlMFN7gAAAA5EGaaEmoQWyZTAhv//6nhAAAAwAP7r354hOwAFgrPpj85wBm7ivlM7Iw7qHQ6WlumN297PsWea/rPDwsuRLWgObuflLMYrbG6H9zmK9rCix8fxfAJpeqCftNFZfs9EXpvv5zJrmq3DvozVAK0HywfLLFfrySm5KkSKhfFVUdwF+p5YqZB0LEGaFhtR4CZEV/+CS1DBRuOgIUfS6zweEdRtI24nxPgf2e1j+aBrNx0q9MwpJNVlP/N/VW0hWRGBlsxqhMpD3Ao5oCkUjUSVW63FH8JFczF5iqQlvatlxJaOPxjHUgQAAAAIJBnoZFFSwr/wAAAwANCYzHgGHofmz8GVqluwAskVDU/eb+1En3AHUvddhUYGY/RrkJ14QaA5M+pUpXdXKGEyR5PGTJ49l/m8e79qS7sP+J58PdIawVmjFWAeeImjWmWFepl9cQrsZkhQCfhtTZdek0DSkeQx8VM3mZEADiMZPB3D2hAAAAhAGepXRCfwAAAwAQ327PRAE5Rbn4PZWKX1ykzWZxm+izwvsM08v4EeaPKIh3to908CCyqphcB/uGYhBbYjMrbrNZ/WI7rhZ6KHEtz6g5u6iFGegTWgBjU85d7tgNdAZChE//O2szIAPmrfu1CuRe+2DiO4Xf2gW7eip72A6il1IYREzkCAAAAH8BnqdqQn8AAAMAEOFnAfEAZRbJ0mEkngWHYFToVbFk+nr+sXWWshOwgHeI7hlWIJ6FUDkDne64G6bfoGNlUZgzI6xMkPeqGlMgBnRocqIYlJpJOtV3Ftx3e9hMFj2QRDa31cweqT5pS3EIsoJkQBGcdzstaCNU8c4RbD/BFwwtAAABLEGarEmoQWyZTAhv//6nhAAAAwAP77Kap8OGIUAJauPWP7GM/a+akW/UApX+jFuKWmeEyz5MnAVjSc/t6seWAOwRlaBpUv9mM8dJ/7DrFh6Oy31LOJ1ZyrvmFIkYqIBRgvZCsRrY5RppsqCOSXVrb08qpYIDZWbdgky+WGOiy7wRyfmZoOYRvEJv4wccejREhb8ka/tl6yHy+jWwsI0EGnQlpQHxdq4MYAESK4xqgAkjwBB5h6d8ifm8ncwqOsULSgpHvUnn4tF455VCCbOEcJ56wtjOnmgQkK5Hd+kVyn456W23OF/XEW2SqipRAHVBh8PmEfm6TkgBJAwU5xu9PAWM7YH4Uh/dtlU+iDWg5GIxR19pIIIoJcJZavgbWaloez31OER+nje5tdC7gAAAAFhBnspFFSwr/wAAAwANMPpWuBvX9ABFXK3Fizux8UXTf1AFSoHCMrjRKqZ1eHchc3T+0LgvqhXZBYp2+X00UbyMqszHYcwjpU66uwzTdMPBwyjIzx5r1gaFAAAAkgGe6XRCfwAAAwAQ1pnW1d+4nncYAcYjwGviM3JEU9qgd23NeLhpZXCC/xQtIgOlef5/fcMnzm0UOca0INpOTD97ahLniQeXsIqM4CA457JXeJk/BGgh7AnWXYdV+hYTa7pZUyCzwP6tZuoLu1+tdHNmk3C1BEH5b9itGcrCGDo/BqM5DXT6Er/IU+5vgvreCgHTAAAAhQGe62pCfwAAAwAQqFTcaRpWgC/RC2VfvjjrwIENZJ7L1IkkmDW5Oy504oLkxp5+y/lfHky7jrnh0lO2FpZrD2UwMTdZOR3WMDtaC9SnP3SHOOePPxUWvT5yXdo8PXcwS8yzIczzBabGs8OfxkVkbKcH868etj6GTgPdUq2YMoiBNx+OEtkAAADrQZrwSahBbJlMCG///qeEAAADABBTIK4AW6JxR2/ejVSgmP3OY9rdigESvz+azLJiRCIZ14/JQZIq8FOuW81ZFNF71Rwv6PyO4Kmi9sY3hC7Ylu9hevXWKLBaPmAWiwNwIk70OKWyFbjlYmwnnKoVmyFFrYFLYzJARU/trFXk90iqbLnU5125JsOIUytG+us74ttGT/Z4HHtN0TKJesol0cvfrFyQ5HQVUrt65t/w7aLYnMVjDS0oOEsSf1j5dGvoM2id7lhL+RRlDg5vzcVWighWNULZ3kNDPI6gKdGmy7pnZq8OVHrhMsvAgQAAAHlBnw5FFSwr/wAAAwANXne8wwBQYeyQdA221A+o8BDV1wmaLcQp9webFbhzVN/2/4l0TXWl3d6udWGOIwRhPAd9xf2cXr6synMOJ8u7H+bkgBAumCX6rW+4OmVD2pXYGHFTZV0snWCE5ZmIaItG3iAF0N72nXyKOlD/AAAAkQGfLXRCfwAAAwAQ31t6jCPWAKVSFYzWzrBQK9JKTQixvvEWAk+RI4I4+Ngu5oGx6EYEqVpoaKTPsLGgoFEpTd5xxczovJ1A9ysnnVjPGXW3BCld6xQM9BA/svVw2lvMZzCrFDY44YRdCq03WAM3rpiykP6b+ONpMO7BEkpXPZ37MX8ZKejpUMtvZOqNC/eVUrAAAACcAZ8vakJ/AAADABEk3QgsaU7lgAjVJjxA9Jnnc9z189GU9cfg/9pCR2u0+kMwver1zh5jvxPK0HFGOnCkKSkZ1iQ2V7Z5M5u3l39viwHrcblJFYSH+uP17k15+BsysMOJqkh+ARq77qKZFlqaMsEu079nies2l76T2/u8kA+wWMiHCC0lbIkCwp6ZgC8NSB1dfSAe9qAXEJHggMaBAAABAUGbNEmoQWyZTAhv//6nhAAAAwAQVT3egAXVHXcZi81TwlnvTN913s4ml7tn+dj1ZX7XfXlhp6Qh2w5jRbU78WMkRvhD8QI1O2gNCHawKc14RBnZqYHBvt01I2/VPy2Cp8Ei057dF1+7h+Ww3YvsvHvNCgwq2U5/Dkq1u12OmZ6idypqi+wzbC/p/5gj9c3OgMudHSzgj0UXSPD9lRqI/8g0LK2JGdVEcgyKxwUTpknWFf6xUb4CVyXbraOCnBhsY3kboKqvnvXChAH3DUv/WXWvkP8KoAOFfjL8v6e5RGNq2j9fYihAazKqkFPpJNbT34roQnBEx3DpAgHCuYI76PScAAAAfEGfUkUVLCv/AAADAA1ed6cY16ZDBoTAEYFwZi600gSpmLiiwdghb5WxXD+q9uXWrdlrpf5Y1cM49TfTh3kN7rEQ+na0yFu9ncELcTR9KdRTSVrtnn142eJp8yJNCuMlvYFXE6f1ol+pYF73UAfCmDHj7AG5xYiJTzywNaAAAABrAZ9xdEJ/AAADABEk3tdGAEIyY3OMZ774EGEFOFgYUTTdDmgCEtkig+XXN0zFMR9Tofb5ZmEWB3NngmAQedjthWpa9AvvO5fGzYyW133hNITRG5BSODgZjwObXyD9kmQ37ZLaRjtAaFmXPuEAAACWAZ9zakJ/AAADABEk3Qgi04y6QACwvIArCUsTGoZViUIZKxayHjAqP63Abz/J6/QVuphkNskxRvFDSSBn4TqlN/88OZtEAqHkKmvFo3TWgnL/n6JGOOG6EzfA04qNelZ0oyoxP7MnpdT0pzHq64vDQlgIiB9ayeszTdPrBmcUlCiVS0vrZ5DJFdePHuOVvIawRJBVIB0xAAAA/kGbeEmoQWyZTAhv//6nhAAAAwAQb5FtlAgATONly/yN3fnnQG4+g0iqfvHAVv1O8/gc/JCxA0Y3Li7TqxqXDLvhQERl69Kh5Au4xAlpxN8o20NEXZj/z2yy2W+GlD+J9EaxOvlIsVA+ddSNzXUdHPu5YEJ74SBMNHbZs+m1bKGzxivhigFWlyVshxU9CO8Quko23TAWokFF/8qrZv0m2He/CNSneBntGMh5+0smGIdSlRojLPHgfO0c1CmdveuX/2yNQAGDfTb4CWTjya6lkzEsHUuzrfFWEUf+WqJHrXZTw1LtUBH5G93G3OItY8t3g1OfoeptqHizTH9SCTw9AAAAjEGflkUVLCv/AAADAA1ed7EmmBVmrpqMAQ9/U0x5lbS6RbbNgSQ9nWtizXVLAkXNoAzfz/VI9bNKBgKf3WGEY6OUmFtL249OpNbunMwjE9dB8syFPq+T00/aOYWdstZ7tQo3X03fVkABVhserjGyjRwRaO0MrsgI2qgU4Kn7zke0lHuxJg+MPP/M0FtAAAAAeQGftXRCfwAAAwARVuz4D/OmaL3aFhgXXdeLx4GD8QyjQuNV305fkP3gp8kWcFmqRtj9AwF4X+gtAZ58aBGthjfdD8UJuVsOj5eMdelpln9Ag5hhk7m19XuGRhYstf0GNnhHQ7sz2leR22UoJsm3vG8iRd9zkMn/CpgAAACsAZ+3akJ/AAADABDdknEgAJ64Tmha9wVg5yI62RI0Y6kKA13Kd+nHlCBtryuTOJaPgRpPcVjqr6r9l30WBh/ES78mGm07iRtjJxg6ZAQrPDw16H+zWAwzOymoEUS9qMMh/m63+T7GMevH04vvwkVjc++5cfIK40bEUokXo+/NxPiDd5vemkdhbSpP/vQNRgx+ZsNkewFP3q36s1wuTsaKGTj9awnIeKTN//nZgQAAAPVBm7xJqEFsmUwIb//+p4QAAAMAEFNB0gE19A9ojBhtPwy9a2nhaOQoLo0PfW9ENiXQJwV3oncePr+p2e+AceqCqaQCpGwqmbippKHui3gTNFUqgWvFSvHFBhdpzXAJiyF36/ml2HyavcEI1+eZnj9z5/OpNdUgW1NnijX6BZRyliOfnxevlAn1vps9k/oBljSBeWBIsf7lqwkB302VtULP3bGGhwtWpjxsD84rpx9+c6hLbOkAGSWw/15Xx3oWgEvwzQ5x8fjbST08+FP9KLdhZceBuRWv6RAfuI2I/Iaz2ALujLF2cFERzXl5g7c1FcT1cyMuUAAAAH1Bn9pFFSwr/wAAAwANivmAFh4vrq3Y3SZpjPrv4UiBnQuGvSbi8QpTl5IsP2JZU8NSs0Ml6mOY58eSDHfRdUPT0ze7/W/XnAbb/pO33VYQisxt8dcMSoyaACCWwka1Gay01Cnvtcqql6FQ8BVEpDurSX+wOBJOw5IzmKUOOAAAAIcBn/l0Qn8AAAMAKPp0QAewBxDOTRdpvo0JZB5vNWd9eTNQ9pL7JzPcw5XZHiN65kBJuRq8V12Q0awSMMFvO55Zb5BBJlDa9KJY4hV5v5J080oD/jPqgfv0QAi578sgsfy9jtf3c7voOM7MAWyl9NVzHsEmCq8L1emoquB4bDEmfI5K50QALuEAAACTAZ/7akJ/AAADACjs0wXf8zRM2FjVceRAFgjwzrioVVsTQ6/BSo1vyktS2e1cgKA15QGTFx5voAnfXM5zILh8ekhrQf29HeDG0ByuJd2IVgY+3RuDepyasKupEHyUJCzSbX2/s0sRrxU8xwmHSoicXMAoXhpwXdj5CYDRVVR1+JHzBKPg9LRSkXV75w+jZzzfaAVMAAAA7UGb4EmoQWyZTAhv//6nhAAAAwAQb5FurTqkB57af8L5wA4tZqHLhMQkkfn732vtNilVJ9g49CBnq2LxjvvDsepjVdJc+75TZW4EjtwZidIhwD2Dr1v3lI8b3CvBUe++6GJf2sw3rmgbtjDmwXYFDTUTkxPQ7vPWsOHavj570+JV66gz+FRiNcbqhGx37/+1JfEaCMSkaEZeV2Rar3LW4Um4RcLDIRB3sCQpxz5K+0XvJNojXrFuMINaepzq7tUKoWo3X/9BMFhYXia3Htn9/IhQM7/Tb2yijELu+HK+nCajcXOb124piZv8ghlvoQAAAHZBnh5FFSwr/wAAAwANgz0Y6h0Fy2xG6WnRWgwl6joAW4W+yY4R2kSoSKRxrbDozLSiCWoLPInJDouaYAaxUxSq+VdSiyK5RrJSir2ndwEYbBT8Pis/I5SiOn/ahwY0VnmFCQomsCDH6IyDd055h7TZch1cLYS9AAAAhwGePXRCfwAAAwAo+nQEC8b0QALyvPaNAgIAX3kYzG5euw3L0PkAqYACiK1kDepttDdIOLfdyI9aHOkZJHA5UW2VnL1lKwn7y/3NmIpG+VUOyw9BqjDr3S60WMFY4j/1MdWwBpBWhTYQbT36KjpUrMrVDvE3ESTbF+oluLTRv6EMdtDqThasWAAAAIMBnj9qQn8AAAMAKOzTKO7b5VUvtKNniJ20UgAWHyrXnLrEvfuXzt3rNpgXHBPxEhH60ngbLJUrYN8A0bt5foK4KCzislkXR2X5jqhCQoQEzaXt1P9t8k5viCY1drapbqGuEgl6wevYnof/STTPWv2baYV+XdD3uiInjz7CferpUWgxYQAAAJRBmiRJqEFsmUwIb//+p4QAAAMAD+69+GKqaAAsMKbjcpk1F7+dCw9Wbw5eVi+WoEEDBp84WdWYKzfPVDidqXU8qdOvRgTeyw41FwGwdny0c6Exa05sjgLIdr0AyXZdTbG7UcA1RTKvmTU0knFjkLNO3cYIqamdP5/M7utB2sjwgOLKLHBYRPIpxM2CzsvDPv9lOvaAAAAAW0GeQkUVLCv/AAADAA0Od6UXl95cAAixjAbBAYnhsDcRdK6uQmzEDc7j8cNvH5WH8Er77hGy2xz7M+Id37McVLpaJSDZ6X4fQSWdXSzmJ/mH8j+LTpvcS9RgDZkAAAB/AZ5hdEJ/AAADABFoXgBB5yj2DqfIr3bcE9ez6T5pPxvb/aLUHt6lgbTuPTUVtPxTRXO+Gsh8UUlix8EKOfCdjj3NOAMYIobHeb978wgs2eVsRxGjD2+7vU0lOGLBPTAG5Cbtd8DJ8lPFVWqM9xTGKLgDtwjxB4xTIFFiVoSCkwAAAIUBnmNqQn8AAAMAEN4v9ADoC+lQc1omGLvVcX3+2lPAUJvZvdEE7or1Wii5ty3T+UCCZ418/RxYb7snoIhXc5cYkYk5fTofOrUAko/bEvOWFflDEzYltxyziOCpTVcCwyI1+hI5kfjqByO1ULcwGEc0WHJO08t/BtyRiYEwFJVey3tRUvPgAAAAg0GaaEmoQWyZTAhv//6nhAAAAwAP2CD2l5L0YgA3WV3RWccxmIrgVv4XX6ZHut9SkQDIKJkIMHmcTHqBLjmmFGVa//aDo0PGLoRBCGXDDonV48xKTu8CbP9d7u1GMJWsKeXW6pcp0rsCeCeyBwOS3J8A27+UARH32OBFyuJekX31sN6AAAAAdUGehkUVLCv/AAADAA01gWDd/5mIiAG3bUnOKT7jx6SwmQO39rrwfVWPVNMsrgT4TGb4+mVQ6B6NuT8i5u5fRRXKOIacchdRecPNBQfsCEUamKM/BQUgSr1O4YnsdAGEmI5uoBD7BD/c2SO83XtMUL6gnsICbwAAAEkBnqV0Qn8AAAMAENaTniPGEG4kAODT0vDFziopSyCDsiOZC+MWSq4EuaGVl81voNwC1avyXWTTKlIlYPcj+slL6irN330Ii7ACAAAAaQGep2pCfwAAAwAQ3ZUFw9pDNIAI95FQuhT7Djl3xCmyyB0g8UoxEal/vSWVllub3eCqT3Pn5Fs8flx14Xl8DBS5l9lr/ye4KGi56ecRzDr5rsumEwIUM4RfWMJflh7hjh2g5M6sSCLWtwAAAIdBmqxJqEFsmUwIb//+p4QAAAMAEFMXyAFvXIIB9xBznd09gbE9/OLfSprYKS/ZTz/YmTSr+tA/gp5xdtzmsCkCBragkVpL8jPNxf4MUzXYq2zPBlt08bCl792ZdZvd+vTRTnIoroWUeJ4Z5xInjjfeUAGDTxdHznuhSyzra0+tpPSlF97TkesAAABkQZ7KRRUsK/8AAAMADV53ldkTGMxUcBx0wBDyOB8Dgf6T3iHM4Yfsw+VsHHkcOcRiU1onWfK7PHFXKjeeRi/H8MutNUJ8ce0A0dBYon1E4e/h+mTci8d9ErnuMNniJCsE7lgDpwAAAGgBnul0Qn8AAAMAESTdCCwMyPgA5XbKjPjyySir9BEcFH2ImjknvRNHiwj0v7s0Nibs+ki3d+VrXWOM4Tvfep7cHj6v+OsTmhI9mGSFTjMK1ULZWSIfN7lMLMznDk4B5rZDY0hZixSq3QAAAFgBnutqQn8AAAMAESTe1eaAK3xiKGwmUdHD5C+x4426NY9clvzT3rZN3t0UTaq/D08DT3XkeQUqy5kQ593V+JSGsWZRUpp/nnCiV14W5KwJ149u4c+ugU+BAAAAckGa8EmoQWyZTAhv//6nhAAAAwAQb5G255/P1rXOAAXJ4ZfcV1TC+bUTOxz4Dn4f5EgfNaFdDxO9ZhWifUWF4csbYjrZjoXAl2f6xmyS+VGXeAZuaG6OYqpirkKpoUXvi3j2WwmcaGhNj3fvj8nhyikNWQAAAGpBnw5FFSwr/wAAAwANXnhZL2ndRaQB0C3AV4gXEgpdH4r6Jjpgb0IijlfzFnIrQ/Wj7fxXtgmL1tYB0QF28c4VJyltC/88cNIuMY3gQIDX8pafbl9sLDHfQOWOxB+GK86r33+LptFX8L2VAAAAgAGfLXRCfwAAAwARJN/YTb78MntAFcRd2VtEf9vRjTGuqLIMsWwDBSbn9Y3+r34RoDGC5H8HMWYGjRSdEFjiFVVJjX7RQ2Y4BK7IiWizbp/WrpGRZomnBz0X+atz5R8FYDB8fhAqWD7pKdgTw5JR1tnBxaFn3eCuViAoWCOU+R+0AAAAawGfL2pCfwAAAwAQYXZj0QBSPQzbjneRvkhWlDEEgXCpnbBZdZDxi/NzGas8W1zo0TV3wwNGhqQgafwYKofUzfAQ5QANoQm4ta+r4X82MF/DkttdmIx+jxac8gIDVeGfMH55ePQoksNZVTRhAAAAcUGbNEmoQWyZTAhn//6eEAAAAwA8/sah3GQkLAB93xHTHTSnwtiuuT6aR/JBK5GeKYoF8jUguUegpYVwPEQ/odghaqhg7za5V+qgLGT8+4ktJbDp7d+ZICKniAUXOLONbxpWeZFtQNiLk8tqVday8JgQAAAAcUGfUkUVLCv/AAADAA1ed7zDADpHRpaOVQn6ZyQolTzZ75hqAMTKoZgozVXCtj0n5cN7zQsze5ouTOnx2kIKaF5iuS3i1GVd2YBBp5xXCEp9XuDmXQwFZJZ8sGu42CIRrPhFooAl50EmKXnCYAXVSJswAAAAXAGfcXRCfwAAAwARJN6qSM8fORhJdflkAEdqtf/A3m6O7L72ZfeAeUcjjIJ2TzNcytm53phD7f/198HU2KZeFHBbUjMqD/5XLkStgFtZpTGesASUe+/CbkUhiF+BAAAAWwGfc2pCfwAAAwARaF4AQec4sM/0yi3S3PGahPSgcq7iybRnlVRdgdZoC2tmdD/JIwNkDjuc0aFPHwD3qCcBq3au92jxQBKLxsRtSiykP5OVtJLkNKpm+GipbuEAAAB/QZt4SahBbJlMCFf//jhAAAADAO5qrgXkyYAjtNp58qhYNYMjkC59MaEjPOay+HsPu/7qCMV6asz6UsAwGwn7VZAd6MYyN0niE2l1wZ3BMl1xN1A8zlA0duinMHVOI9zRPCVIe8YaLcY4C5DdiuUd/HSPAn94tpnwpuPD0n4R8QAAAGtBn5ZFFSwr/wAAAwANXnfA2BAFHqfeQRcYxB4mZw02wIEn2uVAUX7BTvk1/qyovPh9j0GtnQCbJ9COXBGgYNTHTq5/O2HPj6i0z/4gxwyLTxWcezsutaPR8jmDxAv0pGHjZM2C3VpwTmZyoAAAAGABn7V0Qn8AAAMAESTeqjPXxv2S4AWHM5oVAPz1//LMfws8Crq5D9wPDqOviQYB2rvmz3GALdq/gza0XHoiECZy7mE8gv4c+/yLV/7C1GfGJgvJ7xE+1Jhm6YlAxZGqeVgAAAB8AZ+3akJ/AAADABEk3nehZ80QAjI3/JVhs9aCuPXl3U4e4l/vicp/BdNIdbGRK1FQtO/yTgEkNoEqCvk1tHZFlYZYqTBTJlYcTm/WwAILZz/Mc2+U5334A51+hbpvElyjdzKdRY7ZFuOfMvNLq2OUyCE2t+ZrutnLEEicjQAAAGhBm7lJqEFsmUwIT//98QAAAwACTfAMbuzY5mXDD+gBxZl0d+laZjCz+54QLiWEK9wRklHYD5ozCOe8LXt9l/fZPr5iRSDhjf9Qnmd5geLaIY/Im+Y6w/UqDA591vUiRkM4mKjNcyMTcAAAEu5tb292AAAAbG12aGQAAAAAAAAAAAAAAAAAAAPoAAAsRgABAAABAAAAAAAAAAAAAAAAAQAAAAAAAAAAAAAAAAAAAAEAAAAAAAAAAAAAAAAAAEAAAAAAAAAAAAAAAAAAAAAAAAAAAAAAAAAAAAAAAAACAAASGHRyYWsAAABcdGtoZAAAAAMAAAAAAAAAAAAAAAEAAAAAAAAsRgAAAAAAAAAAAAAAAAAAAAAAAQAAAAAAAAAAAAAAAAAAAAEAAAAAAAAAAAAAAAAAAEAAAAACYAAAAZAAAAAAACRlZHRzAAAAHGVsc3QAAAAAAAAAAQAALEYAAAQAAAEAAAAAEZBtZGlhAAAAIG1kaGQAAAAAAAAAAAAAAAAAADwAAAKoAFXEAAAAAAAtaGRscgAAAAAAAAAAdmlkZQAAAAAAAAAAAAAAAFZpZGVvSGFuZGxlcgAAABE7bWluZgAAABR2bWhkAAAAAQAAAAAAAAAAAAAAJGRpbmYAAAAcZHJlZgAAAAAAAAABAAAADHVybCAAAAABAAAQ+3N0YmwAAACXc3RzZAAAAAAAAAABAAAAh2F2YzEAAAAAAAAAAQAAAAAAAAAAAAAAAAAAAAACYAGQAEgAAABIAAAAAAAAAAEAAAAAAAAAAAAAAAAAAAAAAAAAAAAAAAAAAAAAAAAAAAAY//8AAAAxYXZjQwFkAB7/4QAYZ2QAHqzZQJgzoQAAAwABAAADADwPFi2WAQAGaOvjyyLAAAAAGHN0dHMAAAAAAAAAAQAAAVQAAAIAAAAAGHN0c3MAAAAAAAAAAgAAAAEAAAD7AAAKmGN0dHMAAAAAAAABUQAAAAEAAAQAAAAAAQAACgAAAAABAAAEAAAAAAEAAAAAAAAAAQAAAgAAAAABAAAKAAAAAAEAAAQAAAAAAQAAAAAAAAABAAACAAAAAAEAAAoAAAAAAQAABAAAAAABAAAAAAAAAAEAAAIAAAAAAQAACgAAAAABAAAEAAAAAAEAAAAAAAAAAQAAAgAAAAABAAAKAAAAAAEAAAQAAAAAAQAAAAAAAAABAAACAAAAAAEAAAYAAAAAAQAAAgAAAAABAAAKAAAAAAEAAAQAAAAAAQAAAAAAAAABAAACAAAAAAEAAAoAAAAAAQAABAAAAAABAAAAAAAAAAEAAAIAAAAAAQAACgAAAAABAAAEAAAAAAEAAAAAAAAAAQAAAgAAAAABAAAGAAAAAAEAAAIAAAAAAQAABAAAAAABAAAGAAAAAAEAAAIAAAAAAQAACgAAAAABAAAEAAAAAAEAAAAAAAAAAQAAAgAAAAABAAAKAAAAAAEAAAQAAAAAAQAAAAAAAAABAAACAAAAAAEAAAoAAAAAAQAABAAAAAABAAAAAAAAAAEAAAIAAAAAAQAACgAAAAABAAAEAAAAAAEAAAAAAAAAAQAAAgAAAAABAAAKAAAAAAEAAAQAAAAAAQAAAAAAAAABAAACAAAAAAEAAAoAAAAAAQAABAAAAAABAAAAAAAAAAEAAAIAAAAAAQAACgAAAAABAAAEAAAAAAEAAAAAAAAAAQAAAgAAAAABAAAKAAAAAAEAAAQAAAAAAQAAAAAAAAABAAACAAAAAAEAAAoAAAAAAQAABAAAAAABAAAAAAAAAAEAAAIAAAAAAQAACgAAAAABAAAEAAAAAAEAAAAAAAAAAQAAAgAAAAABAAAGAAAAAAEAAAIAAAAAAQAACgAAAAABAAAEAAAAAAEAAAAAAAAAAQAAAgAAAAABAAAKAAAAAAEAAAQAAAAAAQAAAAAAAAABAAACAAAAAAEAAAoAAAAAAQAABAAAAAABAAAAAAAAAAEAAAIAAAAAAQAACgAAAAABAAAEAAAAAAEAAAAAAAAAAQAAAgAAAAABAAAKAAAAAAEAAAQAAAAAAQAAAAAAAAABAAACAAAAAAEAAAoAAAAAAQAABAAAAAABAAAAAAAAAAEAAAIAAAAAAQAACgAAAAABAAAEAAAAAAEAAAAAAAAAAQAAAgAAAAABAAAKAAAAAAEAAAQAAAAAAQAAAAAAAAABAAACAAAAAAEAAAoAAAAAAQAABAAAAAABAAAAAAAAAAEAAAIAAAAAAQAACgAAAAABAAAEAAAAAAEAAAAAAAAAAQAAAgAAAAABAAAKAAAAAAEAAAQAAAAAAQAAAAAAAAABAAACAAAAAAEAAAoAAAAAAQAABAAAAAABAAAAAAAAAAEAAAIAAAAAAQAACgAAAAABAAAEAAAAAAEAAAAAAAAAAQAAAgAAAAABAAAKAAAAAAEAAAQAAAAAAQAAAAAAAAABAAACAAAAAAEAAAoAAAAAAQAABAAAAAABAAAAAAAAAAEAAAIAAAAAAQAACgAAAAABAAAEAAAAAAEAAAAAAAAAAQAAAgAAAAABAAAKAAAAAAEAAAQAAAAAAQAAAAAAAAABAAACAAAAAAEAAAoAAAAAAQAABAAAAAABAAAAAAAAAAEAAAIAAAAAAQAACgAAAAABAAAEAAAAAAEAAAAAAAAAAQAAAgAAAAABAAAKAAAAAAEAAAQAAAAAAQAAAAAAAAABAAACAAAAAAEAAAoAAAAAAQAABAAAAAABAAAAAAAAAAEAAAIAAAAAAQAACgAAAAABAAAEAAAAAAEAAAAAAAAAAQAAAgAAAAABAAAKAAAAAAEAAAQAAAAAAQAAAAAAAAABAAACAAAAAAEAAAoAAAAAAQAABAAAAAABAAAAAAAAAAEAAAIAAAAAAQAACgAAAAABAAAEAAAAAAEAAAAAAAAAAQAAAgAAAAABAAAKAAAAAAEAAAQAAAAAAQAAAAAAAAABAAACAAAAAAEAAAoAAAAAAQAABAAAAAABAAAAAAAAAAEAAAIAAAAAAQAACgAAAAABAAAEAAAAAAEAAAAAAAAAAQAAAgAAAAABAAAKAAAAAAEAAAQAAAAAAQAAAAAAAAABAAACAAAAAAEAAAoAAAAAAQAABAAAAAABAAAAAAAAAAEAAAIAAAAAAQAACgAAAAABAAAEAAAAAAEAAAAAAAAAAQAAAgAAAAABAAAIAAAAAAIAAAIAAAAAAQAACgAAAAABAAAEAAAAAAEAAAAAAAAAAQAAAgAAAAABAAAIAAAAAAIAAAIAAAAAAQAACgAAAAABAAAEAAAAAAEAAAAAAAAAAQAAAgAAAAABAAAKAAAAAAEAAAQAAAAAAQAAAAAAAAABAAACAAAAAAEAAAoAAAAAAQAABAAAAAABAAAAAAAAAAEAAAIAAAAAAQAABAAAAAABAAAKAAAAAAEAAAQAAAAAAQAAAAAAAAABAAACAAAAAAEAAAoAAAAAAQAABAAAAAABAAAAAAAAAAEAAAIAAAAAAQAACgAAAAABAAAEAAAAAAEAAAAAAAAAAQAAAgAAAAABAAAKAAAAAAEAAAQAAAAAAQAAAAAAAAABAAACAAAAAAEAAAoAAAAAAQAABAAAAAABAAAAAAAAAAEAAAIAAAAAAgAABAAAAAABAAAKAAAAAAEAAAQAAAAAAQAAAAAAAAABAAACAAAAAAEAAAoAAAAAAQAABAAAAAABAAAAAAAAAAEAAAIAAAAAAQAACgAAAAABAAAEAAAAAAEAAAAAAAAAAQAAAgAAAAABAAAKAAAAAAEAAAQAAAAAAQAAAAAAAAABAAACAAAAAAEAAAoAAAAAAQAABAAAAAABAAAAAAAAAAEAAAIAAAAAAQAACgAAAAABAAAEAAAAAAEAAAAAAAAAAQAAAgAAAAABAAAKAAAAAAEAAAQAAAAAAQAAAAAAAAABAAACAAAAAAEAAAoAAAAAAQAABAAAAAABAAAAAAAAAAEAAAIAAAAAAQAACgAAAAABAAAEAAAAAAEAAAAAAAAAAQAAAgAAAAABAAAKAAAAAAEAAAQAAAAAAQAAAAAAAAABAAACAAAAAAEAAAoAAAAAAQAABAAAAAABAAAAAAAAAAEAAAIAAAAAAQAACgAAAAABAAAEAAAAAAEAAAAAAAAAAQAAAgAAAAABAAAKAAAAAAEAAAQAAAAAAQAAAAAAAAABAAACAAAAAAEAAAoAAAAAAQAABAAAAAABAAAAAAAAAAEAAAIAAAAAAQAACgAAAAABAAAEAAAAAAEAAAAAAAAAAQAAAgAAAAABAAAKAAAAAAEAAAQAAAAAAQAAAAAAAAABAAACAAAAAAEAAAoAAAAAAQAABAAAAAABAAAAAAAAAAEAAAIAAAAAAQAACgAAAAABAAAEAAAAAAEAAAAAAAAAAQAAAgAAAAABAAAKAAAAAAEAAAQAAAAAAQAAAAAAAAABAAACAAAAAAEAAAoAAAAAAQAABAAAAAABAAAAAAAAAAEAAAIAAAAAAQAACgAAAAABAAAEAAAAAAEAAAAAAAAAAQAAAgAAAAABAAAKAAAAAAEAAAQAAAAAAQAAAAAAAAABAAACAAAAAAEAAAQAAAAAHHN0c2MAAAAAAAAAAQAAAAEAAAFUAAAAAQAABWRzdHN6AAAAAAAAAAAAAAFUAAAJjgAAATgAAABWAAAANAAAADAAAADbAAAAUQAAACwAAAA6AAAA8wAAAEwAAAA3AAAAMgAAAOUAAAA8AAAARAAAAEAAAAElAAAAfAAAAEIAAABWAAABSAAAAHIAAADHAAAAjwAAAIQAAABrAAAAwwAAAHoAAABqAAAATgAAAQEAAACkAAAAewAAAHcAAAEpAAAAfwAAAN4AAAEQAAAAcgAAASEAAACRAAAAlgAAAKwAAAFGAAAA7AAAAKMAAACsAAAA4QAAANwAAACNAAAApQAAAPEAAAC4AAAArAAAANUAAAFYAAAAyQAAAJ8AAADEAAABOgAAANQAAADaAAAA0QAAATIAAAC2AAAAqQAAAIIAAAEMAAAA2QAAAMEAAACTAAABGgAAAMIAAAClAAAAngAAAQ0AAACtAAAAlAAAAI0AAAEaAAAAgwAAATQAAADBAAAAxQAAAJoAAAEkAAAAnAAAAN4AAACfAAABTAAAAPAAAADbAAAAuwAAAP0AAAC6AAAAiQAAAIYAAAECAAAAngAAAHEAAAC0AAABEgAAAM8AAAC3AAAA4gAAAToAAAD/AAAAzAAAAMwAAAEWAAAA7wAAAJ4AAAC9AAABJQAAAL4AAAC6AAAArAAAARIAAAClAAAAtwAAALsAAAFkAAAA1wAAAJoAAADEAAABnQAAAL8AAAClAAAAuwAAAUsAAADbAAAAvgAAAJoAAAEDAAAAwAAAALEAAACmAAAA9AAAAJ4AAACcAAAAkAAAAR4AAACnAAAAYgAAAHIAAADMAAAAqwAAAJwAAACcAAABKgAAALoAAACuAAAAxwAAAVEAAADaAAAAzQAAANwAAAFxAAAA5QAAALUAAADVAAABegAAAQIAAADMAAAA1wAAATwAAAEeAAAAzwAAAOcAAAFNAAAA8AAAANcAAACcAAABSAAAANIAAACbAAAAqAAAAV8AAAClAAAAnAAAAJkAAAFoAAAA0wAAAIAAAACNAAAA+gAAAJgAAACOAAAAbgAAARcAAACSAAAAfgAAAG8AAAE4AAAAbQAAAFsAAABnAAAA6QAAAJ0AAABuAAAAZAAAASEAAAB3AAAAWQAAADkAAAEHAAAAXwAAAD0AAAFKAAAAqgAAAFYAAACIAAAAzAAAAI0AAACJAAAAygAAAMIAAACeAAAAggAAATwAAACeAAAAvAAAAH8AAAD+AAAAswAAAIIAAAB+AAAApQAAAToAAAB/AAAAqAAAAHkAAAFCAAAAqgAAAHUAAACDAAAA2wAAAJMAAACHAAAAfQAAAQsAAACdAAAAkgAAAHgAAAEfAAAAyQAAAKQAAACoAAAAqgAACVgAAAFVAAAArgAAAIwAAACEAAABBgAAAJAAAACXAAAAjgAAAPEAAACCAAAAhAAAAJoAAAE1AAAAgQAAAIcAAACAAAABGwAAAIIAAAByAAAAXQAAAOkAAABjAAAAgwAAAIUAAAEfAAAAiAAAAKgAAACYAAABIwAAAJwAAACbAAAAhQAAAPIAAAB1AAAAhAAAAJMAAADoAAAAhgAAAIgAAACDAAABMAAAAFwAAACWAAAAiQAAAO8AAAB9AAAAlQAAAKAAAAEFAAAAgAAAAG8AAACaAAABAgAAAJAAAAB9AAAAsAAAAPkAAACBAAAAiwAAAJcAAADxAAAAegAAAIsAAACHAAAAmAAAAF8AAACDAAAAiQAAAIcAAAB5AAAATQAAAG0AAACLAAAAaAAAAGwAAABcAAAAdgAAAG4AAACEAAAAbwAAAHUAAAB1AAAAYAAAAF8AAACDAAAAbwAAAGQAAACAAAAAbAAAABRzdGNvAAAAAAAAAAEAAAAwAAAAYnVkdGEAAABabWV0YQAAAAAAAAAhaGRscgAAAAAAAAAAbWRpcmFwcGwAAAAAAAAAAAAAAAAtaWxzdAAAACWpdG9vAAAAHWRhdGEAAAABAAAAAExhdmY1OC4yOS4xMDA=\" type=\"video/mp4\" />\n",
              "             </video>"
            ]
          },
          "metadata": {}
        }
      ],
      "source": [
        "import glob\n",
        "import io\n",
        "import base64\n",
        "import imageio\n",
        "from IPython.display import HTML, display\n",
        "from gym.wrappers.monitoring.video_recorder import VideoRecorder\n",
        "\n",
        "def show_video_of_model(agent, env_name):\n",
        "    env = gym.make(env_name, render_mode='rgb_array')\n",
        "    state, _ = env.reset()\n",
        "    done = False\n",
        "    frames = []\n",
        "    while not done:\n",
        "        frame = env.render()\n",
        "        frames.append(frame)\n",
        "        action = agent.act(state)\n",
        "        state, reward, done, _, _ = env.step(action.item())\n",
        "    env.close()\n",
        "    imageio.mimsave('video.mp4', frames, fps=30)\n",
        "\n",
        "show_video_of_model(agent, 'LunarLander-v2')\n",
        "\n",
        "def show_video():\n",
        "    mp4list = glob.glob('*.mp4')\n",
        "    if len(mp4list) > 0:\n",
        "        mp4 = mp4list[0]\n",
        "        video = io.open(mp4, 'r+b').read()\n",
        "        encoded = base64.b64encode(video)\n",
        "        display(HTML(data='''<video alt=\"test\" autoplay\n",
        "                loop controls style=\"height: 400px;\">\n",
        "                <source src=\"data:video/mp4;base64,{0}\" type=\"video/mp4\" />\n",
        "             </video>'''.format(encoded.decode('ascii'))))\n",
        "    else:\n",
        "        print(\"Could not find video\")\n",
        "\n",
        "show_video()"
      ]
    }
  ],
  "metadata": {
    "colab": {
      "provenance": [],
      "include_colab_link": true
    },
    "kernelspec": {
      "display_name": "Python 3",
      "name": "python3"
    },
    "language_info": {
      "name": "python"
    }
  },
  "nbformat": 4,
  "nbformat_minor": 0
}